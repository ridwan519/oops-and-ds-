{
 "cells": [
  {
   "cell_type": "markdown",
   "id": "25a98637-553f-4bcc-8375-998edd53b397",
   "metadata": {},
   "source": [
    "<center>\n",
    "    <div style=\"\n",
    "        background: linear-gradient(90deg, #8e44ad, #3498db);\n",
    "        padding: 30px 20px;\n",
    "        border-radius: 25px;\n",
    "        box-shadow: 0 7px 6px rgba(0, 0, 0, 0.3);\n",
    "        display: inline-block;\n",
    "        border: 2px solid #CCCCFF;\n",
    "        max-width: 90%;\n",
    "    \">\n",
    "        <span style=\"\n",
    "            color: #FFBF00;\n",
    "            font-size: 25px;\n",
    "            font-family: Cooper Black;\n",
    "            letter-spacing: 2px;\n",
    "            line-height: 1.4;\n",
    "            font-weight: bold;\n",
    "            text-transform: uppercase;\n",
    "            text-shadow: 3px 3px 8px rgba(0, 0, 0, 0.5);\n",
    "        \">\n",
    "            LAB NO 08\n",
    "        </span>\n",
    "    </div>\n",
    "</center>  </div>\n",
    "</center>\n",
    "  </div>\n",
    "</center>\n"
   ]
  },
  {
   "cell_type": "markdown",
   "id": "85048d83-e2b4-40b3-938b-2f0ab5585df3",
   "metadata": {},
   "source": [
    "<span style=\"color: #000000;\n",
    "font-size: 44px;\n",
    "transition: color 0.3s;\">&#x21DD; </span>\n",
    "<span style=\"color: #ff0000;\n",
    "    font-family: Arial Black;\n",
    "font-size: 35px; font-weight: bold; \n",
    "text-shadow: 0px 4px 2px rgb(0, 0, 0);\">\n",
    "    Lab REPORT Tasks :</span>"
   ]
  },
  {
   "attachments": {
    "8fbb5bd2-9534-4b09-a55e-56f33dc8fb62.PNG": {
     "image/png": "[encoded data removed]"
    }
   },
   "cell_type": "markdown",
   "id": "cb20922f-c38e-4b5f-a7d8-d685e975521c",
   "metadata": {},
   "source": [
    "![lab 888.PNG](attachment:8fbb5bd2-9534-4b09-a55e-56f33dc8fb62.PNG)"
   ]
  },
  {
   "cell_type": "code",
   "execution_count": 3,
   "id": "97fab1af-ce80-484c-a130-88c444fc7109",
   "metadata": {},
   "outputs": [],
   "source": [
    "# a. Rectangle Class\n",
    "class Rectangle:\n",
    "    def __init__(self, length, width):\n",
    "        self.length = length\n",
    "        self.width = width\n",
    "\n",
    "    def area(self):\n",
    "        return self.length * self.width\n",
    "\n",
    "# b. Square Class (inherits from Rectangle)\n",
    "class Square(Rectangle):\n",
    "    def __init__(self, side_length):\n",
    "        # A square is a rectangle where length = width\n",
    "        super().__init__(side_length, side_length)\n",
    "\n",
    "# c. Cube Class (inherits from Square and extends the functionality)\n",
    "class Cube(Square):\n",
    "    def __init__(self, side_length):\n",
    "        super().__init__(side_length)\n",
    "\n",
    "    # Surface area of a cube = 6 * side^2\n",
    "    def surface_area(self):\n",
    "        return 6 * self.length ** 2\n",
    "\n",
    "    # Volume of a cube = side^3\n",
    "    def volume(self):\n",
    "        return self.length ** 3\n"
   ]
  },
  {
   "cell_type": "code",
   "execution_count": 4,
   "id": "60cb81e4-006a-4f17-ac57-630fc1abca3b",
   "metadata": {},
   "outputs": [],
   "source": [
    "\n",
    "# d. Create two instances of Cube and call both instance methods\n",
    "cube1 = Cube(3)  # Cube with side length 3\n",
    "cube2 = Cube(5)  # Cube with side length 5\n",
    "\n"
   ]
  },
  {
   "cell_type": "code",
   "execution_count": 5,
   "id": "8d18d35f-8d93-4992-b73f-7bdd3c49a344",
   "metadata": {},
   "outputs": [
    {
     "name": "stdout",
     "output_type": "stream",
     "text": [
      "Cube 1 Surface Area: 54\n",
      "Cube 1 Volume: 27\n"
     ]
    }
   ],
   "source": [
    "# Calling methods on cube1\n",
    "print(f\"Cube 1 Surface Area: {cube1.surface_area()}\")  # 6 * 3^2 = 54\n",
    "print(f\"Cube 1 Volume: {cube1.volume()}\")  # 3^3 = 27\n"
   ]
  },
  {
   "cell_type": "code",
   "execution_count": 6,
   "id": "24d28e64-c029-49b0-96f6-629b3469e53d",
   "metadata": {},
   "outputs": [
    {
     "name": "stdout",
     "output_type": "stream",
     "text": [
      "Cube 2 Surface Area: 150\n",
      "Cube 2 Volume: 125\n"
     ]
    }
   ],
   "source": [
    "\n",
    "# Calling methods on cube2\n",
    "print(f\"Cube 2 Surface Area: {cube2.surface_area()}\")  # 6 * 5^2 = 150\n",
    "print(f\"Cube 2 Volume: {cube2.volume()}\")  # 5^3 = 125\n"
   ]
  }
 ],
 "metadata": {
  "kernelspec": {
   "display_name": "Python 3 (ipykernel)",
   "language": "python",
   "name": "python3"
  },
  "language_info": {
   "codemirror_mode": {
    "name": "ipython",
    "version": 3
   },
   "file_extension": ".py",
   "mimetype": "text/x-python",
   "name": "python",
   "nbconvert_exporter": "python",
   "pygments_lexer": "ipython3",
   "version": "3.12.4"
  }
 },
 "nbformat": 4,
 "nbformat_minor": 5
}
