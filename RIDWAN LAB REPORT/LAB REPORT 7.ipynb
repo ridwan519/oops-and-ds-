{
 "cells": [
  {
   "cell_type": "markdown",
   "id": "799add04-25ba-434c-a0ee-46944cd173e4",
   "metadata": {},
   "source": [
    "<center>\n",
    "    <div style=\"\n",
    "        background: linear-gradient(90deg, #8e44ad, #3498db);\n",
    "        padding: 30px 20px;\n",
    "        border-radius: 25px;\n",
    "        box-shadow: 0 7px 6px rgba(0, 0, 0, 0.3);\n",
    "        display: inline-block;\n",
    "        border: 2px solid #CCCCFF;\n",
    "        max-width: 90%;\n",
    "    \">\n",
    "        <span style=\"\n",
    "            color: #FFBF00;\n",
    "            font-size: 25px;\n",
    "            font-family: Cooper Black;\n",
    "            letter-spacing: 2px;\n",
    "            line-height: 1.4;\n",
    "            font-weight: bold;\n",
    "            text-transform: uppercase;\n",
    "            text-shadow: 3px 3px 8px rgba(0, 0, 0, 0.5);\n",
    "        \">\n",
    "            LAB NO 8\n",
    "        </span>\n",
    "    </div>\n",
    "</center>  </div>\n",
    "</center>\n",
    "  </div>\n",
    "</center>\n"
   ]
  },
  {
   "cell_type": "markdown",
   "id": "fdd48a6c-3f12-4abb-af3d-819a9f1dc649",
   "metadata": {},
   "source": [
    "<span style=\"color: #000000;\n",
    "font-size: 44px;\n",
    "transition: color 0.3s;\">&#x21DD; </span>\n",
    "<span style=\"color: #ff0000;\n",
    "    font-family: Arial Black;\n",
    "font-size: 35px; font-weight: bold; \n",
    "text-shadow: 0px 4px 2px rgb(0, 0, 0);\">\n",
    "    Lab REPORT Tasks :</span>"
   ]
  },
  {
   "attachments": {
    "c9e975e7-6109-49d1-90f7-a3bdb4462655.PNG": {
     "image/png": "[encoded data removed]"
    }
   },
   "cell_type": "markdown",
   "id": "89346259-6253-4104-bae1-83072cac7931",
   "metadata": {},
   "source": [
    "![LAB 7.PNG](attachment:c9e975e7-6109-49d1-90f7-a3bdb4462655.PNG)"
   ]
  },
  {
   "cell_type": "code",
   "execution_count": 1,
   "id": "a7806653-8be0-439d-a3c9-061d766543bb",
   "metadata": {},
   "outputs": [],
   "source": [
    "# Rectangle class\n",
    "class Rectangle:\n",
    "    def __init__(self, width, height):\n",
    "        self.width = width\n",
    "        self.height = height\n",
    "    \n",
    "    def area(self):\n",
    "        return self.width * self.height\n",
    "    \n",
    "    def perimeter(self):\n",
    "        return 2 * (self.width + self.height)\n",
    "\n",
    "# Square class inherited from Rectangle\n",
    "class Square(Rectangle):\n",
    "    def __init__(self, side):\n",
    "        # Call the parent class constructor with side as both width and height\n",
    "        super().__init__(side, side)\n",
    "\n"
   ]
  },
  {
   "cell_type": "code",
   "execution_count": 2,
   "id": "d5f9d927-2510-4ba6-a267-7b99389c008a",
   "metadata": {},
   "outputs": [],
   "source": [
    "# Create two instances of the Square class\n",
    "square1 = Square(4)  # side = 4\n",
    "square2 = Square(6)  # side = 6\n",
    "\n"
   ]
  },
  {
   "cell_type": "code",
   "execution_count": 3,
   "id": "d9870080-02da-4ad6-9a1a-8c5b6a1e8d2e",
   "metadata": {},
   "outputs": [
    {
     "name": "stdout",
     "output_type": "stream",
     "text": [
      "Square 1 - Area: 16, Perimeter: 16\n",
      "Square 2 - Area: 36, Perimeter: 24\n"
     ]
    }
   ],
   "source": [
    "# Calling instance methods\n",
    "print(f\"Square 1 - Area: {square1.area()}, Perimeter: {square1.perimeter()}\")\n",
    "print(f\"Square 2 - Area: {square2.area()}, Perimeter: {square2.perimeter()}\")\n"
   ]
  },
  {
   "cell_type": "code",
   "execution_count": null,
   "id": "858ad3af-3ab9-40a9-b98e-8c6dd6e59d8f",
   "metadata": {},
   "outputs": [],
   "source": []
  }
 ],
 "metadata": {
  "kernelspec": {
   "display_name": "Python 3 (ipykernel)",
   "language": "python",
   "name": "python3"
  },
  "language_info": {
   "codemirror_mode": {
    "name": "ipython",
    "version": 3
   },
   "file_extension": ".py",
   "mimetype": "text/x-python",
   "name": "python",
   "nbconvert_exporter": "python",
   "pygments_lexer": "ipython3",
   "version": "3.12.4"
  }
 },
 "nbformat": 4,
 "nbformat_minor": 5
}
