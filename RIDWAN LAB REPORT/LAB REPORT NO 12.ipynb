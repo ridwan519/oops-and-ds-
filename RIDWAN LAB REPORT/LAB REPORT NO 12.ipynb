{
 "cells": [
  {
   "cell_type": "markdown",
   "id": "cce0a403-c7df-4f4d-9388-093bacee83b1",
   "metadata": {},
   "source": [
    "<center>\n",
    "    <div style=\"\n",
    "        background: linear-gradient(90deg, #8e44ad, #3498db);\n",
    "        padding: 30px 20px;\n",
    "        border-radius: 25px;\n",
    "        box-shadow: 0 7px 6px rgba(0, 0, 0, 0.3);\n",
    "        display: inline-block;\n",
    "        border: 2px solid #CCCCFF;\n",
    "        max-width: 90%;\n",
    "    \">\n",
    "        <span style=\"\n",
    "            color: #FFBF00;\n",
    "            font-size: 25px;\n",
    "            font-family: Cooper Black;\n",
    "            letter-spacing: 2px;\n",
    "            line-height: 1.4;\n",
    "            font-weight: bold;\n",
    "            text-transform: uppercase;\n",
    "            text-shadow: 3px 3px 8px rgba(0, 0, 0, 0.5);\n",
    "        \">\n",
    "            LAB NO 12\n",
    "        </span>\n",
    "    </div>\n",
    "</center>  </div>\n",
    "</center>\n",
    "  </div>\n",
    "</center>\n"
   ]
  },
  {
   "cell_type": "markdown",
   "id": "f5d8e1e6-35c6-49b8-81ae-ba5a43c05830",
   "metadata": {},
   "source": [
    "<span style=\"color: #000000;\n",
    "font-size: 44px;\n",
    "transition: color 0.3s;\">&#x21DD; </span>\n",
    "<span style=\"color: #ff0000;\n",
    "    font-family: Arial Black;\n",
    "font-size: 35px; font-weight: bold; \n",
    "text-shadow: 0px 4px 2px rgb(0, 0, 0);\">\n",
    "    Lab REPORT Tasks :</span>"
   ]
  },
  {
   "attachments": {
    "22511831-3d08-43a2-9aff-c9aeacb79bf7.PNG": {
     "image/png": "[encoded data removed]"
    }
   },
   "cell_type": "markdown",
   "id": "18b1f48e-22b0-4be9-a0a5-1d20a30a36a6",
   "metadata": {},
   "source": [
    "![LAB 11 1111111.PNG](attachment:22511831-3d08-43a2-9aff-c9aeacb79bf7.PNG)"
   ]
  },
  {
   "cell_type": "markdown",
   "id": "d560a610-8d29-43fd-803b-5b7a287328ad",
   "metadata": {},
   "source": [
    "<center><span style=\"color:blue; \n",
    "font-family:Algerian; \n",
    "font-weight:bold;\n",
    "font-size:35px;\">1. LIST QUEUE:  </span></center>"
   ]
  },
  {
   "cell_type": "code",
   "execution_count": 6,
   "id": "3a0ee134-15bd-49c9-a212-a78b3c56acfe",
   "metadata": {},
   "outputs": [],
   "source": [
    "class Queue:\n",
    "    def __init__(self):\n",
    "        self.items = []\n",
    "\n",
    "    def is_empty(self):\n",
    "        return len(self.items) == 0\n",
    "\n",
    "    def enqueue(self, item):\n",
    "        self.items.append(item)\n",
    "\n",
    "    def dequeue(self):\n",
    "        if not self.is_empty():\n",
    "            return self.items.pop(0)\n",
    "        else:\n",
    "            print(\"Queue is empty. Cannot dequeue.\")\n",
    "            return None\n",
    "\n"
   ]
  },
  {
   "cell_type": "code",
   "execution_count": 7,
   "id": "306cd647-60e4-45b9-a471-753fac0864df",
   "metadata": {},
   "outputs": [
    {
     "name": "stdout",
     "output_type": "stream",
     "text": [
      "Dequeue: 1\n",
      "Dequeue: 2\n",
      "Is the queue empty? False\n"
     ]
    }
   ],
   "source": [
    "# Example usage\n",
    "if __name__ == \"__main__\":\n",
    "    my_queue = Queue()\n",
    "    my_queue.enqueue(1)\n",
    "    my_queue.enqueue(2)\n",
    "    my_queue.enqueue(3)\n",
    "\n",
    "    print(\"Dequeue:\", my_queue.dequeue())  # Output: Dequeue: 1\n",
    "    print(\"Dequeue:\", my_queue.dequeue())  # Output: Dequeue: 2\n",
    "\n",
    "    print(\"Is the queue empty?\", my_queue.is_empty())  # Output: Is the queue empty? False"
   ]
  },
  {
   "cell_type": "markdown",
   "id": "c73b30a8-9a42-42ef-8a21-692f9a45be95",
   "metadata": {},
   "source": [
    "<center><span style=\"color:blue; \n",
    "font-family:Algerian; \n",
    "font-weight:bold;\n",
    "font-size:35px;\">2. DEQUE QUEUE:   </span></center>"
   ]
  },
  {
   "cell_type": "code",
   "execution_count": 8,
   "id": "fae98c1c-8609-4e99-9d0e-a37dcfdb7c3e",
   "metadata": {},
   "outputs": [],
   "source": [
    "from collections import deque\n",
    "\n",
    "class DequeQueue:\n",
    "    def __init__(self):\n",
    "        self.items = deque()\n",
    "\n",
    "    def is_empty(self):\n",
    "        return len(self.items) == 0\n",
    "\n",
    "    def enqueue(self, item):\n",
    "        self.items.append(item)\n",
    "\n",
    "    def dequeue(self):\n",
    "        if not self.is_empty():\n",
    "            return self.items.popleft()\n",
    "        else:\n",
    "            print(\"Queue is empty. Cannot dequeue.\")\n",
    "            return None\n",
    "\n"
   ]
  },
  {
   "cell_type": "code",
   "execution_count": 12,
   "id": "b89f5f57-8b57-42c5-85b1-df9de7214119",
   "metadata": {},
   "outputs": [
    {
     "name": "stdout",
     "output_type": "stream",
     "text": [
      "Dequeue: 1\n",
      "Dequeue: 2\n",
      "Is the queue empty? False\n"
     ]
    }
   ],
   "source": [
    "# Example usage\n",
    "if __name__ == \"__main__\":\n",
    "    my_queue = DequeQueue()\n",
    "    my_queue.enqueue(1)\n",
    "    my_queue.enqueue(2)\n",
    "    my_queue.enqueue(3)\n",
    "\n",
    "    print(\"Dequeue:\", my_queue.dequeue())  # Output: Dequeue: 1\n",
    "    print(\"Dequeue:\", my_queue.dequeue())  # Output: Dequeue: 2\n",
    "\n",
    "    print(\"Is the queue empty?\", my_queue.is_empty())  # Output: Is the queue empty? False"
   ]
  },
  {
   "cell_type": "markdown",
   "id": "9577b2c6-9e17-4a3d-b86d-7ef9afe11db4",
   "metadata": {},
   "source": [
    "<center><span style=\"color:blue; \n",
    "font-family:Algerian; \n",
    "font-weight:bold;\n",
    "font-size:35px;\">3. NODE BASE QUEUE:  </span></center>"
   ]
  },
  {
   "cell_type": "code",
   "execution_count": 10,
   "id": "d05c5ae6-c5f1-4ac3-8c89-7a2922bb42c3",
   "metadata": {},
   "outputs": [],
   "source": [
    "class Node:\n",
    "    def __init__(self, data=None):\n",
    "        self.data = data\n",
    "        self.next = None\n",
    "\n",
    "class NodeQueue:\n",
    "    def __init__(self):\n",
    "        self.front = None\n",
    "        self.rear = None\n",
    "\n",
    "    def is_empty(self):\n",
    "        return self.front is None\n",
    "\n",
    "    def enqueue(self, data):\n",
    "        new_node = Node(data)\n",
    "        if self.rear is None:\n",
    "            self.front = new_node\n",
    "            self.rear = new_node\n",
    "        else:\n",
    "            self.rear.next = new_node\n",
    "            self.rear = new_node\n",
    "\n",
    "    def dequeue(self):\n",
    "        if self.is_empty():\n",
    "            print(\"Queue is empty. Cannot dequeue.\")\n",
    "            return None\n",
    "        removed_data = self.front.data\n",
    "        self.front = self.front.next\n",
    "        if self.front is None:\n",
    "            self.rear = None\n",
    "        return removed_data\n",
    "\n"
   ]
  },
  {
   "cell_type": "code",
   "execution_count": 13,
   "id": "c5b8acf3-a6f5-4481-a801-40cb2568650a",
   "metadata": {},
   "outputs": [
    {
     "name": "stdout",
     "output_type": "stream",
     "text": [
      "Dequeue: 1\n",
      "Dequeue: 2\n",
      "Is the queue empty? False\n"
     ]
    }
   ],
   "source": [
    "# Example usage\n",
    "my_node_queue = NodeQueue()\n",
    "my_node_queue.enqueue(1)\n",
    "my_node_queue.enqueue(2)\n",
    "my_node_queue.enqueue(3)\n",
    "\n",
    "print(\"Dequeue:\", my_node_queue.dequeue())\n",
    "print(\"Dequeue:\", my_node_queue.dequeue())\n",
    "print(\"Is the queue empty?\", my_node_queue.is_empty())"
   ]
  },
  {
   "cell_type": "code",
   "execution_count": null,
   "id": "279e2236-50a0-4def-8951-67456467b986",
   "metadata": {},
   "outputs": [],
   "source": []
  }
 ],
 "metadata": {
  "kernelspec": {
   "display_name": "Python 3 (ipykernel)",
   "language": "python",
   "name": "python3"
  },
  "language_info": {
   "codemirror_mode": {
    "name": "ipython",
    "version": 3
   },
   "file_extension": ".py",
   "mimetype": "text/x-python",
   "name": "python",
   "nbconvert_exporter": "python",
   "pygments_lexer": "ipython3",
   "version": "3.12.4"
  }
 },
 "nbformat": 4,
 "nbformat_minor": 5
}
