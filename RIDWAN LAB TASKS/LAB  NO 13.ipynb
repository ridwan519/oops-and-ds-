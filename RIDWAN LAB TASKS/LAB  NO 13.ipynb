{
 "cells": [
  {
   "cell_type": "markdown",
   "id": "0950a1ed-f171-4886-92f7-aa08cb736502",
   "metadata": {},
   "source": [
    "<center>\n",
    "    <div style=\"\n",
    "        background: linear-gradient(90deg, #8e44ad, #3498db);\n",
    "        padding: 30px 20px;\n",
    "        border-radius: 25px;\n",
    "        box-shadow: 0 7px 6px rgba(0, 0, 0, 0.3);\n",
    "        display: inline-block;\n",
    "        border: 2px solid #CCCCFF;\n",
    "        max-width: 90%;\n",
    "    \">\n",
    "        <span style=\"\n",
    "            color: #FFBF00;\n",
    "            font-size: 25px;\n",
    "            font-family: Cooper Black;\n",
    "            letter-spacing: 2px;\n",
    "            line-height: 1.4;\n",
    "            font-weight: bold;\n",
    "            text-transform: uppercase;\n",
    "            text-shadow: 3px 3px 8px rgba(0, 0, 0, 0.5);\n",
    "        \">\n",
    "            LAB NO 13\n",
    "        </span>\n",
    "    </div>\n",
    "</center>  </div>\n",
    "</center>\n",
    "  </div>\n",
    "</center>\n"
   ]
  },
  {
   "cell_type": "markdown",
   "id": "a840d01b-2a49-429e-ba20-d2436dc92cb2",
   "metadata": {},
   "source": [
    "<span style=\"color: #000000;\n",
    "font-size: 44px;\n",
    "transition: color 0.3s;\">&#x21DD; </span>\n",
    "<span style=\"color: #ff0000;\n",
    "    font-family: Arial Black;\n",
    "font-size: 35px; font-weight: bold; \n",
    "text-shadow: 0px 4px 2px rgb(0, 0, 0);\">\n",
    "    Lab Work Tasks :</span>"
   ]
  },
  {
   "cell_type": "markdown",
   "id": "7037962e-f079-4f4c-aed7-8a078340949b",
   "metadata": {},
   "source": [
    "<center><span style=\"color:blue; \n",
    "font-family:Algerian; \n",
    "font-weight:bold;\n",
    "font-size:35px;\">Importing heapq for priority queue: </span></center>"
   ]
  },
  {
   "cell_type": "markdown",
   "id": "6d1c710d-aab3-4a9f-9c82-f11fedefbe71",
   "metadata": {},
   "source": [
    "from heapq import heappush\n",
    "\n",
    "fruits = []\n",
    "\n",
    "heappush(fruits, \"orange\")\n",
    "heappush(fruits, \"apple\")\n",
    "heappush(fruits, \"banana\")"
   ]
  },
  {
   "cell_type": "markdown",
   "id": "d410454e-1cd6-4173-a5b3-f5be51ae07c0",
   "metadata": {},
   "source": [
    "<center><span style=\"color:blue; \n",
    "font-family:Algerian; \n",
    "font-weight:bold;\n",
    "font-size:35px;\">2. Enqueue (Insert): </span></center>"
   ]
  },
  {
   "cell_type": "code",
   "execution_count": 2,
   "id": "34e393a5-80f8-42d3-8fc2-4cfef66e477f",
   "metadata": {},
   "outputs": [
    {
     "name": "stdout",
     "output_type": "stream",
     "text": [
      "['banana', 'orange']\n"
     ]
    }
   ],
   "source": [
    "from heapq import heappop\n",
    "\n",
    "heappop(fruits)\n",
    "print(fruits)"
   ]
  },
  {
   "cell_type": "markdown",
   "id": "4df1e522-c166-49e5-b140-e89bbed649e2",
   "metadata": {},
   "source": [
    "<center><span style=\"color:blue; \n",
    "font-family:Algerian; \n",
    "font-weight:bold;\n",
    "font-size:35px;\">IMPLEMENTING PUSH OPERATION:  </span></center>"
   ]
  },
  {
   "cell_type": "code",
   "execution_count": 3,
   "id": "d7a2720d-1997-44b9-addc-b362ae1f7b5c",
   "metadata": {},
   "outputs": [],
   "source": [
    "from collections import deque\n",
    "from heapq import heappop, heappush\n",
    "\n",
    "class PriorityQueue:\n",
    "    def __init__(self):\n",
    "        self._elements = []\n",
    "\n",
    "    def enqueue_with_priority(self, priority, value):\n",
    "        heappush(self._elements, (priority, value))\n",
    "\n",
    "    def dequeue(self):\n",
    "        return heappop(self._elements)"
   ]
  },
  {
   "cell_type": "markdown",
   "id": "a9d4a496-6170-4efe-9a60-7fb73acfb4f8",
   "metadata": {},
   "source": [
    "<center><span style=\"color:blue; \n",
    "font-family:Algerian; \n",
    "font-weight:bold;\n",
    "font-size:35px;\">3. Dequeue (Remove):  </span></center>"
   ]
  },
  {
   "cell_type": "code",
   "execution_count": 4,
   "id": "ed719890-3093-49c9-b0be-b5dcd4d2dbaf",
   "metadata": {},
   "outputs": [],
   "source": [
    "class PriorityQueue:\n",
    "    def __init__(self):\n",
    "        self._elements = []\n",
    "\n",
    "    def enqueue_with_priority(self, priority, value):\n",
    "        heappush(self._elements, (-priority, value))\n",
    "\n",
    "    def dequeue(self):\n",
    "        return heappop(self._elements)[1]"
   ]
  },
  {
   "cell_type": "code",
   "execution_count": 15,
   "id": "2ffbc41d-6634-46ca-850f-81dff0c025a8",
   "metadata": {},
   "outputs": [],
   "source": [
    "# Assigning priority levels\n",
    "CRITICAL = 3\n",
    "IMPORTANT = 2\n",
    "NEUTRAL = 1\n",
    "\n"
   ]
  },
  {
   "cell_type": "code",
   "execution_count": 16,
   "id": "99c1e29e-2941-42d0-a398-0457f3976601",
   "metadata": {},
   "outputs": [],
   "source": [
    "# Creating a PriorityQueue instance\n",
    "messages = PriorityQueue()\n",
    "\n"
   ]
  },
  {
   "cell_type": "code",
   "execution_count": 17,
   "id": "df47a5c2-fbf0-4da4-b359-4e1c6690290f",
   "metadata": {},
   "outputs": [
    {
     "name": "stdout",
     "output_type": "stream",
     "text": [
      "Brake pedal depressed\n",
      "Windshield wipers turned on\n",
      "Hazard lights turned on\n",
      "Radio station tuned in\n"
     ]
    }
   ],
   "source": [
    "# Enqueuing messages with priorities\n",
    "messages.enqueue_with_priority(IMPORTANT, \"Windshield wipers turned on\")\n",
    "messages.enqueue_with_priority(NEUTRAL, \"Radio station tuned in\")\n",
    "messages.enqueue_with_priority(CRITICAL, \"Brake pedal depressed\")\n",
    "messages.enqueue_with_priority(IMPORTANT, \"Hazard lights turned on\")\n",
    "\n",
    "# Dequeuing messages\n",
    "print(messages.dequeue())  # Output: \"Brake pedal depressed\"\n",
    "print(messages.dequeue())  # Output: \"Windshield wipers turned on\"\n",
    "print(messages.dequeue())  # Output: \"Hazard lights turned on\"\n",
    "print(messages.dequeue())  # Output: \"Radio station tuned in\""
   ]
  },
  {
   "cell_type": "code",
   "execution_count": 8,
   "id": "5a81caf1-0d7d-4d67-a77c-dfeebc5a03cc",
   "metadata": {},
   "outputs": [],
   "source": [
    "from dataclasses import dataclass\n",
    "\n",
    "@dataclass\n",
    "class Message:\n",
    "    event: str\n",
    "\n",
    "wipers = Message(\"Windshield wipers turned on\")\n",
    "hazard_lights = Message(\"Hazard lights turned on\")\n",
    "\n",
    "\n",
    "\n"
   ]
  },
  {
   "cell_type": "code",
   "execution_count": 9,
   "id": "b57927e8-fb83-4f64-89f7-3980ed12b083",
   "metadata": {},
   "outputs": [],
   "source": [
    "@dataclass\n",
    "class Message:\n",
    "    event: str\n",
    "\n",
    "    def __lt__(self, other):\n",
    "        # Implement comparison logic here\n",
    "        # For example, compare based on event strings alphabetically\n",
    "        return self.event < other.event"
   ]
  },
  {
   "cell_type": "code",
   "execution_count": 10,
   "id": "f5ad5b07-bb6a-4c37-8db3-d8ffb41d1cda",
   "metadata": {},
   "outputs": [],
   "source": [
    "from collections import deque\n",
    "from heapq import heappop, heappush\n",
    "from itertools import count\n",
    "\n",
    "class PriorityQueue:\n",
    "    def __init__(self):\n",
    "        self._elements = []\n",
    "        self._counter = count()  # Create a counter\n",
    "\n",
    "    def enqueue_with_priority(self, priority, value):\n",
    "        element = (-priority, next(self._counter), value)  # Use counter to create unique identifier\n",
    "        heappush(self._elements, element)\n",
    "\n",
    "    def dequeue(self):\n",
    "        return heappop(self._elements)[-1]  # Return the message value"
   ]
  },
  {
   "cell_type": "code",
   "execution_count": 11,
   "id": "5f3e1e3e-87b1-497b-a60f-7796f2c27ac0",
   "metadata": {},
   "outputs": [],
   "source": [
    "class IterableMixin:\n",
    "    def __len__(self):\n",
    "        return len(self._elements)\n",
    "\n",
    "    def __iter__(self):\n",
    "        while len(self) > 0:\n",
    "            yield self.dequeue()"
   ]
  },
  {
   "cell_type": "code",
   "execution_count": null,
   "id": "63bb9d77-8403-4dd3-9f47-05fb1b14d93e",
   "metadata": {},
   "outputs": [],
   "source": []
  }
 ],
 "metadata": {
  "kernelspec": {
   "display_name": "Python 3 (ipykernel)",
   "language": "python",
   "name": "python3"
  },
  "language_info": {
   "codemirror_mode": {
    "name": "ipython",
    "version": 3
   },
   "file_extension": ".py",
   "mimetype": "text/x-python",
   "name": "python",
   "nbconvert_exporter": "python",
   "pygments_lexer": "ipython3",
   "version": "3.12.4"
  }
 },
 "nbformat": 4,
 "nbformat_minor": 5
}
