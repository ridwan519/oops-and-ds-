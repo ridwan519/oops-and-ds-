{
 "cells": [
  {
   "cell_type": "code",
   "execution_count": 21,
   "id": "51049173-1a62-48b1-a741-6c3fa7577cf3",
   "metadata": {},
   "outputs": [],
   "source": [
    "import os"
   ]
  },
  {
   "cell_type": "code",
   "execution_count": 22,
   "id": "6f433a40-3684-49c6-9763-8467b2d5065c",
   "metadata": {},
   "outputs": [],
   "source": [
    "os.chdir(r\"C:\\Users\\mdani\\OneDrive\\Desktop\\Lab 10\\modulpkg\")"
   ]
  },
  {
   "cell_type": "code",
   "execution_count": 23,
   "id": "76945248-848e-451d-ba29-092051f69d74",
   "metadata": {},
   "outputs": [],
   "source": [
    "from lab7 import Rectangle"
   ]
  },
  {
   "cell_type": "code",
   "execution_count": 24,
   "id": "cafe4677-0372-499d-b0d5-abca6b181674",
   "metadata": {},
   "outputs": [],
   "source": [
    "AS=Rectangle(3,3)"
   ]
  },
  {
   "cell_type": "code",
   "execution_count": 25,
   "id": "7f9d2d6f-f904-46ea-8fe5-81e194027e72",
   "metadata": {},
   "outputs": [
    {
     "data": {
      "text/plain": [
       "12"
      ]
     },
     "execution_count": 25,
     "metadata": {},
     "output_type": "execute_result"
    }
   ],
   "source": [
    "AS.perimeter()"
   ]
  },
  {
   "cell_type": "code",
   "execution_count": 26,
   "id": "c883241d-482c-48f3-a217-00b9491308a3",
   "metadata": {},
   "outputs": [],
   "source": [
    "from lab7 import Point2D"
   ]
  },
  {
   "cell_type": "code",
   "execution_count": 27,
   "id": "c284c585-0bc3-41f3-8b32-b2c4dba3a681",
   "metadata": {},
   "outputs": [],
   "source": [
    "a=Point2D(3,4)"
   ]
  },
  {
   "cell_type": "code",
   "execution_count": 28,
   "id": "13e25261-9302-4c26-8913-2c2ac18e749f",
   "metadata": {},
   "outputs": [
    {
     "data": {
      "text/plain": [
       "5.0"
      ]
     },
     "execution_count": 28,
     "metadata": {},
     "output_type": "execute_result"
    }
   ],
   "source": [
    "a.distance_from_origin()\n"
   ]
  },
  {
   "cell_type": "code",
   "execution_count": 29,
   "id": "2c52215c-120b-4f99-b944-17ab0a1515f8",
   "metadata": {},
   "outputs": [],
   "source": [
    "from lab8 import Cube"
   ]
  },
  {
   "cell_type": "code",
   "execution_count": 30,
   "id": "e21dc476-871c-4530-8fbf-fb8b0d63cc9b",
   "metadata": {},
   "outputs": [],
   "source": [
    "t1=Cube(6)"
   ]
  },
  {
   "cell_type": "code",
   "execution_count": 31,
   "id": "31fbdf3a-6dd6-4f91-b33b-e1845b7cda0c",
   "metadata": {},
   "outputs": [
    {
     "data": {
      "text/plain": [
       "216"
      ]
     },
     "execution_count": 31,
     "metadata": {},
     "output_type": "execute_result"
    }
   ],
   "source": [
    "t1.area()"
   ]
  },
  {
   "cell_type": "code",
   "execution_count": 32,
   "id": "273e29d2-2789-492a-ac87-d71e70ba6ff5",
   "metadata": {},
   "outputs": [],
   "source": [
    "from labb8 import Square"
   ]
  },
  {
   "cell_type": "code",
   "execution_count": 33,
   "id": "838f3a9a-d117-4cad-99d0-3fd0990d3634",
   "metadata": {},
   "outputs": [],
   "source": [
    "z1 = Square(3)"
   ]
  },
  {
   "cell_type": "code",
   "execution_count": 34,
   "id": "24782b7b-2c80-4c6d-8692-a6cb54929b9f",
   "metadata": {},
   "outputs": [
    {
     "data": {
      "text/plain": [
       "9"
      ]
     },
     "execution_count": 34,
     "metadata": {},
     "output_type": "execute_result"
    }
   ],
   "source": [
    "z1.area()"
   ]
  },
  {
   "cell_type": "code",
   "execution_count": 39,
   "id": "608a1311-1610-4891-af43-c1c1b58280dd",
   "metadata": {},
   "outputs": [],
   "source": [
    "from labb9 import HourlyEmployee"
   ]
  },
  {
   "cell_type": "code",
   "execution_count": 42,
   "id": "a9a7b90a-6477-4518-ac88-5d0d4b53bd73",
   "metadata": {},
   "outputs": [],
   "source": [
    "z2 = HourlyEmployee(504,\"khan\",47,9)"
   ]
  },
  {
   "cell_type": "code",
   "execution_count": 43,
   "id": "3a3a760a-5e85-47ee-ac62-8443c3039fb2",
   "metadata": {},
   "outputs": [
    {
     "data": {
      "text/plain": [
       "423"
      ]
     },
     "execution_count": 43,
     "metadata": {},
     "output_type": "execute_result"
    }
   ],
   "source": [
    "z2.calculate_payroll()"
   ]
  },
  {
   "cell_type": "code",
   "execution_count": null,
   "id": "dc8831f2-bc1e-4e80-96e5-8c639c2655de",
   "metadata": {},
   "outputs": [],
   "source": []
  }
 ],
 "metadata": {
  "kernelspec": {
   "display_name": "Python 3 (ipykernel)",
   "language": "python",
   "name": "python3"
  },
  "language_info": {
   "codemirror_mode": {
    "name": "ipython",
    "version": 3
   },
   "file_extension": ".py",
   "mimetype": "text/x-python",
   "name": "python",
   "nbconvert_exporter": "python",
   "pygments_lexer": "ipython3",
   "version": "3.12.4"
  }
 },
 "nbformat": 4,
 "nbformat_minor": 5
}
