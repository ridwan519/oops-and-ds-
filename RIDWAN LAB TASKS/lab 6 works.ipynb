{
 "cells": [
  {
   "cell_type": "markdown",
   "metadata": {},
   "source": [
    "<center>\n",
    "    <div style=\"\n",
    "        background: linear-gradient(90deg, #8e44ad, #3498db);\n",
    "        padding: 30px 20px;\n",
    "        border-radius: 25px;\n",
    "        box-shadow: 0 7px 6px rgba(0, 0, 0, 0.3);\n",
    "        display: inline-block;\n",
    "        border: 2px solid #CCCCFF;\n",
    "        max-width: 90%;\n",
    "    \">\n",
    "        <span style=\"\n",
    "            color: #FFBF00;\n",
    "            font-size: 25px;\n",
    "            font-family: Cooper Black;\n",
    "            letter-spacing: 2px;\n",
    "            line-height: 1.4;\n",
    "            font-weight: bold;\n",
    "            text-transform: uppercase;\n",
    "            text-shadow: 3px 3px 8px rgba(0, 0, 0, 0.5);\n",
    "        \">\n",
    "            LAB NO 06\n",
    "        </span>\n",
    "    </div>\n",
    "</center>  </div>\n",
    "</center>\n",
    "  </div>\n",
    "</center>\n"
   ]
  },
  {
   "cell_type": "markdown",
   "metadata": {},
   "source": [
    "-----------"
   ]
  },
  {
   "cell_type": "markdown",
   "metadata": {},
   "source": [
    "<span style=\"color: #000000;\n",
    "font-size: 44px;\n",
    "transition: color 0.3s;\">&#x21DD; </span>\n",
    "<span style=\"color: #ff0000;\n",
    "    font-family: Arial Black;\n",
    "font-size: 35px; font-weight: bold; \n",
    "text-shadow: 0px 4px 2px rgb(0, 0, 0);\">\n",
    "    Lab Work Tasks :</span>"
   ]
  },
  {
   "cell_type": "markdown",
   "metadata": {},
   "source": [
    "<center><span style=\"color:blue; \n",
    "font-family:Algerian; \n",
    "font-weight:bold;\n",
    "font-size:35px;\">Task No # 01 </span></center>"
   ]
  },
  {
   "cell_type": "markdown",
   "metadata": {},
   "source": [
    "<div style=\"padding: 20px; font-family: Arial, sans-serif; background-color: #f9f9f9; border: 2px solid black; border-radius: 8px; width: fit-content;\">\n",
    "  <ul style=\"color: #555; font-size: 16px; line-height: 1.6;\">\n",
    "    <li><strong>Class Definition:</strong> Define a class <code>Point</code> in a 2-dimensional coordinate system with the necessary <code>__init__</code> method.</li>\n",
    "    <li><strong>Property Methods:</strong>\n",
    "      <ul>\n",
    "        <li>Implement appropriate property methods using <code>@property</code> and <code>@property.setter</code>.</li>\n",
    "      </ul>\n",
    "    </li>\n",
    "    <li><strong>Instance Methods:</strong>\n",
    "      <ul>\n",
    "        <li><b>Distance Calculation</b>: Add an instance method for calculating the distance between two points.</li>\n",
    "        <li><b>Distance from Origin</b>: Include another instance method to calculate the distance from the origin (0, 0).</li>\n",
    "        <li><b>Locate</b>: Add a method named <code>locate</code> to display the coordinates where the point is located.</li>\n",
    "      </ul>\n",
    "    </li>\n",
    "    <li><strong>Special Methods:</strong>\n",
    "      <ul>\n",
    "        <li>Implement <code>__repr__</code> and <code>__str__</code> methods to provide clear string representations for the class.</li>\n",
    "        <li>Add methods decorated with <code>@staticmethod</code>, <code>@property</code>, and <code>@classmethod</code> if applicable.</li>\n",
    "      </ul>\n",
    "    </li>\n",
    "    <li><strong>Documentation:</strong> Ensure proper annotations and docstrings for every class and instance method to enhance readability and maintainability.</li>\n",
    "  </ul>\n",
    "</div>\n"
   ]
  },
  {
   "cell_type": "code",
   "execution_count": 156,
   "metadata": {},
   "outputs": [],
   "source": [
    "import math\n",
    "\n",
    "class Point:\n",
    "    \"\"\"\n",
    "    A class to represent a point in a 2D coordinate system.\n",
    "    \"\"\"\n",
    "    \n",
    "    def __init__(self, x: float = 0.0, y: float = 0.0):\n",
    "        \"\"\"\n",
    "        Initializes a new point at the given coordinates.\n",
    "        \n",
    "        :param x: x-coordinate (default is 0.0)\n",
    "        :param y: y-coordinate (default is 0.0)\n",
    "        \"\"\"\n",
    "        self._x = x\n",
    "        self._y = y\n",
    "\n",
    "    @property\n",
    "    def x(self) -> float:\n",
    "        \"\"\"Gets the x-coordinate.\"\"\"\n",
    "        return self._x\n",
    "\n",
    "    @x.setter\n",
    "    def x(self, value: float) -> None:\n",
    "        \"\"\"Sets the x-coordinate.\"\"\"\n",
    "        self._x = value\n",
    "\n",
    "    @property\n",
    "    def y(self) -> float:\n",
    "        \"\"\"Gets the y-coordinate.\"\"\"\n",
    "        return self._y\n",
    "\n",
    "    @y.setter\n",
    "    def y(self, value: float) -> None:\n",
    "        \"\"\"Sets the y-coordinate.\"\"\"\n",
    "        self._y = value\n",
    "\n",
    "    def distance_to(self, other: 'Point') -> float:\n",
    "        \"\"\"\n",
    "        Calculates the distance between this point and another point.\n",
    "        \n",
    "        :param other: Another point in the 2D coordinate system.\n",
    "        :return: The distance between the two points.\n",
    "        \"\"\"\n",
    "        return math.sqrt((self.x - other.x) ** 2 + (self.y - other.y) ** 2)\n",
    "\n",
    "    def distance_from_origin(self) -> float:\n",
    "        \"\"\"\n",
    "        Calculates the distance from the origin (0, 0) to this point.\n",
    "        \n",
    "        :return: The distance from the origin to this point.\n",
    "        \"\"\"\n",
    "        return math.sqrt(self.x ** 2 + self.y ** 2)\n",
    "\n",
    "    def locate(self) -> str:\n",
    "        \"\"\"\n",
    "        Displays the coordinates of the point.\n",
    "        \n",
    "        :return: A string representation of the coordinates.\n",
    "        \"\"\"\n",
    "        return f\"Point is located at ({self.x}, {self.y})\"\n",
    "\n",
    "    def __repr__(self) -> str:\n",
    "        \"\"\"Returns a detailed string representation of the point.\"\"\"\n",
    "        return f\"Point(x={self.x}, y={self.y})\"\n",
    "\n",
    "    def __str__(self) -> str:\n",
    "        \"\"\"Returns a user-friendly string representation of the point.\"\"\"\n",
    "        return f\"Point({self.x}, {self.y})\"\n",
    "\n",
    "    @staticmethod\n",
    "    def origin() -> 'Point':\n",
    "        \"\"\"\n",
    "        Returns a point at the origin (0, 0).\n",
    "        \n",
    "        :return: A Point object representing the origin.\n",
    "        \"\"\"\n",
    "        return Point(0, 0)\n",
    "\n",
    "    @classmethod\n",
    "    def from_coordinates(cls, coordinates: tuple) -> 'Point':\n",
    "        \"\"\"\n",
    "        Creates a Point instance from a tuple of coordinates.\n",
    "        \n",
    "        :param coordinates: A tuple containing x and y coordinates.\n",
    "        :return: An instance of Point.\n",
    "        \"\"\"\n",
    "        x, y = coordinates \n",
    "        return cls(x, y)\n",
    "\n"
   ]
  },
  {
   "cell_type": "markdown",
   "metadata": {},
   "source": [
    "<div style=\"padding: 20px; font-family: Arial, sans-serif; background-color: #f9f9f9; border:2px solid black; border-radius: 8px; width: fit-content;\">\n",
    "  <p style=\"color: #555; font-size: 16px; line-height: 1.6; margin-top: 10px;\">\n",
    "  To Define <code>inst_1</code>,<code>inst_2</code> and pass two numbers \n",
    "  </p>\n",
    "</div>\n"
   ]
  },
  {
   "cell_type": "code",
   "execution_count": 157,
   "metadata": {},
   "outputs": [],
   "source": [
    "inst_1 = Point(3, 4)\n",
    "inst_2 = Point(6, 8)"
   ]
  },
  {
   "cell_type": "markdown",
   "metadata": {},
   "source": [
    "<div style=\"padding: 20px; font-family: Arial, sans-serif; background-color: #f9f9f9; border:2px solid black; border-radius: 8px; width: fit-content;\">\n",
    "  <p style=\"color: #555; font-size: 16px; line-height: 1.6; margin-top: 10px;\">\n",
    " To Print <code>inst_1</code> and <code>inst_2</code>, for this use the print command and pass the <code>inst_1</code> and <code>inst_2</code>.\n",
    "  </p>\n",
    "</div>"
   ]
  },
  {
   "cell_type": "code",
   "execution_count": 158,
   "metadata": {},
   "outputs": [
    {
     "name": "stdout",
     "output_type": "stream",
     "text": [
      "Point(3, 4)\n",
      "Point(6, 8)\n"
     ]
    }
   ],
   "source": [
    "print(inst_1)\n",
    "print(inst_2) "
   ]
  },
  {
   "cell_type": "markdown",
   "metadata": {},
   "source": [
    "<div style=\"padding: 20px; font-family: Arial, sans-serif; background-color: #f9f9f9; border:2px solid black; border-radius: 8px; width: fit-content;\">\n",
    "  <p style=\"color: #555; font-size: 16px; line-height: 1.6; margin-top: 10px;\">\n",
    "  To print the location of both points. (Add a display method).\n",
    "  </p>\n",
    "</div>\n"
   ]
  },
  {
   "cell_type": "code",
   "execution_count": 159,
   "metadata": {},
   "outputs": [
    {
     "name": "stdout",
     "output_type": "stream",
     "text": [
      "Point is located at (3, 4)\n",
      "Point is located at (6, 8)\n"
     ]
    }
   ],
   "source": [
    "print(inst_1.locate())\n",
    "print(inst_2.locate())"
   ]
  },
  {
   "cell_type": "markdown",
   "metadata": {},
   "source": [
    "<div style=\"padding: 20px; font-family: Arial, sans-serif; background-color: #f9f9f9; border:2px solid black; border-radius: 8px; width: fit-content;\">\n",
    "  <p style=\"color: #555; font-size: 16px; line-height: 1.6; margin-top: 10px;\">\n",
    "  To Calculate the distance between these two pints. \n",
    "  </p>\n",
    "</div>\n"
   ]
  },
  {
   "cell_type": "code",
   "execution_count": 160,
   "metadata": {},
   "outputs": [
    {
     "name": "stdout",
     "output_type": "stream",
     "text": [
      "Distance between inst_1 and inst_2: 5.00\n"
     ]
    }
   ],
   "source": [
    "distance = inst_1.distance_to(inst_2)\n",
    "print(f\"Distance between inst_1 and inst_2: {distance:.2f}\")"
   ]
  },
  {
   "cell_type": "markdown",
   "metadata": {},
   "source": [
    "<div style=\"padding: 20px; font-family: Arial, sans-serif; background-color: #f9f9f9; border:2px solid black; border-radius: 8px; width: fit-content;\">\n",
    "  <p style=\"color: #555; font-size: 16px; line-height: 1.6; margin-top: 10px;\">\n",
    "  To Call the <code>__dict__</code> by the class name.\n",
    "  </p>\n",
    "</div>\n"
   ]
  },
  {
   "cell_type": "code",
   "execution_count": 161,
   "metadata": {},
   "outputs": [
    {
     "name": "stdout",
     "output_type": "stream",
     "text": [
      "mappingproxy({'__dict__': <attribute '__dict__' of 'Point' objects>,\n",
      "              '__doc__': '\\n'\n",
      "                         '    A class to represent a point in a 2D coordinate '\n",
      "                         'system.\\n'\n",
      "                         '    ',\n",
      "              '__init__': <function Point.__init__ at 0x000002B37D039BC0>,\n",
      "              '__module__': '__main__',\n",
      "              '__repr__': <function Point.__repr__ at 0x000002B37D065E40>,\n",
      "              '__str__': <function Point.__str__ at 0x000002B37D064D60>,\n",
      "              '__weakref__': <attribute '__weakref__' of 'Point' objects>,\n",
      "              'distance_from_origin': <function Point.distance_from_origin at 0x000002B37D065DA0>,\n",
      "              'distance_to': <function Point.distance_to at 0x000002B37D065D00>,\n",
      "              'from_coordinates': <classmethod(<function Point.from_coordinates at 0x000002B37D0660C0>)>,\n",
      "              'locate': <function Point.locate at 0x000002B37D064C20>,\n",
      "              'origin': <staticmethod(<function Point.origin at 0x000002B37D0645E0>)>,\n",
      "              'x': <property object at 0x000002B37D03E750>,\n",
      "              'y': <property object at 0x000002B37D03E7A0>})\n"
     ]
    }
   ],
   "source": [
    "from pprint import pprint\n",
    "pprint(Point.__dict__)"
   ]
  },
  {
   "cell_type": "markdown",
   "metadata": {},
   "source": [
    "<div style=\"padding: 20px; font-family: Arial, sans-serif; background-color: #f9f9f9; border:2px solid black; border-radius: 8px; width: fit-content;\">\n",
    "  <p style=\"color: #555; font-size: 16px; line-height: 1.6; margin-top: 10px;\">\n",
    "  Also pass the class name to the <code>vars</code> built-in function.\n",
    "  </p>\n",
    "</div>"
   ]
  },
  {
   "cell_type": "code",
   "execution_count": 162,
   "metadata": {},
   "outputs": [
    {
     "name": "stdout",
     "output_type": "stream",
     "text": [
      "mappingproxy({'__dict__': <attribute '__dict__' of 'Point' objects>,\n",
      "              '__doc__': '\\n'\n",
      "                         '    A class to represent a point in a 2D coordinate '\n",
      "                         'system.\\n'\n",
      "                         '    ',\n",
      "              '__init__': <function Point.__init__ at 0x000002B37D039BC0>,\n",
      "              '__module__': '__main__',\n",
      "              '__repr__': <function Point.__repr__ at 0x000002B37D065E40>,\n",
      "              '__str__': <function Point.__str__ at 0x000002B37D064D60>,\n",
      "              '__weakref__': <attribute '__weakref__' of 'Point' objects>,\n",
      "              'distance_from_origin': <function Point.distance_from_origin at 0x000002B37D065DA0>,\n",
      "              'distance_to': <function Point.distance_to at 0x000002B37D065D00>,\n",
      "              'from_coordinates': <classmethod(<function Point.from_coordinates at 0x000002B37D0660C0>)>,\n",
      "              'locate': <function Point.locate at 0x000002B37D064C20>,\n",
      "              'origin': <staticmethod(<function Point.origin at 0x000002B37D0645E0>)>,\n",
      "              'x': <property object at 0x000002B37D03E750>,\n",
      "              'y': <property object at 0x000002B37D03E7A0>})\n"
     ]
    }
   ],
   "source": [
    "pprint(vars(Point))"
   ]
  },
  {
   "cell_type": "markdown",
   "metadata": {},
   "source": [
    "<div style=\"padding: 20px; font-family: Arial, sans-serif; background-color: #f9f9f9; border:2px solid black; border-radius: 8px; width: fit-content;\">\n",
    "  <p style=\"color: #555; font-size: 16px; line-height: 1.6; margin-top: 10px;\">\n",
    "  To  Call the <code>__dict__</code> on the object of the class.\n",
    "  </p>\n",
    "</div>"
   ]
  },
  {
   "cell_type": "code",
   "execution_count": 163,
   "metadata": {},
   "outputs": [
    {
     "name": "stdout",
     "output_type": "stream",
     "text": [
      "{'_x': 3, '_y': 4}\n"
     ]
    }
   ],
   "source": [
    "print(inst_1.__dict__)"
   ]
  },
  {
   "cell_type": "markdown",
   "metadata": {},
   "source": [
    "<div style=\"padding: 20px; font-family: Arial, sans-serif; background-color: #f9f9f9; border:2px solid black; border-radius: 8px; width: fit-content;\">\n",
    "  <p style=\"color: #555; font-size: 16px; line-height: 1.6; margin-top: 10px;\">\n",
    "  To Pass the class name to help.\n",
    "  </p>\n",
    "</div>"
   ]
  },
  {
   "cell_type": "code",
   "execution_count": 164,
   "metadata": {},
   "outputs": [
    {
     "name": "stdout",
     "output_type": "stream",
     "text": [
      "Help on class Point in module __main__:\n",
      "\n",
      "class Point(builtins.object)\n",
      " |  Point(x: float = 0.0, y: float = 0.0)\n",
      " |\n",
      " |  A class to represent a point in a 2D coordinate system.\n",
      " |\n",
      " |  Methods defined here:\n",
      " |\n",
      " |  __init__(self, x: float = 0.0, y: float = 0.0)\n",
      " |      Initializes a new point at the given coordinates.\n",
      " |\n",
      " |      :param x: x-coordinate (default is 0.0)\n",
      " |      :param y: y-coordinate (default is 0.0)\n",
      " |\n",
      " |  __repr__(self) -> str\n",
      " |      Returns a detailed string representation of the point.\n",
      " |\n",
      " |  __str__(self) -> str\n",
      " |      Returns a user-friendly string representation of the point.\n",
      " |\n",
      " |  distance_from_origin(self) -> float\n",
      " |      Calculates the distance from the origin (0, 0) to this point.\n",
      " |\n",
      " |      :return: The distance from the origin to this point.\n",
      " |\n",
      " |  distance_to(self, other: 'Point') -> float\n",
      " |      Calculates the distance between this point and another point.\n",
      " |\n",
      " |      :param other: Another point in the 2D coordinate system.\n",
      " |      :return: The distance between the two points.\n",
      " |\n",
      " |  locate(self) -> str\n",
      " |      Displays the coordinates of the point.\n",
      " |\n",
      " |      :return: A string representation of the coordinates.\n",
      " |\n",
      " |  ----------------------------------------------------------------------\n",
      " |  Class methods defined here:\n",
      " |\n",
      " |  from_coordinates(coordinates: tuple) -> 'Point'\n",
      " |      Creates a Point instance from a tuple of coordinates.\n",
      " |\n",
      " |      :param coordinates: A tuple containing x and y coordinates.\n",
      " |      :return: An instance of Point.\n",
      " |\n",
      " |  ----------------------------------------------------------------------\n",
      " |  Static methods defined here:\n",
      " |\n",
      " |  origin() -> 'Point'\n",
      " |      Returns a point at the origin (0, 0).\n",
      " |\n",
      " |      :return: A Point object representing the origin.\n",
      " |\n",
      " |  ----------------------------------------------------------------------\n",
      " |  Data descriptors defined here:\n",
      " |\n",
      " |  __dict__\n",
      " |      dictionary for instance variables\n",
      " |\n",
      " |  __weakref__\n",
      " |      list of weak references to the object\n",
      " |\n",
      " |  x\n",
      " |      Gets the x-coordinate.\n",
      " |\n",
      " |  y\n",
      " |      Gets the y-coordinate.\n",
      "\n"
     ]
    }
   ],
   "source": [
    "help(Point)"
   ]
  },
  {
   "cell_type": "markdown",
   "metadata": {},
   "source": [
    "<div style=\"padding: 20px; font-family: Arial, sans-serif; background-color: #f9f9f9; border:2px solid black; border-radius: 8px; width: fit-content;\">\n",
    "  <p style=\"color: #555; font-size: 16px; line-height: 1.6; margin-top: 10px;\">\n",
    " To Print the doc-string and annotations of both the class and each instance method.\n",
    "  </p>\n",
    "</div>"
   ]
  },
  {
   "cell_type": "code",
   "execution_count": 165,
   "metadata": {},
   "outputs": [
    {
     "name": "stdout",
     "output_type": "stream",
     "text": [
      "\n",
      "    A class to represent a point in a 2D coordinate system.\n",
      "    \n",
      "__init__:\n",
      "  Doc: \n",
      "        Initializes a new point at the given coordinates.\n",
      "        \n",
      "        :param x: x-coordinate (default is 0.0)\n",
      "        :param y: y-coordinate (default is 0.0)\n",
      "        \n",
      "  Annotations: {'x': <class 'float'>, 'y': <class 'float'>}\n",
      "\n",
      "distance_to:\n",
      "  Doc: \n",
      "        Calculates the distance between this point and another point.\n",
      "        \n",
      "        :param other: Another point in the 2D coordinate system.\n",
      "        :return: The distance between the two points.\n",
      "        \n",
      "  Annotations: {'other': 'Point', 'return': <class 'float'>}\n",
      "\n",
      "distance_from_origin:\n",
      "  Doc: \n",
      "        Calculates the distance from the origin (0, 0) to this point.\n",
      "        \n",
      "        :return: The distance from the origin to this point.\n",
      "        \n",
      "  Annotations: {'return': <class 'float'>}\n",
      "\n",
      "locate:\n",
      "  Doc: \n",
      "        Displays the coordinates of the point.\n",
      "        \n",
      "        :return: A string representation of the coordinates.\n",
      "        \n",
      "  Annotations: {'return': <class 'str'>}\n",
      "\n",
      "__repr__:\n",
      "  Doc: Returns a detailed string representation of the point.\n",
      "  Annotations: {'return': <class 'str'>}\n",
      "\n",
      "__str__:\n",
      "  Doc: Returns a user-friendly string representation of the point.\n",
      "  Annotations: {'return': <class 'str'>}\n",
      "\n",
      "origin:\n",
      "  Doc: \n",
      "        Returns a point at the origin (0, 0).\n",
      "        \n",
      "        :return: A Point object representing the origin.\n",
      "        \n",
      "  Annotations: {'return': 'Point'}\n",
      "\n",
      "from_coordinates:\n",
      "  Doc: \n",
      "        Creates a Point instance from a tuple of coordinates.\n",
      "        \n",
      "        :param coordinates: A tuple containing x and y coordinates.\n",
      "        :return: An instance of Point.\n",
      "        \n",
      "  Annotations: {'coordinates': <class 'tuple'>, 'return': 'Point'}\n",
      "\n"
     ]
    }
   ],
   "source": [
    "print(Point.__doc__)\n",
    "for method in [Point.__init__,\n",
    "               Point.distance_to,\n",
    "               Point.distance_from_origin,\n",
    "               Point.locate,\n",
    "               Point.__repr__,\n",
    "               Point.__str__,\n",
    "               Point.origin,\n",
    "               Point.from_coordinates]:\n",
    "    print(f\"{method.__name__}:\\n  Doc: {method.__doc__}\\n  Annotations: {method.__annotations__}\\n\")"
   ]
  },
  {
   "cell_type": "markdown",
   "metadata": {},
   "source": [
    "<div style=\"padding: 20px; font-family: Arial, sans-serif; background-color: #f9f9f9; border:2px solid black; border-radius: 8px; width: fit-content;\">\n",
    "  <p style=\"color: #555; font-size: 16px; line-height: 1.6; margin-top: 10px;\">\n",
    "  To  Modify the <code>__init__</code> by by making its parameters default and verify by instances.\n",
    "  </p>\n",
    "</div>\n"
   ]
  },
  {
   "cell_type": "code",
   "execution_count": 166,
   "metadata": {},
   "outputs": [
    {
     "name": "stdout",
     "output_type": "stream",
     "text": [
      "Point(0.0, 0.0)\n"
     ]
    }
   ],
   "source": [
    "inst_3 = Point()\n",
    "print(inst_3)"
   ]
  },
  {
   "cell_type": "markdown",
   "metadata": {},
   "source": [
    "-----------------"
   ]
  },
  {
   "cell_type": "markdown",
   "metadata": {},
   "source": [
    "<center><span style=\"color:blue; \n",
    "font-family:Algerian; \n",
    "font-weight:bold;\n",
    "font-size:35px;\">Task No # 02 </span></center>"
   ]
  },
  {
   "cell_type": "markdown",
   "metadata": {},
   "source": [
    "<div style=\"padding: 20px; font-family: Arial, sans-serif; background-color: #f9f9f9; border: 2px solid black; border-radius: 8px; width: fit-content;\">\n",
    "  <ul style=\"color: #555; font-size: 16px; line-height: 1.6;\">\n",
    "    <li><strong>Class Definition:</strong> Define a class <code>Circle</code> with the necessary <code>__init__</code> method.</li>\n",
    "    <li><strong>Property Methods:</strong>\n",
    "      <ul>\n",
    "        <li>Add appropriate property methods using <code>@property</code> and <code>@property.setter</code> for <code>radius</code>.</li>\n",
    "        <li>Add property methods for <code>area</code>, <code>circumference</code>, and <code>diameter</code>.</li>\n",
    "      </ul>\n",
    "    </li>\n",
    "    <li><strong>Instance Methods:</strong>\n",
    "      <ul>\n",
    "        <li><b>Volume Calculation</b>: Add an instance method for calculating the volume of a cylinder with the given radius.</li>\n",
    "      </ul>\n",
    "    </li>\n",
    "    <li><strong>Special Methods:</strong>\n",
    "      <ul>\n",
    "        <li>Implement <code>__repr__</code> and <code>__str__</code> methods to provide clear string representations for the class.</li>\n",
    "        <li>Add methods decorated with <code>@staticmethod</code> and <code>@classmethod</code> if applicable.</li>\n",
    "      </ul>\n",
    "    </li>\n",
    "    <li><strong>Documentation:</strong> Ensure proper annotations and docstrings for every class and instance method to enhance readability and maintainability.</li>\n",
    "  </ul>\n",
    "</div>\n"
   ]
  },
  {
   "cell_type": "code",
   "execution_count": 167,
   "metadata": {},
   "outputs": [],
   "source": [
    "import math\n",
    "\n",
    "class Circle:\n",
    "    \"\"\"A class to represent a circle with given radius and calculate the area, circumference, diameter  and volume\n",
    "    \"\"\"\n",
    "    def __init__(self, radius: float = 1.0):\n",
    "        \"\"\"\n",
    "        Initialize the Circle with a given radius.\n",
    "\n",
    "        Parameters:\n",
    "        radius (float): The radius of the circle. Default is 1.0.\n",
    "        \"\"\"\n",
    "        self._radius = radius\n",
    "\n",
    "    @property\n",
    "    def radius(self) -> float:\n",
    "        \"\"\"Get the radius of the circle.\"\"\"\n",
    "        return self._radius\n",
    "\n",
    "    @radius.setter\n",
    "    def radius(self, value: float) -> None:\n",
    "        \"\"\"Set the radius of the circle.\"\"\"\n",
    "        self._radius = value\n",
    "\n",
    "    def volume(self, height: float) -> None:\n",
    "        \"\"\"\n",
    "        Calculate the volume of a cylinder with the circle as the base.\n",
    "\n",
    "        Parameters:\n",
    "        height (float): The height of the cylinder.\n",
    "\n",
    "        Returns:\n",
    "        float: The volume of the cylinder.\n",
    "        \"\"\"\n",
    "        return self.area * height\n",
    "\n",
    "    @property\n",
    "    def area(self) -> float:\n",
    "        \"\"\"Calculate the area of the circle.\"\"\"\n",
    "        return math.pi * (self._radius ** 2)\n",
    "\n",
    "    @property\n",
    "    def circumference(self) -> float:\n",
    "        \"\"\"Calculate the circumference of the circle.\"\"\"\n",
    "        return 2 * math.pi * self._radius\n",
    "\n",
    "    @property\n",
    "    def diameter(self) -> float:\n",
    "        \"\"\"Calculate the diameter of the circle.\"\"\"\n",
    "        return self._radius * 2\n",
    "    @staticmethod\n",
    "    def from_diameter(diameter: float):\n",
    "        \"\"\"\n",
    "        Create a Circle instance from the diameter.\n",
    "\n",
    "        Parameters:\n",
    "        diameter (float): The diameter of the circle.\n",
    "\n",
    "        Returns:\n",
    "        Circle: An instance of Circle.\n",
    "        \"\"\"\n",
    "        return Circle(diameter / 2)\n",
    "\n",
    "    @classmethod\n",
    "    def unit_circle(cls) -> 'Circle':\n",
    "        \"\"\"Create a Circle instance with a radius of 1.\"\"\"\n",
    "        return cls(1)\n",
    "        \n",
    "    def __repr__(self) -> str:\n",
    "        \"\"\"Return a string representation of the Circle instance.\"\"\"\n",
    "        return f\"Circle(radius={self._radius})\"\n",
    "\n",
    "    def __str__(self) -> str:\n",
    "        \"\"\"Return a user-friendly string representation of the Circle.\"\"\"\n",
    "        return f\"Circle with radius: {self._radius}\""
   ]
  },
  {
   "cell_type": "markdown",
   "metadata": {},
   "source": [
    "<div style=\"padding: 20px; font-family: Arial, sans-serif; background-color: #f9f9f9; border:2px solid black; border-radius: 8px; width: fit-content;\">\n",
    "  <p style=\"color: #555; font-size: 16px; line-height: 1.6; margin-top: 10px;\">\n",
    "  To Define <code>inst_1</code>,<code>inst_2</code> and pass two numbers \n",
    "  </p>\n",
    "</div>\n"
   ]
  },
  {
   "cell_type": "code",
   "execution_count": 168,
   "metadata": {},
   "outputs": [],
   "source": [
    "inst_1 = Circle(5)\n",
    "inst_2 = Circle(10)"
   ]
  },
  {
   "cell_type": "markdown",
   "metadata": {},
   "source": [
    "<div style=\"padding: 20px; font-family: Arial, sans-serif; background-color: #f9f9f9; border:2px solid black; border-radius: 8px; width: fit-content;\">\n",
    "  <p style=\"color: #555; font-size: 16px; line-height: 1.6; margin-top: 10px;\">\n",
    " To Print <code>inst_1</code> and <code>inst_2</code>, for this use the print command and pass the <code>inst_1</code> and <code>inst_2</code>.\n",
    "  </p>\n",
    "</div>"
   ]
  },
  {
   "cell_type": "code",
   "execution_count": 169,
   "metadata": {},
   "outputs": [
    {
     "name": "stdout",
     "output_type": "stream",
     "text": [
      "Circle with radius: 5\n",
      "Circle with radius: 10\n"
     ]
    }
   ],
   "source": [
    "print(inst_1)\n",
    "print(inst_2)"
   ]
  },
  {
   "cell_type": "markdown",
   "metadata": {},
   "source": [
    "<div style=\"padding: 20px; font-family: Arial, sans-serif; background-color: #f9f9f9; border:2px solid black; border-radius: 8px; width: fit-content;\">\n",
    "  <p style=\"color: #555; font-size: 16px; line-height: 1.6; margin-top: 10px;\">\n",
    " To Demonstrate the property, staticmethod and classmethod methods on the instances\n",
    "  </p>\n",
    "</div>"
   ]
  },
  {
   "cell_type": "code",
   "execution_count": 170,
   "metadata": {},
   "outputs": [
    {
     "name": "stdout",
     "output_type": "stream",
     "text": [
      "Area of inst_1: 78.540\n",
      "Circumference of inst_1: 31.416\n",
      "Diameter of inst_1: 10.000\n"
     ]
    }
   ],
   "source": [
    "print(f\"Area of inst_1: {inst_1.area:.3f}\")\n",
    "print(f\"Circumference of inst_1: {inst_1.circumference:.3f}\")\n",
    "print(f\"Diameter of inst_1: {inst_1.diameter:.3f}\")"
   ]
  },
  {
   "cell_type": "code",
   "execution_count": 171,
   "metadata": {},
   "outputs": [
    {
     "name": "stdout",
     "output_type": "stream",
     "text": [
      "Circle with radius: 10.0\n"
     ]
    }
   ],
   "source": [
    "circle_from_diameter = Circle.from_diameter(20)\n",
    "print(circle_from_diameter)"
   ]
  },
  {
   "cell_type": "code",
   "execution_count": 172,
   "metadata": {},
   "outputs": [
    {
     "name": "stdout",
     "output_type": "stream",
     "text": [
      "Circle with radius: 1\n"
     ]
    }
   ],
   "source": [
    "unit_circle = Circle.unit_circle()\n",
    "print(unit_circle)"
   ]
  },
  {
   "cell_type": "markdown",
   "metadata": {},
   "source": [
    "<div style=\"padding: 20px; font-family: Arial, sans-serif; background-color: #f9f9f9; border:2px solid black; border-radius: 8px; width: fit-content;\">\n",
    "  <p style=\"color: #555; font-size: 16px; line-height: 1.6; margin-top: 10px;\">\n",
    "  To Call the <code>__dict__</code> by the class name.\n",
    "  </p>\n",
    "</div>\n"
   ]
  },
  {
   "cell_type": "code",
   "execution_count": 173,
   "metadata": {},
   "outputs": [
    {
     "name": "stdout",
     "output_type": "stream",
     "text": [
      "mappingproxy({'__dict__': <attribute '__dict__' of 'Circle' objects>,\n",
      "              '__doc__': 'A class to represent a circle with given radius and '\n",
      "                         'calculate the area, circumference, diameter  and '\n",
      "                         'volume\\n'\n",
      "                         '    ',\n",
      "              '__init__': <function Circle.__init__ at 0x000002B37D0665C0>,\n",
      "              '__module__': '__main__',\n",
      "              '__repr__': <function Circle.__repr__ at 0x000002B37D0668E0>,\n",
      "              '__str__': <function Circle.__str__ at 0x000002B37D066980>,\n",
      "              '__weakref__': <attribute '__weakref__' of 'Circle' objects>,\n",
      "              'area': <property object at 0x000002B37D0484A0>,\n",
      "              'circumference': <property object at 0x000002B37D048450>,\n",
      "              'diameter': <property object at 0x000002B37D0481D0>,\n",
      "              'from_diameter': <staticmethod(<function Circle.from_diameter at 0x000002B37D0667A0>)>,\n",
      "              'radius': <property object at 0x000002B37D048400>,\n",
      "              'unit_circle': <classmethod(<function Circle.unit_circle at 0x000002B37D066840>)>,\n",
      "              'volume': <function Circle.volume at 0x000002B37D066340>})\n"
     ]
    }
   ],
   "source": [
    "from pprint import pprint\n",
    "pprint(Circle.__dict__)"
   ]
  },
  {
   "cell_type": "markdown",
   "metadata": {},
   "source": [
    "<div style=\"padding: 20px; font-family: Arial, sans-serif; background-color: #f9f9f9; border:2px solid black; border-radius: 8px; width: fit-content;\">\n",
    "  <p style=\"color: #555; font-size: 16px; line-height: 1.6; margin-top: 10px;\">\n",
    "  Also pass the class name to the <code>vars</code> built-in function.\n",
    "  </p>\n",
    "</div>"
   ]
  },
  {
   "cell_type": "code",
   "execution_count": 174,
   "metadata": {},
   "outputs": [
    {
     "name": "stdout",
     "output_type": "stream",
     "text": [
      "mappingproxy({'__dict__': <attribute '__dict__' of 'Circle' objects>,\n",
      "              '__doc__': 'A class to represent a circle with given radius and '\n",
      "                         'calculate the area, circumference, diameter  and '\n",
      "                         'volume\\n'\n",
      "                         '    ',\n",
      "              '__init__': <function Circle.__init__ at 0x000002B37D0665C0>,\n",
      "              '__module__': '__main__',\n",
      "              '__repr__': <function Circle.__repr__ at 0x000002B37D0668E0>,\n",
      "              '__str__': <function Circle.__str__ at 0x000002B37D066980>,\n",
      "              '__weakref__': <attribute '__weakref__' of 'Circle' objects>,\n",
      "              'area': <property object at 0x000002B37D0484A0>,\n",
      "              'circumference': <property object at 0x000002B37D048450>,\n",
      "              'diameter': <property object at 0x000002B37D0481D0>,\n",
      "              'from_diameter': <staticmethod(<function Circle.from_diameter at 0x000002B37D0667A0>)>,\n",
      "              'radius': <property object at 0x000002B37D048400>,\n",
      "              'unit_circle': <classmethod(<function Circle.unit_circle at 0x000002B37D066840>)>,\n",
      "              'volume': <function Circle.volume at 0x000002B37D066340>})\n"
     ]
    }
   ],
   "source": [
    "pprint(vars(Circle))"
   ]
  },
  {
   "cell_type": "markdown",
   "metadata": {},
   "source": [
    "<div style=\"padding: 20px; font-family: Arial, sans-serif; background-color: #f9f9f9; border:2px solid black; border-radius: 8px; width: fit-content;\">\n",
    "  <p style=\"color: #555; font-size: 16px; line-height: 1.6; margin-top: 10px;\">\n",
    "  To  Call the <code>__dict__</code> on the object of the class.\n",
    "  </p>\n",
    "</div>"
   ]
  },
  {
   "cell_type": "code",
   "execution_count": 175,
   "metadata": {},
   "outputs": [
    {
     "name": "stdout",
     "output_type": "stream",
     "text": [
      "{'_radius': 5}\n"
     ]
    }
   ],
   "source": [
    "print(inst_1.__dict__)"
   ]
  },
  {
   "cell_type": "code",
   "execution_count": 176,
   "metadata": {},
   "outputs": [
    {
     "name": "stdout",
     "output_type": "stream",
     "text": [
      "{'_radius': 10}\n"
     ]
    }
   ],
   "source": [
    "print(inst_2.__dict__)"
   ]
  },
  {
   "cell_type": "markdown",
   "metadata": {},
   "source": [
    "<div style=\"padding: 20px; font-family: Arial, sans-serif; background-color: #f9f9f9; border:2px solid black; border-radius: 8px; width: fit-content;\">\n",
    "  <p style=\"color: #555; font-size: 16px; line-height: 1.6; margin-top: 10px;\">\n",
    "  To Pass the class name to <code>help</code>.\n",
    "  </p>\n",
    "</div>"
   ]
  },
  {
   "cell_type": "code",
   "execution_count": 177,
   "metadata": {},
   "outputs": [
    {
     "name": "stdout",
     "output_type": "stream",
     "text": [
      "Help on class Circle in module __main__:\n",
      "\n",
      "class Circle(builtins.object)\n",
      " |  Circle(radius: float = 1.0)\n",
      " |\n",
      " |  A class to represent a circle with given radius and calculate the area, circumference, diameter  and volume\n",
      " |\n",
      " |  Methods defined here:\n",
      " |\n",
      " |  __init__(self, radius: float = 1.0)\n",
      " |      Initialize the Circle with a given radius.\n",
      " |\n",
      " |      Parameters:\n",
      " |      radius (float): The radius of the circle. Default is 1.0.\n",
      " |\n",
      " |  __repr__(self) -> str\n",
      " |      Return a string representation of the Circle instance.\n",
      " |\n",
      " |  __str__(self) -> str\n",
      " |      Return a user-friendly string representation of the Circle.\n",
      " |\n",
      " |  volume(self, height: float) -> None\n",
      " |      Calculate the volume of a cylinder with the circle as the base.\n",
      " |\n",
      " |      Parameters:\n",
      " |      height (float): The height of the cylinder.\n",
      " |\n",
      " |      Returns:\n",
      " |      float: The volume of the cylinder.\n",
      " |\n",
      " |  ----------------------------------------------------------------------\n",
      " |  Class methods defined here:\n",
      " |\n",
      " |  unit_circle() -> 'Circle'\n",
      " |      Create a Circle instance with a radius of 1.\n",
      " |\n",
      " |  ----------------------------------------------------------------------\n",
      " |  Static methods defined here:\n",
      " |\n",
      " |  from_diameter(diameter: float)\n",
      " |      Create a Circle instance from the diameter.\n",
      " |\n",
      " |      Parameters:\n",
      " |      diameter (float): The diameter of the circle.\n",
      " |\n",
      " |      Returns:\n",
      " |      Circle: An instance of Circle.\n",
      " |\n",
      " |  ----------------------------------------------------------------------\n",
      " |  Readonly properties defined here:\n",
      " |\n",
      " |  area\n",
      " |      Calculate the area of the circle.\n",
      " |\n",
      " |  circumference\n",
      " |      Calculate the circumference of the circle.\n",
      " |\n",
      " |  diameter\n",
      " |      Calculate the diameter of the circle.\n",
      " |\n",
      " |  ----------------------------------------------------------------------\n",
      " |  Data descriptors defined here:\n",
      " |\n",
      " |  __dict__\n",
      " |      dictionary for instance variables\n",
      " |\n",
      " |  __weakref__\n",
      " |      list of weak references to the object\n",
      " |\n",
      " |  radius\n",
      " |      Get the radius of the circle.\n",
      "\n"
     ]
    }
   ],
   "source": [
    "help(Circle)"
   ]
  },
  {
   "cell_type": "markdown",
   "metadata": {},
   "source": [
    "<div style=\"padding: 20px; font-family: Arial, sans-serif; background-color: #f9f9f9; border:2px solid black; border-radius: 8px; width: fit-content;\">\n",
    "  <p style=\"color: #555; font-size: 16px; line-height: 1.6; margin-top: 10px;\">\n",
    " To Print the doc-string and annotations of both the class and each instance method.\n",
    "  </p>\n",
    "</div>"
   ]
  },
  {
   "cell_type": "code",
   "execution_count": 178,
   "metadata": {},
   "outputs": [
    {
     "name": "stdout",
     "output_type": "stream",
     "text": [
      "A class to represent a circle with given radius and calculate the area, circumference, diameter  and volume\n",
      "    \n",
      "Method: __init__, Docstring: \n",
      "        Initialize the Circle with a given radius.\n",
      "\n",
      "        Parameters:\n",
      "        radius (float): The radius of the circle. Default is 1.0.\n",
      "        , Annotations: {'radius': <class 'float'>}\n",
      "Method: volume, Docstring: \n",
      "        Calculate the volume of a cylinder with the circle as the base.\n",
      "\n",
      "        Parameters:\n",
      "        height (float): The height of the cylinder.\n",
      "\n",
      "        Returns:\n",
      "        float: The volume of the cylinder.\n",
      "        , Annotations: {'height': <class 'float'>, 'return': None}\n",
      "Method: area, Docstring: Calculate the area of the circle., Annotations: {'return': <class 'float'>}\n",
      "Method: circumference, Docstring: Calculate the circumference of the circle., Annotations: {'return': <class 'float'>}\n",
      "Method: diameter, Docstring: Calculate the diameter of the circle., Annotations: {'return': <class 'float'>}\n",
      "Method: __repr__, Docstring: Return a string representation of the Circle instance., Annotations: {'return': <class 'str'>}\n",
      "Method: __str__, Docstring: Return a user-friendly string representation of the Circle., Annotations: {'return': <class 'str'>}\n",
      "Method: from_diameter, Docstring: \n",
      "        Create a Circle instance from the diameter.\n",
      "\n",
      "        Parameters:\n",
      "        diameter (float): The diameter of the circle.\n",
      "\n",
      "        Returns:\n",
      "        Circle: An instance of Circle.\n",
      "        , Annotations: {'diameter': <class 'float'>}\n",
      "Method: unit_circle, Docstring: Create a Circle instance with a radius of 1., Annotations: {'return': 'Circle'}\n"
     ]
    }
   ],
   "source": [
    "print(Circle.__doc__)\n",
    "for method in [\n",
    "    Circle.__init__,\n",
    "    Circle.volume,\n",
    "    Circle.area,\n",
    "    Circle.circumference,\n",
    "    Circle.diameter,\n",
    "    Circle.__repr__,\n",
    "    Circle.__str__,\n",
    "    Circle.from_diameter,\n",
    "    Circle.unit_circle,\n",
    "]:\n",
    "    if isinstance(method, property):\n",
    "        # For properties, we can access __doc__ directly\n",
    "        print(f\"Method: {method.fget.__name__}, Docstring: {method.__doc__}, Annotations: {method.fget.__annotations__}\")\n",
    "    else:\n",
    "        # For regular methods\n",
    "        print(f\"Method: {method.__name__}, Docstring: {method.__doc__}, Annotations: {method.__annotations__}\")"
   ]
  },
  {
   "cell_type": "markdown",
   "metadata": {},
   "source": [
    "<div style=\"padding: 20px; font-family: Arial, sans-serif; background-color: #f9f9f9; border:2px solid black; border-radius: 8px; width: fit-content;\">\n",
    "  <p style=\"color: #555; font-size: 16px; line-height: 1.6; margin-top: 10px;\">\n",
    "  To  Modify the <code>__init__</code> by by making its parameters default and verify by instances.\n",
    "  </p>\n",
    "</div>"
   ]
  },
  {
   "cell_type": "code",
   "execution_count": 179,
   "metadata": {},
   "outputs": [
    {
     "name": "stdout",
     "output_type": "stream",
     "text": [
      "Circle with radius: 1.0\n"
     ]
    }
   ],
   "source": [
    "inst_3 = Circle()\n",
    "print(inst_3)"
   ]
  },
  {
   "cell_type": "markdown",
   "metadata": {},
   "source": [
    "---------------------"
   ]
  },
  {
   "cell_type": "markdown",
   "metadata": {},
   "source": [
    "<center><span style=\"color:blue; \n",
    "font-family:Algerian; \n",
    "font-weight:bold;\n",
    "font-size:35px;\">Task No # 03 </span></center>"
   ]
  },
  {
   "cell_type": "markdown",
   "metadata": {},
   "source": [
    "<div style=\"padding: 20px; font-family: Arial, sans-serif; background-color: #f9f9f9; border: 2px solid black; border-radius: 8px; width: fit-content;\">\n",
    "  <ul style=\"color: #555; font-size: 16px; line-height: 1.6;\">\n",
    "    <li><strong>Class Definition:</strong> Define a class <code>RLC</code> with the necessary <code>__init__</code> method.</li>\n",
    "    <li><strong>Property Methods:</strong>\n",
    "      <ul>\n",
    "        <li>Add appropriate property methods using <code>@property</code> and <code>@property.setter</code> for <code>resistance</code>, <code>inductance</code>, and <code>capacitance</code>.</li>\n",
    "        <li>Add property methods for <code>impedance</code>, <code>phase</code>, and <code>power factor</code>.</li>\n",
    "      </ul>\n",
    "    </li>\n",
    "    <li><strong>Instance Method:</strong>\n",
    "      <ul>\n",
    "        <li><b>Current Calculation</b>: Add an instance method for calculating the current in the circuit with a given input voltage.</li>\n",
    "      </ul>\n",
    "    </li>\n",
    "    <li><strong>Special Methods:</strong>\n",
    "      <ul>\n",
    "        <li>Implement <code>__repr__</code> and <code>__str__</code> methods to provide clear string representations for the class.</li>\n",
    "        <li>Add methods decorated with <code>@staticmethod</code> and <code>@classmethod</code> if applicable.</li>\n",
    "      </ul>\n",
    "    </li>\n",
    "    <li><strong>Documentation:</strong> Ensure proper annotations and docstrings for every class and instance method to enhance readability and maintainability.</li>\n",
    "  </ul>\n",
    "</div>\n"
   ]
  },
  {
   "cell_type": "code",
   "execution_count": 180,
   "metadata": {},
   "outputs": [],
   "source": [
    "import math\n",
    "\n",
    "class RLC:\n",
    "    \"\"\"A class to represent a series RLC circuit.\"\"\"\n",
    "\n",
    "    def __init__(self, resistance: float = 1.0, inductance: float = 1.0, capacitance: float = 1.0):\n",
    "        \"\"\"\n",
    "        Initialize the RLC circuit with given resistance, inductance, and capacitance.\n",
    "\n",
    "        Parameters:\n",
    "        resistance (float): Resistance in ohms. Default is 1.0.\n",
    "        inductance (float): Inductance in henries. Default is 1.0.\n",
    "        capacitance (float): Capacitance in farads. Default is 1.0.\n",
    "        \"\"\"\n",
    "        self._resistance = resistance\n",
    "        self._inductance = inductance\n",
    "        self._capacitance = capacitance\n",
    "\n",
    "    @property\n",
    "    def resistance(self) -> float:\n",
    "        \"\"\"Get the resistance of the circuit.\"\"\"\n",
    "        return self._resistance\n",
    "\n",
    "    @resistance.setter\n",
    "    def resistance(self, value: float) -> None:\n",
    "        \"\"\"Set the resistance of the circuit.\"\"\"\n",
    "        self._resistance = value\n",
    "\n",
    "    @property\n",
    "    def inductance(self) -> float:\n",
    "        \"\"\"Get the inductance of the circuit.\"\"\"\n",
    "        return self._inductance\n",
    "\n",
    "    @inductance.setter\n",
    "    def inductance(self, value: float) -> None:\n",
    "        \"\"\"Set the inductance of the circuit.\"\"\"\n",
    "        self._inductance = value\n",
    "\n",
    "    @property\n",
    "    def capacitance(self) -> float:\n",
    "        \"\"\"Get the capacitance of the circuit.\"\"\"\n",
    "        return self._capacitance\n",
    "\n",
    "    @capacitance.setter\n",
    "    def capacitance(self, value: float) -> None:\n",
    "        \"\"\"Set the capacitance of the circuit.\"\"\"\n",
    "        self._capacitance = value\n",
    "\n",
    "    @property\n",
    "    def impedance(self) -> float:\n",
    "        \"\"\"Calculate the impedance of the circuit.\"\"\"\n",
    "        reactance = (1 / (self._capacitance * 2 * math.pi * 50)) ** 2 + (self._inductance * 2 * math.pi * 50) **2\n",
    "        return math.sqrt(self._resistance ** 2 + reactance)\n",
    "\n",
    "    @property\n",
    "    def phase(self) -> float:\n",
    "        \"\"\"Calculate the phase angle of the circuit in radians.\"\"\"\n",
    "        reactance = (self._inductance * 2 * math.pi * 50) - (1 / (self._capacitance * 2 * math.pi * 50))\n",
    "        return math.atan(reactance / self._resistance)\n",
    "\n",
    "    @property\n",
    "    def power_factor(self) -> float:\n",
    "        \"\"\"Calculate the power factor of the circuit.\"\"\"\n",
    "        return round(math.cos(self.phase), 2)\n",
    "\n",
    "    def current(self, voltage: float) -> float:\n",
    "        \"\"\"\n",
    "        Calculate the current in the circuit with a given input voltage.\n",
    "\n",
    "        Parameters:\n",
    "        voltage (float): The input voltage in volts.\n",
    "\n",
    "        Returns:\n",
    "        float: The current in amperes.\n",
    "        \"\"\"\n",
    "        return voltage / self.impedance\n",
    "\n",
    "    def __repr__(self) -> str:\n",
    "        \"\"\"Return a string representation of the RLC instance.\"\"\"\n",
    "        return (f\"RLC(resistance={self._resistance} ohm, inductance={self._inductance} H,capacitance={self._capacitance}  F) \")\n",
    "\n",
    "    def __str__(self) -> str:\n",
    "        \"\"\"Return a user-friendly string representation of the RLC circuit.\"\"\"\n",
    "        return (f\"RLC Circuit with Resistance: {self._resistance} ohm, Inductance: {self._inductance} H, Capacitance: {self._capacitance} F\")\n",
    "\n",
    "    @staticmethod\n",
    "    def series_RLC_from_values(resistance: float, inductance: float, capacitance: float):\n",
    "        \"\"\"\n",
    "        Create an RLC instance from resistance, inductance, and capacitance values.\n",
    "\n",
    "        Parameters:\n",
    "        resistance (float): Resistance in ohms.\n",
    "        inductance (float): Inductance in henries.\n",
    "        capacitance (float): Capacitance in farads.\n",
    "\n",
    "        Returns:\n",
    "        RLC: An instance of RLC.\n",
    "        \"\"\"\n",
    "        return RLC(resistance, inductance, capacitance)\n",
    "\n",
    "    @classmethod\n",
    "    def default_RLC(cls):\n",
    "        \"\"\"Create a default RLC instance with default values.\"\"\"\n",
    "        return cls()\n"
   ]
  },
  {
   "cell_type": "markdown",
   "metadata": {},
   "source": [
    "<div style=\"padding: 20px; font-family: Arial, sans-serif; background-color: #f9f9f9; border:2px solid black; border-radius: 8px; width: fit-content;\">\n",
    "  <p style=\"color: #555; font-size: 16px; line-height: 1.6; margin-top: 10px;\">\n",
    "  To Define <code>inst_1</code>,<code>inst_2</code> and pass two numbers \n",
    "  </p>\n",
    "</div>"
   ]
  },
  {
   "cell_type": "code",
   "execution_count": 181,
   "metadata": {},
   "outputs": [],
   "source": [
    "inst_1 = RLC(50, 0.1, 0.001)\n",
    "inst_2 = RLC(100, 0.2, 0.002)"
   ]
  },
  {
   "cell_type": "markdown",
   "metadata": {},
   "source": [
    "<div style=\"padding: 20px; font-family: Arial, sans-serif; background-color: #f9f9f9; border:2px solid black; border-radius: 8px; width: fit-content;\">\n",
    "  <p style=\"color: #555; font-size: 16px; line-height: 1.6; margin-top: 10px;\">\n",
    " To Print <code>inst_1</code> and <code>inst_2</code>, for this use the print command and pass the <code>inst_1</code> and <code>inst_2</code>.\n",
    "  </p>\n",
    "</div>"
   ]
  },
  {
   "cell_type": "code",
   "execution_count": 182,
   "metadata": {},
   "outputs": [
    {
     "name": "stdout",
     "output_type": "stream",
     "text": [
      "RLC Circuit with Resistance: 50 ohm, Inductance: 0.1 H, Capacitance: 0.001 F\n",
      "RLC Circuit with Resistance: 100 ohm, Inductance: 0.2 H, Capacitance: 0.002 F\n"
     ]
    }
   ],
   "source": [
    "print(inst_1)\n",
    "print(inst_2)"
   ]
  },
  {
   "cell_type": "code",
   "execution_count": 183,
   "metadata": {},
   "outputs": [
    {
     "data": {
      "text/plain": [
       "RLC(resistance=50 ohm, inductance=0.1 H,capacitance=0.001  F) "
      ]
     },
     "execution_count": 183,
     "metadata": {},
     "output_type": "execute_result"
    }
   ],
   "source": [
    "inst_1"
   ]
  },
  {
   "cell_type": "code",
   "execution_count": 184,
   "metadata": {},
   "outputs": [
    {
     "data": {
      "text/plain": [
       "RLC(resistance=100 ohm, inductance=0.2 H,capacitance=0.002  F) "
      ]
     },
     "execution_count": 184,
     "metadata": {},
     "output_type": "execute_result"
    }
   ],
   "source": [
    "inst_2"
   ]
  },
  {
   "cell_type": "markdown",
   "metadata": {},
   "source": [
    "<div style=\"padding: 20px; font-family: Arial, sans-serif; background-color: #f9f9f9; border:2px solid black; border-radius: 8px; width: fit-content;\">\n",
    "  <p style=\"color: #555; font-size: 16px; line-height: 1.6; margin-top: 10px;\">\n",
    " To Demonstrate the property, staticmethod and classmethod methods on the instances.\n",
    "  </p>\n",
    "</div>"
   ]
  },
  {
   "cell_type": "code",
   "execution_count": 185,
   "metadata": {},
   "outputs": [
    {
     "name": "stdout",
     "output_type": "stream",
     "text": [
      "Impedance of inst_1: 59.14 ohm\n",
      "Phase of inst_1: 0.51 radians\n",
      "Power Factor of inst_1: 0.87 W\n"
     ]
    }
   ],
   "source": [
    "print(f\"Impedance of inst_1: {inst_1.impedance:.2f} ohm\")\n",
    "print(f\"Phase of inst_1: {inst_1.phase:.2f} radians\")\n",
    "print(f\"Power Factor of inst_1: {inst_1.power_factor} W\")"
   ]
  },
  {
   "cell_type": "code",
   "execution_count": 186,
   "metadata": {},
   "outputs": [
    {
     "name": "stdout",
     "output_type": "stream",
     "text": [
      "Impedance of inst_2: 118.11 ohm\n",
      "Phase of inst_2: 0.55 radians\n",
      "Power Factor of inst_2: 0.85 W\n"
     ]
    }
   ],
   "source": [
    "print(f\"Impedance of inst_2: {inst_2.impedance:.2f} ohm\")\n",
    "print(f\"Phase of inst_2: {inst_2.phase:.2f} radians\")\n",
    "print(f\"Power Factor of inst_2: {inst_2.power_factor:.2f} W\")"
   ]
  },
  {
   "cell_type": "markdown",
   "metadata": {},
   "source": [
    "<div style=\"padding: 20px; font-family: Arial, sans-serif; background-color: #f9f9f9; border:2px solid black; border-radius: 8px; width: fit-content;\">\n",
    "  <p style=\"color: #555; font-size: 16px; line-height: 1.6; margin-top: 10px;\">\n",
    " Current with a given voltage,\n",
    "  </p>\n",
    "</div>"
   ]
  },
  {
   "cell_type": "code",
   "execution_count": 187,
   "metadata": {},
   "outputs": [
    {
     "name": "stdout",
     "output_type": "stream",
     "text": [
      "Current through inst_1 with voltage 220V: 3.72A\n"
     ]
    }
   ],
   "source": [
    "voltage = 220\n",
    "print(f\"Current through inst_1 with voltage {voltage}V: {inst_1.current(voltage):.2f}A\")"
   ]
  },
  {
   "cell_type": "code",
   "execution_count": 188,
   "metadata": {},
   "outputs": [
    {
     "name": "stdout",
     "output_type": "stream",
     "text": [
      "Current through inst_2 with voltage 120V: 1.02A\n"
     ]
    }
   ],
   "source": [
    "voltage = 120\n",
    "print(f\"Current through inst_2 with voltage {voltage}V: {inst_2.current(voltage):.2f}A\")"
   ]
  },
  {
   "cell_type": "markdown",
   "metadata": {},
   "source": [
    "<div style=\"padding: 20px; font-family: Arial, sans-serif; background-color: #f9f9f9; border:2px solid black; border-radius: 8px; width: fit-content;\">\n",
    "  <p style=\"color: #555; font-size: 16px; line-height: 1.6; margin-top: 10px;\">\n",
    " Using the static method.\n",
    "  </p>\n",
    "</div>"
   ]
  },
  {
   "cell_type": "code",
   "execution_count": 189,
   "metadata": {},
   "outputs": [
    {
     "name": "stdout",
     "output_type": "stream",
     "text": [
      "RLC Circuit with Resistance: 75 ohm, Inductance: 0.15 H, Capacitance: 0.0015 F\n"
     ]
    },
    {
     "data": {
      "text/plain": [
       "RLC(resistance=75 ohm, inductance=0.15 H,capacitance=0.0015  F) "
      ]
     },
     "execution_count": 189,
     "metadata": {},
     "output_type": "execute_result"
    }
   ],
   "source": [
    "custom_RLC = RLC.series_RLC_from_values(75, 0.15, 0.0015)\n",
    "print(custom_RLC)\n",
    "custom_RLC"
   ]
  },
  {
   "cell_type": "markdown",
   "metadata": {},
   "source": [
    "<div style=\"padding: 20px; font-family: Arial, sans-serif; background-color: #f9f9f9; border:2px solid black; border-radius: 8px; width: fit-content;\">\n",
    "  <p style=\"color: #555; font-size: 16px; line-height: 1.6; margin-top: 10px;\">\n",
    " Using the class method.\n",
    "  </p>\n",
    "</div>"
   ]
  },
  {
   "cell_type": "code",
   "execution_count": 190,
   "metadata": {},
   "outputs": [
    {
     "name": "stdout",
     "output_type": "stream",
     "text": [
      "RLC Circuit with Resistance: 1.0 ohm, Inductance: 1.0 H, Capacitance: 1.0 F\n"
     ]
    },
    {
     "data": {
      "text/plain": [
       "RLC(resistance=1.0 ohm, inductance=1.0 H,capacitance=1.0  F) "
      ]
     },
     "execution_count": 190,
     "metadata": {},
     "output_type": "execute_result"
    }
   ],
   "source": [
    "default_RLC = RLC.default_RLC()\n",
    "print(default_RLC)\n",
    "default_RLC"
   ]
  },
  {
   "cell_type": "markdown",
   "metadata": {},
   "source": [
    "<div style=\"padding: 20px; font-family: Arial, sans-serif; background-color: #f9f9f9; border:2px solid black; border-radius: 8px; width: fit-content;\">\n",
    "  <p style=\"color: #555; font-size: 16px; line-height: 1.6; margin-top: 10px;\">\n",
    "  To Call the <code>__dict__</code> by the class name.\n",
    "  </p>\n",
    "</div>"
   ]
  },
  {
   "cell_type": "code",
   "execution_count": 191,
   "metadata": {},
   "outputs": [
    {
     "name": "stdout",
     "output_type": "stream",
     "text": [
      "mappingproxy({'__dict__': <attribute '__dict__' of 'RLC' objects>,\n",
      "              '__doc__': 'A class to represent a series RLC circuit.',\n",
      "              '__init__': <function RLC.__init__ at 0x000002B37D066AC0>,\n",
      "              '__module__': '__main__',\n",
      "              '__repr__': <function RLC.__repr__ at 0x000002B37D0671A0>,\n",
      "              '__str__': <function RLC.__str__ at 0x000002B37D067240>,\n",
      "              '__weakref__': <attribute '__weakref__' of 'RLC' objects>,\n",
      "              'capacitance': <property object at 0x000002B37D011620>,\n",
      "              'current': <function RLC.current at 0x000002B37D067100>,\n",
      "              'default_RLC': <classmethod(<function RLC.default_RLC at 0x000002B37D067380>)>,\n",
      "              'impedance': <property object at 0x000002B37D011580>,\n",
      "              'inductance': <property object at 0x000002B37D0114E0>,\n",
      "              'phase': <property object at 0x000002B37D011760>,\n",
      "              'power_factor': <property object at 0x000002B37D011800>,\n",
      "              'resistance': <property object at 0x000002B37D011260>,\n",
      "              'series_RLC_from_values': <staticmethod(<function RLC.series_RLC_from_values at 0x000002B37D0672E0>)>})\n"
     ]
    }
   ],
   "source": [
    "from pprint import pprint\n",
    "pprint(RLC.__dict__)"
   ]
  },
  {
   "cell_type": "markdown",
   "metadata": {},
   "source": [
    "<div style=\"padding: 20px; font-family: Arial, sans-serif; background-color: #f9f9f9; border:2px solid black; border-radius: 8px; width: fit-content;\">\n",
    "  <p style=\"color: #555; font-size: 16px; line-height: 1.6; margin-top: 10px;\">\n",
    "  Also pass the class name to the <code>vars</code> built-in function.\n",
    "  </p>\n",
    "</div>"
   ]
  },
  {
   "cell_type": "code",
   "execution_count": 192,
   "metadata": {},
   "outputs": [
    {
     "name": "stdout",
     "output_type": "stream",
     "text": [
      "mappingproxy({'__dict__': <attribute '__dict__' of 'RLC' objects>,\n",
      "              '__doc__': 'A class to represent a series RLC circuit.',\n",
      "              '__init__': <function RLC.__init__ at 0x000002B37D066AC0>,\n",
      "              '__module__': '__main__',\n",
      "              '__repr__': <function RLC.__repr__ at 0x000002B37D0671A0>,\n",
      "              '__str__': <function RLC.__str__ at 0x000002B37D067240>,\n",
      "              '__weakref__': <attribute '__weakref__' of 'RLC' objects>,\n",
      "              'capacitance': <property object at 0x000002B37D011620>,\n",
      "              'current': <function RLC.current at 0x000002B37D067100>,\n",
      "              'default_RLC': <classmethod(<function RLC.default_RLC at 0x000002B37D067380>)>,\n",
      "              'impedance': <property object at 0x000002B37D011580>,\n",
      "              'inductance': <property object at 0x000002B37D0114E0>,\n",
      "              'phase': <property object at 0x000002B37D011760>,\n",
      "              'power_factor': <property object at 0x000002B37D011800>,\n",
      "              'resistance': <property object at 0x000002B37D011260>,\n",
      "              'series_RLC_from_values': <staticmethod(<function RLC.series_RLC_from_values at 0x000002B37D0672E0>)>})\n"
     ]
    }
   ],
   "source": [
    "pprint(vars(RLC))"
   ]
  },
  {
   "cell_type": "markdown",
   "metadata": {},
   "source": [
    "<div style=\"padding: 20px; font-family: Arial, sans-serif; background-color: #f9f9f9; border:2px solid black; border-radius: 8px; width: fit-content;\">\n",
    "  <p style=\"color: #555; font-size: 16px; line-height: 1.6; margin-top: 10px;\">\n",
    "  To  Call the <code>__dict__</code> on the object of the class.\n",
    "  </p>\n",
    "</div>"
   ]
  },
  {
   "cell_type": "code",
   "execution_count": 193,
   "metadata": {},
   "outputs": [
    {
     "name": "stdout",
     "output_type": "stream",
     "text": [
      "{'_resistance': 50, '_inductance': 0.1, '_capacitance': 0.001}\n",
      "{'_resistance': 100, '_inductance': 0.2, '_capacitance': 0.002}\n"
     ]
    }
   ],
   "source": [
    "print(inst_1.__dict__)\n",
    "print(inst_2.__dict__)"
   ]
  },
  {
   "cell_type": "markdown",
   "metadata": {},
   "source": [
    "<div style=\"padding: 20px; font-family: Arial, sans-serif; background-color: #f9f9f9; border:2px solid black; border-radius: 8px; width: fit-content;\">\n",
    "  <p style=\"color: #555; font-size: 16px; line-height: 1.6; margin-top: 10px;\">\n",
    "  To Pass the class name to <code>help</code>.\n",
    "  </p>\n",
    "</div>"
   ]
  },
  {
   "cell_type": "code",
   "execution_count": 194,
   "metadata": {},
   "outputs": [
    {
     "name": "stdout",
     "output_type": "stream",
     "text": [
      "Help on class RLC in module __main__:\n",
      "\n",
      "class RLC(builtins.object)\n",
      " |  RLC(resistance: float = 1.0, inductance: float = 1.0, capacitance: float = 1.0)\n",
      " |\n",
      " |  A class to represent a series RLC circuit.\n",
      " |\n",
      " |  Methods defined here:\n",
      " |\n",
      " |  __init__(self, resistance: float = 1.0, inductance: float = 1.0, capacitance: float = 1.0)\n",
      " |      Initialize the RLC circuit with given resistance, inductance, and capacitance.\n",
      " |\n",
      " |      Parameters:\n",
      " |      resistance (float): Resistance in ohms. Default is 1.0.\n",
      " |      inductance (float): Inductance in henries. Default is 1.0.\n",
      " |      capacitance (float): Capacitance in farads. Default is 1.0.\n",
      " |\n",
      " |  __repr__(self) -> str\n",
      " |      Return a string representation of the RLC instance.\n",
      " |\n",
      " |  __str__(self) -> str\n",
      " |      Return a user-friendly string representation of the RLC circuit.\n",
      " |\n",
      " |  current(self, voltage: float) -> float\n",
      " |      Calculate the current in the circuit with a given input voltage.\n",
      " |\n",
      " |      Parameters:\n",
      " |      voltage (float): The input voltage in volts.\n",
      " |\n",
      " |      Returns:\n",
      " |      float: The current in amperes.\n",
      " |\n",
      " |  ----------------------------------------------------------------------\n",
      " |  Class methods defined here:\n",
      " |\n",
      " |  default_RLC()\n",
      " |      Create a default RLC instance with default values.\n",
      " |\n",
      " |  ----------------------------------------------------------------------\n",
      " |  Static methods defined here:\n",
      " |\n",
      " |  series_RLC_from_values(resistance: float, inductance: float, capacitance: float)\n",
      " |      Create an RLC instance from resistance, inductance, and capacitance values.\n",
      " |\n",
      " |      Parameters:\n",
      " |      resistance (float): Resistance in ohms.\n",
      " |      inductance (float): Inductance in henries.\n",
      " |      capacitance (float): Capacitance in farads.\n",
      " |\n",
      " |      Returns:\n",
      " |      RLC: An instance of RLC.\n",
      " |\n",
      " |  ----------------------------------------------------------------------\n",
      " |  Readonly properties defined here:\n",
      " |\n",
      " |  impedance\n",
      " |      Calculate the impedance of the circuit.\n",
      " |\n",
      " |  phase\n",
      " |      Calculate the phase angle of the circuit in radians.\n",
      " |\n",
      " |  power_factor\n",
      " |      Calculate the power factor of the circuit.\n",
      " |\n",
      " |  ----------------------------------------------------------------------\n",
      " |  Data descriptors defined here:\n",
      " |\n",
      " |  __dict__\n",
      " |      dictionary for instance variables\n",
      " |\n",
      " |  __weakref__\n",
      " |      list of weak references to the object\n",
      " |\n",
      " |  capacitance\n",
      " |      Get the capacitance of the circuit.\n",
      " |\n",
      " |  inductance\n",
      " |      Get the inductance of the circuit.\n",
      " |\n",
      " |  resistance\n",
      " |      Get the resistance of the circuit.\n",
      "\n"
     ]
    }
   ],
   "source": [
    "help(RLC)"
   ]
  },
  {
   "cell_type": "markdown",
   "metadata": {},
   "source": [
    "<div style=\"padding: 20px; font-family: Arial, sans-serif; background-color: #f9f9f9; border:2px solid black; border-radius: 8px; width: fit-content;\">\n",
    "  <p style=\"color: #555; font-size: 16px; line-height: 1.6; margin-top: 10px;\">\n",
    " To Print the doc-string and annotations of both the class and each instance method.\n",
    "  </p>\n",
    "</div>"
   ]
  },
  {
   "cell_type": "code",
   "execution_count": 195,
   "metadata": {},
   "outputs": [
    {
     "name": "stdout",
     "output_type": "stream",
     "text": [
      "A class to represent a series RLC circuit.\n",
      "Method: __init__, Docstring: \n",
      "        Initialize the RLC circuit with given resistance, inductance, and capacitance.\n",
      "\n",
      "        Parameters:\n",
      "        resistance (float): Resistance in ohms. Default is 1.0.\n",
      "        inductance (float): Inductance in henries. Default is 1.0.\n",
      "        capacitance (float): Capacitance in farads. Default is 1.0.\n",
      "        , Annotations: {'resistance': <class 'float'>, 'inductance': <class 'float'>, 'capacitance': <class 'float'>}\n",
      "Method: impedance, Docstring: Calculate the impedance of the circuit., Annotations: {'return': <class 'float'>}\n",
      "Method: phase, Docstring: Calculate the phase angle of the circuit in radians., Annotations: {'return': <class 'float'>}\n",
      "Method: power_factor, Docstring: Calculate the power factor of the circuit., Annotations: {'return': <class 'float'>}\n",
      "Method: series_RLC_from_values, Docstring: \n",
      "        Create an RLC instance from resistance, inductance, and capacitance values.\n",
      "\n",
      "        Parameters:\n",
      "        resistance (float): Resistance in ohms.\n",
      "        inductance (float): Inductance in henries.\n",
      "        capacitance (float): Capacitance in farads.\n",
      "\n",
      "        Returns:\n",
      "        RLC: An instance of RLC.\n",
      "        , Annotations: {'resistance': <class 'float'>, 'inductance': <class 'float'>, 'capacitance': <class 'float'>}\n",
      "Method: __repr__, Docstring: Return a string representation of the RLC instance., Annotations: {'return': <class 'str'>}\n",
      "Method: __str__, Docstring: Return a user-friendly string representation of the RLC circuit., Annotations: {'return': <class 'str'>}\n",
      "Method: default_RLC, Docstring: Create a default RLC instance with default values., Annotations: {}\n"
     ]
    }
   ],
   "source": [
    "print(RLC.__doc__)\n",
    "for method in [\n",
    "    RLC.__init__,\n",
    "    RLC.impedance,\n",
    "    RLC.phase,\n",
    "    RLC.power_factor,\n",
    "    RLC.series_RLC_from_values,\n",
    "    RLC.__repr__,\n",
    "    RLC.__str__,\n",
    "    RLC.default_RLC,\n",
    "]:\n",
    "    if isinstance(method, property):\n",
    "        # For properties, we can access __doc__ directly\n",
    "        print(f\"Method: {method.fget.__name__}, Docstring: {method.__doc__}, Annotations: {method.fget.__annotations__}\")\n",
    "    else:\n",
    "        # For regular methods\n",
    "        print(f\"Method: {method.__name__}, Docstring: {method.__doc__}, Annotations: {method.__annotations__}\")"
   ]
  },
  {
   "cell_type": "markdown",
   "metadata": {},
   "source": [
    "<div style=\"padding: 20px; font-family: Arial, sans-serif; background-color: #f9f9f9; border:2px solid black; border-radius: 8px; width: fit-content;\">\n",
    "  <p style=\"color: #555; font-size: 16px; line-height: 1.6; margin-top: 10px;\">\n",
    "  To  Modify the <code>__init__3</code> by by making its parameters default and verify by instances.\n",
    "  </p>\n",
    "</div>"
   ]
  },
  {
   "cell_type": "code",
   "execution_count": 196,
   "metadata": {},
   "outputs": [
    {
     "name": "stdout",
     "output_type": "stream",
     "text": [
      "RLC Circuit with Resistance: 1.0 ohm, Inductance: 1.0 H, Capacitance: 1.0 F\n"
     ]
    }
   ],
   "source": [
    "inst_3 = RLC() \n",
    "print(inst_3)"
   ]
  },
  {
   "cell_type": "markdown",
   "metadata": {},
   "source": [
    "----------------"
   ]
  },
  {
   "cell_type": "markdown",
   "metadata": {},
   "source": [
    "<center><span style=\"color:blue; \n",
    "font-family:Algerian; \n",
    "font-weight:bold;\n",
    "font-size:35px;\">Task No # 04 </span></center"
   ]
  },
  {
   "cell_type": "markdown",
   "metadata": {},
   "source": [
    "<div style=\"padding: 20px; font-family: Arial, sans-serif; background-color: #f9f9f9; border:2px solid black; border-radius: 8px; width: fit-content;\">\n",
    "  <p style=\"color: red; font-size: 20px; line-height: 1; margin-top: 10px;\">\n",
    "  <strong style=\"color:blue; font-size:25px:\">Note:</strong> Please make a class for each of the following using the detail procedure from the above\n",
    "tasks.\n",
    "  </p>\n",
    "</div>"
   ]
  },
  {
   "cell_type": "markdown",
   "metadata": {},
   "source": [
    "<div style=\"padding: 20px; font-family: Arial, sans-serif; background-color: #f9f9f9; border: 2px solid black; border-radius: 8px; width: fit-content;\">\n",
    "  <h2 style=\"color: #333;\">Math:</h2>\n",
    "  <ul style=\"color: #555; font-size: 16px; line-height: 1.6;\">\n",
    "    <li><strong>Square</strong>: A four-sided polygon (quadrilateral) with all sides of equal length and all angles equal to 90 degrees.</li>\n",
    "    <li><strong>Rectangle</strong>: A four-sided polygon where opposite sides are equal in length and all angles are equal to 90 degrees.</li>\n",
    "    <li><strong>Triangle</strong>: A three-sided polygon with three edges and three vertices. Various types include equilateral, isosceles, and scalene.</li>\n",
    "    <li><strong>Trapezoid (US) / Trapezium (UK)</strong>: A four-sided figure with at least one pair of parallel sides.</li>\n",
    "    <li><strong>Parallelogram</strong>: A four-sided shape with opposite sides that are equal in length and parallel.</li>\n",
    "    <li><strong>Rhombus</strong>: A parallelogram where all sides are of equal length, but the angles are not necessarily 90 degrees.</li>\n",
    "    <span style=\"color:red;\">These shapes serve as building blocks for more complex forms in geometry and design.</span>\n",
    "  </ul>\n",
    "</div>\n"
   ]
  },
  {
   "cell_type": "markdown",
   "metadata": {},
   "source": [
    "<center><span style=\"color:green; \n",
    "font-family:Matura MT Script Capitals; \n",
    "font-weight:bold;\n",
    "font-size:35px;\">1. Square</span></center"
   ]
  },
  {
   "cell_type": "code",
   "execution_count": 197,
   "metadata": {},
   "outputs": [],
   "source": [
    "class Square:\n",
    "    \"\"\"A class which represent Square: A four-sided polygon (quadrilateral) with all sides of equal length and all angles equal to 90 degrees.\n",
    "    \"\"\"\n",
    "    def __init__(self, side_length: float = 1.0) -> None:\n",
    "        \"\"\" To initiate the class with parameter side_length in  float an default valur (1.0)\n",
    "        \"\"\"\n",
    "        self.side_length = side_length\n",
    "    @property\n",
    "    def side_length(self) -> float:\n",
    "        \"\"\"To get the side length of square\"\"\"\n",
    "        return self._side_length\n",
    "    @side_length.setter\n",
    "    def side_length(self, value: float) -> None:\n",
    "        \"\"\"To set the side length square\"\"\"\n",
    "        self._side_length = value\n",
    "    @property\n",
    "    def area(self) -> float:\n",
    "        \"\"\"To calculate the  area of the square\"\"\"\n",
    "        return self.side_length ** 2\n",
    "    @property\n",
    "    def perimeter(self) -> float:\n",
    "        \"\"\"To calculate the perimeter of the square\"\"\"\n",
    "        return 4 * self.side_length\n",
    "    def __repr__(self) -> str:\n",
    "        \"\"\"Return a string representation of the RLC instance.\"\"\"\n",
    "        return f\"Square(side_length={self.side_length})\"\n",
    "    def __str__(self) -> str:\n",
    "        \"\"\"Return a user-friendly string representation of the RLC circuit.\"\"\"\n",
    "        return f\"Square with side length: {self.side_length}, area: {self.area}, perimeter: {self.perimeter}\"\n"
   ]
  },
  {
   "cell_type": "code",
   "execution_count": 198,
   "metadata": {},
   "outputs": [],
   "source": [
    "s_1 = Square(side_length=4)\n",
    "s_2= Square(side_length = 8)"
   ]
  },
  {
   "cell_type": "code",
   "execution_count": 199,
   "metadata": {},
   "outputs": [
    {
     "name": "stdout",
     "output_type": "stream",
     "text": [
      "Square with side length: 4, area: 16, perimeter: 16\n",
      "Square with side length: 8, area: 64, perimeter: 32\n"
     ]
    }
   ],
   "source": [
    "print(s_1)\n",
    "print(s_2)"
   ]
  },
  {
   "cell_type": "code",
   "execution_count": 200,
   "metadata": {},
   "outputs": [
    {
     "data": {
      "text/plain": [
       "Square(side_length=4)"
      ]
     },
     "execution_count": 200,
     "metadata": {},
     "output_type": "execute_result"
    }
   ],
   "source": [
    "s_1"
   ]
  },
  {
   "cell_type": "code",
   "execution_count": 201,
   "metadata": {},
   "outputs": [
    {
     "data": {
      "text/plain": [
       "Square(side_length=8)"
      ]
     },
     "execution_count": 201,
     "metadata": {},
     "output_type": "execute_result"
    }
   ],
   "source": [
    "s_2"
   ]
  },
  {
   "cell_type": "code",
   "execution_count": 202,
   "metadata": {},
   "outputs": [
    {
     "name": "stdout",
     "output_type": "stream",
     "text": [
      "mappingproxy({'__dict__': <attribute '__dict__' of 'Square' objects>,\n",
      "              '__doc__': 'A class which represent Square: A four-sided polygon '\n",
      "                         '(quadrilateral) with all sides of equal length and '\n",
      "                         'all angles equal to 90 degrees.\\n'\n",
      "                         '    ',\n",
      "              '__init__': <function Square.__init__ at 0x000002B37D066DE0>,\n",
      "              '__module__': '__main__',\n",
      "              '__repr__': <function Square.__repr__ at 0x000002B37D067920>,\n",
      "              '__str__': <function Square.__str__ at 0x000002B37D0679C0>,\n",
      "              '__weakref__': <attribute '__weakref__' of 'Square' objects>,\n",
      "              'area': <property object at 0x000002B37CFBFFB0>,\n",
      "              'perimeter': <property object at 0x000002B37CFBFBA0>,\n",
      "              'side_length': <property object at 0x000002B37CFBFAB0>})\n"
     ]
    }
   ],
   "source": [
    "from pprint import pprint\n",
    "pprint(Square.__dict__)"
   ]
  },
  {
   "cell_type": "code",
   "execution_count": 203,
   "metadata": {},
   "outputs": [
    {
     "name": "stdout",
     "output_type": "stream",
     "text": [
      "mappingproxy({'__dict__': <attribute '__dict__' of 'Square' objects>,\n",
      "              '__doc__': 'A class which represent Square: A four-sided polygon '\n",
      "                         '(quadrilateral) with all sides of equal length and '\n",
      "                         'all angles equal to 90 degrees.\\n'\n",
      "                         '    ',\n",
      "              '__init__': <function Square.__init__ at 0x000002B37D066DE0>,\n",
      "              '__module__': '__main__',\n",
      "              '__repr__': <function Square.__repr__ at 0x000002B37D067920>,\n",
      "              '__str__': <function Square.__str__ at 0x000002B37D0679C0>,\n",
      "              '__weakref__': <attribute '__weakref__' of 'Square' objects>,\n",
      "              'area': <property object at 0x000002B37CFBFFB0>,\n",
      "              'perimeter': <property object at 0x000002B37CFBFBA0>,\n",
      "              'side_length': <property object at 0x000002B37CFBFAB0>})\n"
     ]
    }
   ],
   "source": [
    "pprint(vars(Square))"
   ]
  },
  {
   "cell_type": "code",
   "execution_count": 204,
   "metadata": {},
   "outputs": [
    {
     "name": "stdout",
     "output_type": "stream",
     "text": [
      "{'_side_length': 4}\n",
      "{'_side_length': 8}\n"
     ]
    }
   ],
   "source": [
    "print(s_1.__dict__)\n",
    "print(s_2.__dict__)"
   ]
  },
  {
   "cell_type": "code",
   "execution_count": 205,
   "metadata": {},
   "outputs": [
    {
     "name": "stdout",
     "output_type": "stream",
     "text": [
      "Help on class Square in module __main__:\n",
      "\n",
      "class Square(builtins.object)\n",
      " |  Square(side_length: float = 1.0) -> None\n",
      " |\n",
      " |  A class which represent Square: A four-sided polygon (quadrilateral) with all sides of equal length and all angles equal to 90 degrees.\n",
      " |\n",
      " |  Methods defined here:\n",
      " |\n",
      " |  __init__(self, side_length: float = 1.0) -> None\n",
      " |      To initiate the class with parameter side_length in  float an default valur (1.0)\n",
      " |\n",
      " |  __repr__(self) -> str\n",
      " |      Return a string representation of the RLC instance.\n",
      " |\n",
      " |  __str__(self) -> str\n",
      " |      Return a user-friendly string representation of the RLC circuit.\n",
      " |\n",
      " |  ----------------------------------------------------------------------\n",
      " |  Readonly properties defined here:\n",
      " |\n",
      " |  area\n",
      " |      To calculate the  area of the square\n",
      " |\n",
      " |  perimeter\n",
      " |      To calculate the perimeter of the square\n",
      " |\n",
      " |  ----------------------------------------------------------------------\n",
      " |  Data descriptors defined here:\n",
      " |\n",
      " |  __dict__\n",
      " |      dictionary for instance variables\n",
      " |\n",
      " |  __weakref__\n",
      " |      list of weak references to the object\n",
      " |\n",
      " |  side_length\n",
      " |      To get the side length of square\n",
      "\n"
     ]
    }
   ],
   "source": [
    "help(Square)"
   ]
  },
  {
   "cell_type": "code",
   "execution_count": 206,
   "metadata": {},
   "outputs": [
    {
     "name": "stdout",
     "output_type": "stream",
     "text": [
      "A class which represent Square: A four-sided polygon (quadrilateral) with all sides of equal length and all angles equal to 90 degrees.\n",
      "    \n",
      "Method: __init__, Docstring:  To initiate the class with parameter side_length in  float an default valur (1.0)\n",
      "        , Annotations: {'side_length': <class 'float'>, 'return': None}\n",
      "Method: area, Docstring: To calculate the  area of the square, Annotations: {'return': <class 'float'>}\n",
      "Method: perimeter, Docstring: To calculate the perimeter of the square, Annotations: {'return': <class 'float'>}\n",
      "Method: __repr__, Docstring: Return a string representation of the RLC instance., Annotations: {'return': <class 'str'>}\n",
      "Method: __str__, Docstring: Return a user-friendly string representation of the RLC circuit., Annotations: {'return': <class 'str'>}\n"
     ]
    }
   ],
   "source": [
    "print(Square.__doc__)\n",
    "for method in [\n",
    "    Square.__init__,\n",
    "    Square.area,\n",
    "    Square.perimeter,\n",
    "    Square.__repr__,\n",
    "    Square.__str__,\n",
    "]:\n",
    "    if isinstance(method, property):\n",
    "        # For properties, we can access __doc__ directly\n",
    "        print(f\"Method: {method.fget.__name__}, Docstring: {method.__doc__}, Annotations: {method.fget.__annotations__}\")\n",
    "    else:\n",
    "        # For regular methods\n",
    "        print(f\"Method: {method.__name__}, Docstring: {method.__doc__}, Annotations: {method.__annotations__}\")"
   ]
  },
  {
   "cell_type": "code",
   "execution_count": 207,
   "metadata": {},
   "outputs": [],
   "source": [
    "s_3 = Square()"
   ]
  },
  {
   "cell_type": "code",
   "execution_count": 208,
   "metadata": {},
   "outputs": [
    {
     "name": "stdout",
     "output_type": "stream",
     "text": [
      "Square with side length: 1.0, area: 1.0, perimeter: 4.0\n"
     ]
    },
    {
     "data": {
      "text/plain": [
       "Square(side_length=1.0)"
      ]
     },
     "execution_count": 208,
     "metadata": {},
     "output_type": "execute_result"
    }
   ],
   "source": [
    "print(s_3)\n",
    "s_3"
   ]
  },
  {
   "cell_type": "markdown",
   "metadata": {},
   "source": [
    "<center><span style=\"color:green; \n",
    "font-family:Matura MT Script Capitals; \n",
    "font-weight:bold;\n",
    "font-size:35px;\">2. Rectangle</span></center"
   ]
  },
  {
   "cell_type": "code",
   "execution_count": 209,
   "metadata": {},
   "outputs": [],
   "source": [
    "class Rectangle:\n",
    "    \"\"\"A class which represent Rectangle: A four-sided polygon where opposite sides are equal in length and all angles are equal to 90 degrees.\"\"\"\n",
    "    def __init__(self, width: float = 1.0, height: float = 1.0) -> None:\n",
    "        \"\"\"initiate the class with parameters and its default values\"\"\"\n",
    "        self.width = width\n",
    "        self.height = height\n",
    "    @property\n",
    "    def width(self) -> float:\n",
    "        \"\"\"To get the width of the Rectangle\"\"\"\n",
    "        return self._width\n",
    "    @width.setter\n",
    "    def width(self, value: float) -> None:\n",
    "        \"\"\"To set the width of the Rectangle\"\"\"\n",
    "\n",
    "        self._width = value\n",
    "    @property\n",
    "    def height(self) -> float:\n",
    "        \"\"\"To get the heigth of Rectangle\"\"\"\n",
    "        return self._height\n",
    "    @height.setter\n",
    "    def height(self, value: float) -> None:\n",
    "        \"\"\"To get the heigth of Rectangle\"\"\"\n",
    "        self._height = value\n",
    "    @property\n",
    "    def area(self) -> float:\n",
    "        \"\"\"To calculate the area of the Rectangle\"\"\"\n",
    "        return self.width * self.height\n",
    "    @property\n",
    "    def perimeter(self) -> float:\n",
    "        \"\"\"To calculate the perimeter of the square\"\"\"\n",
    "        return 2 * (self.width + self.height)\n",
    "\n",
    "    def __repr__(self) -> str:\n",
    "        \"\"\"Return a string representation of the Square\"\"\"\n",
    "        return f\"Rectangle(width={self.width}, height={self.height})\"\n",
    "\n",
    "    def __str__(self) -> str:\n",
    "        \"\"\"Return a use-friendly representation of the Squared\"\"\"\n",
    "        return f\"Rectangle with width: {self.width}, height: {self.height}, area: {self.area}, perimeter: {self.perimeter}\"\n"
   ]
  },
  {
   "cell_type": "code",
   "execution_count": 210,
   "metadata": {},
   "outputs": [],
   "source": [
    "R_1 = Rectangle(width=4, height=2)\n",
    "R_2 = Rectangle(width = 7,height = 3)"
   ]
  },
  {
   "cell_type": "code",
   "execution_count": 211,
   "metadata": {},
   "outputs": [
    {
     "name": "stdout",
     "output_type": "stream",
     "text": [
      "Rectangle with width: 4, height: 2, area: 8, perimeter: 12\n",
      "Rectangle with width: 7, height: 3, area: 21, perimeter: 20\n"
     ]
    }
   ],
   "source": [
    "print(R_1)\n",
    "print(R_2)"
   ]
  },
  {
   "cell_type": "code",
   "execution_count": 212,
   "metadata": {},
   "outputs": [
    {
     "data": {
      "text/plain": [
       "Rectangle(width=4, height=2)"
      ]
     },
     "execution_count": 212,
     "metadata": {},
     "output_type": "execute_result"
    }
   ],
   "source": [
    "R_1"
   ]
  },
  {
   "cell_type": "code",
   "execution_count": 213,
   "metadata": {},
   "outputs": [
    {
     "data": {
      "text/plain": [
       "Rectangle(width=7, height=3)"
      ]
     },
     "execution_count": 213,
     "metadata": {},
     "output_type": "execute_result"
    }
   ],
   "source": [
    "R_2"
   ]
  },
  {
   "cell_type": "code",
   "execution_count": 214,
   "metadata": {},
   "outputs": [
    {
     "name": "stdout",
     "output_type": "stream",
     "text": [
      "mappingproxy({'__dict__': <attribute '__dict__' of 'Rectangle' objects>,\n",
      "              '__doc__': 'A class which represent Rectangle: A four-sided '\n",
      "                         'polygon where opposite sides are equal in length and '\n",
      "                         'all angles are equal to 90 degrees.',\n",
      "              '__init__': <function Rectangle.__init__ at 0x000002B37D067D80>,\n",
      "              '__module__': '__main__',\n",
      "              '__repr__': <function Rectangle.__repr__ at 0x000002B37D094180>,\n",
      "              '__str__': <function Rectangle.__str__ at 0x000002B37D094220>,\n",
      "              '__weakref__': <attribute '__weakref__' of 'Rectangle' objects>,\n",
      "              'area': <property object at 0x000002B37D0143B0>,\n",
      "              'height': <property object at 0x000002B37C99D120>,\n",
      "              'perimeter': <property object at 0x000002B37D014C20>,\n",
      "              'width': <property object at 0x000002B37D010C20>})\n"
     ]
    }
   ],
   "source": [
    "from pprint import pprint\n",
    "pprint(Rectangle.__dict__)"
   ]
  },
  {
   "cell_type": "code",
   "execution_count": 215,
   "metadata": {},
   "outputs": [
    {
     "name": "stdout",
     "output_type": "stream",
     "text": [
      "mappingproxy({'__dict__': <attribute '__dict__' of 'Rectangle' objects>,\n",
      "              '__doc__': 'A class which represent Rectangle: A four-sided '\n",
      "                         'polygon where opposite sides are equal in length and '\n",
      "                         'all angles are equal to 90 degrees.',\n",
      "              '__init__': <function Rectangle.__init__ at 0x000002B37D067D80>,\n",
      "              '__module__': '__main__',\n",
      "              '__repr__': <function Rectangle.__repr__ at 0x000002B37D094180>,\n",
      "              '__str__': <function Rectangle.__str__ at 0x000002B37D094220>,\n",
      "              '__weakref__': <attribute '__weakref__' of 'Rectangle' objects>,\n",
      "              'area': <property object at 0x000002B37D0143B0>,\n",
      "              'height': <property object at 0x000002B37C99D120>,\n",
      "              'perimeter': <property object at 0x000002B37D014C20>,\n",
      "              'width': <property object at 0x000002B37D010C20>})\n"
     ]
    }
   ],
   "source": [
    "pprint(vars(Rectangle))"
   ]
  },
  {
   "cell_type": "code",
   "execution_count": 216,
   "metadata": {},
   "outputs": [
    {
     "name": "stdout",
     "output_type": "stream",
     "text": [
      "{'_width': 4, '_height': 2}\n",
      "{'_width': 7, '_height': 3}\n"
     ]
    }
   ],
   "source": [
    "print(R_1.__dict__)\n",
    "print(R_2.__dict__)"
   ]
  },
  {
   "cell_type": "code",
   "execution_count": 217,
   "metadata": {},
   "outputs": [
    {
     "name": "stdout",
     "output_type": "stream",
     "text": [
      "Help on class Rectangle in module __main__:\n",
      "\n",
      "class Rectangle(builtins.object)\n",
      " |  Rectangle(width: float = 1.0, height: float = 1.0) -> None\n",
      " |\n",
      " |  A class which represent Rectangle: A four-sided polygon where opposite sides are equal in length and all angles are equal to 90 degrees.\n",
      " |\n",
      " |  Methods defined here:\n",
      " |\n",
      " |  __init__(self, width: float = 1.0, height: float = 1.0) -> None\n",
      " |      initiate the class with parameters and its default values\n",
      " |\n",
      " |  __repr__(self) -> str\n",
      " |      Return a string representation of the Square\n",
      " |\n",
      " |  __str__(self) -> str\n",
      " |      Return a use-friendly representation of the Squared\n",
      " |\n",
      " |  ----------------------------------------------------------------------\n",
      " |  Readonly properties defined here:\n",
      " |\n",
      " |  area\n",
      " |      To calculate the area of the Rectangle\n",
      " |\n",
      " |  perimeter\n",
      " |      To calculate the perimeter of the square\n",
      " |\n",
      " |  ----------------------------------------------------------------------\n",
      " |  Data descriptors defined here:\n",
      " |\n",
      " |  __dict__\n",
      " |      dictionary for instance variables\n",
      " |\n",
      " |  __weakref__\n",
      " |      list of weak references to the object\n",
      " |\n",
      " |  height\n",
      " |      To get the heigth of Rectangle\n",
      " |\n",
      " |  width\n",
      " |      To get the width of the Rectangle\n",
      "\n"
     ]
    }
   ],
   "source": [
    "help(Rectangle)"
   ]
  },
  {
   "cell_type": "code",
   "execution_count": 218,
   "metadata": {},
   "outputs": [
    {
     "name": "stdout",
     "output_type": "stream",
     "text": [
      "A class which represent Rectangle: A four-sided polygon where opposite sides are equal in length and all angles are equal to 90 degrees.\n",
      "Method: __init__,   Docstring: initiate the class with parameters and its default values,   Annotations: {'width': <class 'float'>, 'height': <class 'float'>, 'return': None}\n",
      "Method: area,    Docstring: To calculate the area of the Rectangle,     Annotations: {'return': <class 'float'>}\n",
      "Method: perimeter,    Docstring: To calculate the perimeter of the square,     Annotations: {'return': <class 'float'>}\n",
      "Method: __repr__,   Docstring: Return a string representation of the Square,   Annotations: {'return': <class 'str'>}\n",
      "Method: __str__,   Docstring: Return a use-friendly representation of the Squared,   Annotations: {'return': <class 'str'>}\n"
     ]
    }
   ],
   "source": [
    "print(Rectangle.__doc__)\n",
    "for method in [\n",
    "    Rectangle.__init__,\n",
    "    Rectangle.area,\n",
    "    Rectangle.perimeter,\n",
    "    Rectangle.__repr__,\n",
    "    Rectangle.__str__,\n",
    "]:\n",
    "    if isinstance(method, property):\n",
    "        print(f\"Method: {method.fget.__name__},    Docstring: {method.__doc__},     Annotations: {method.fget.__annotations__}\")\n",
    "    else:\n",
    "        print(f\"Method: {method.__name__},   Docstring: {method.__doc__},   Annotations: {method.__annotations__}\")"
   ]
  },
  {
   "cell_type": "code",
   "execution_count": 219,
   "metadata": {},
   "outputs": [
    {
     "name": "stdout",
     "output_type": "stream",
     "text": [
      "Rectangle with width: 1.0, height: 1.0, area: 1.0, perimeter: 4.0\n"
     ]
    },
    {
     "data": {
      "text/plain": [
       "Rectangle(width=1.0, height=1.0)"
      ]
     },
     "execution_count": 219,
     "metadata": {},
     "output_type": "execute_result"
    }
   ],
   "source": [
    "R_3 = Rectangle()\n",
    "print(R_3)\n",
    "R_3"
   ]
  },
  {
   "cell_type": "markdown",
   "metadata": {},
   "source": [
    "<center><span style=\"color:green; \n",
    "font-family:Matura MT Script Capitals; \n",
    "font-weight:bold;\n",
    "font-size:35px;\">3. Triangle</span></center>"
   ]
  },
  {
   "cell_type": "code",
   "execution_count": 220,
   "metadata": {},
   "outputs": [],
   "source": [
    "import math\n",
    "class Triangle:\n",
    "    \"\"\"A class which represent Triangle: A three-sided polygon with three edges and three vertices. Various types include equilateral, isosceles, and scalene.\"\"\"\n",
    "    def __init__(self, a: float = 1.0, b: float = 1.0, c: float = 1.0) -> None:\n",
    "        \"\"\"To initiate the class (Triangle) and given the parameters with  default value\"\"\"\n",
    "        self.a = a\n",
    "        self.b = b\n",
    "        self.c = c\n",
    "\n",
    "    @property\n",
    "    def a(self) -> float:\n",
    "        \"\"\"To get the a side of the Triangle\"\"\"\n",
    "        return self._a\n",
    "\n",
    "    @a.setter\n",
    "    def a(self, value: float) -> None:\n",
    "        \"\"\"To set the a side of  the Triangle\"\"\"\n",
    "        self._a = value\n",
    "\n",
    "    @property\n",
    "    def b(self) -> float:\n",
    "        \"\"\"To get the b side of the Triangle\"\"\"\n",
    "        return self._b\n",
    "\n",
    "    @b.setter\n",
    "    def b(self, value: float) -> None:\n",
    "        \"\"\"To set the b side of the Triangle\"\"\"\n",
    "        self._b = value\n",
    "\n",
    "    @property\n",
    "    def c(self) -> float:\n",
    "        \"\"\"To  get the c side of the Triangle\"\"\"\n",
    "        return self._c\n",
    "\n",
    "    @c.setter\n",
    "    def c(self, value: float) -> None:\n",
    "        \"\"\"To set the c side of the Triangle\"\"\"\n",
    "        if value <= 0:\n",
    "            raise ValueError(\"Side length must be positive.\")\n",
    "        self._c = value\n",
    "\n",
    "    @property\n",
    "    def area(self) -> float:\n",
    "        \"\"\"To calculate the area of the Triangle\"\"\"\n",
    "        s = (self.a + self.b + self.c) / 2\n",
    "        return math.sqrt(s * (s - self.a) * (s - self.b) * (s - self.c))\n",
    "\n",
    "    @property\n",
    "    def perimeter(self) -> float:\n",
    "        \"\"\"To calculate the perimeter of the  Triangle\"\"\"\n",
    "        return self.a + self.b + self.c\n",
    "\n",
    "    def __repr__(self) -> str:\n",
    "        \"\"\"Return a string representation of the Triangle \"\"\"\n",
    "        return f\"Triangle(a={self.a}, b={self.b}, c={self.c})\"\n",
    "\n",
    "    def __str__(self) -> str:\n",
    "        \"\"\"Return a use-friendly  representation of the Triangle\"\"\"\n",
    "        return (f\"Triangle with sides: a={self.a}, b={self.b}, c={self.c},area: {self.area}, perimeter: {self.perimeter}\")\n"
   ]
  },
  {
   "cell_type": "code",
   "execution_count": 221,
   "metadata": {},
   "outputs": [],
   "source": [
    "T_1= Triangle(a=3, b=4, c=5)\n",
    "T_2 = Triangle(a = 7, b = 3, c=6)"
   ]
  },
  {
   "cell_type": "code",
   "execution_count": 222,
   "metadata": {},
   "outputs": [
    {
     "name": "stdout",
     "output_type": "stream",
     "text": [
      "Triangle with sides: a=3, b=4, c=5,area: 6.0, perimeter: 12\n",
      "Triangle with sides: a=7, b=3, c=6,area: 8.94427190999916, perimeter: 16\n"
     ]
    }
   ],
   "source": [
    "print(T_1)\n",
    "print(T_2)"
   ]
  },
  {
   "cell_type": "code",
   "execution_count": 223,
   "metadata": {},
   "outputs": [
    {
     "data": {
      "text/plain": [
       "Triangle(a=3, b=4, c=5)"
      ]
     },
     "execution_count": 223,
     "metadata": {},
     "output_type": "execute_result"
    }
   ],
   "source": [
    "T_1"
   ]
  },
  {
   "cell_type": "code",
   "execution_count": 224,
   "metadata": {},
   "outputs": [
    {
     "data": {
      "text/plain": [
       "Triangle(a=7, b=3, c=6)"
      ]
     },
     "execution_count": 224,
     "metadata": {},
     "output_type": "execute_result"
    }
   ],
   "source": [
    "T_2"
   ]
  },
  {
   "cell_type": "code",
   "execution_count": 225,
   "metadata": {},
   "outputs": [
    {
     "name": "stdout",
     "output_type": "stream",
     "text": [
      "mappingproxy({'__dict__': <attribute '__dict__' of 'Triangle' objects>,\n",
      "              '__doc__': 'A class which represent Triangle: A three-sided '\n",
      "                         'polygon with three edges and three vertices. Various '\n",
      "                         'types include equilateral, isosceles, and scalene.',\n",
      "              '__init__': <function Triangle.__init__ at 0x000002B37CFAD3A0>,\n",
      "              '__module__': '__main__',\n",
      "              '__repr__': <function Triangle.__repr__ at 0x000002B37D094900>,\n",
      "              '__str__': <function Triangle.__str__ at 0x000002B37D0949A0>,\n",
      "              '__weakref__': <attribute '__weakref__' of 'Triangle' objects>,\n",
      "              'a': <property object at 0x000002B37D014950>,\n",
      "              'area': <property object at 0x000002B37CFBC0E0>,\n",
      "              'b': <property object at 0x000002B37D015BC0>,\n",
      "              'c': <property object at 0x000002B37D029CB0>,\n",
      "              'perimeter': <property object at 0x000002B37D010A90>})\n"
     ]
    }
   ],
   "source": [
    "from pprint import pprint\n",
    "pprint(Triangle.__dict__)"
   ]
  },
  {
   "cell_type": "code",
   "execution_count": 226,
   "metadata": {},
   "outputs": [
    {
     "name": "stdout",
     "output_type": "stream",
     "text": [
      "mappingproxy({'__dict__': <attribute '__dict__' of 'Triangle' objects>,\n",
      "              '__doc__': 'A class which represent Triangle: A three-sided '\n",
      "                         'polygon with three edges and three vertices. Various '\n",
      "                         'types include equilateral, isosceles, and scalene.',\n",
      "              '__init__': <function Triangle.__init__ at 0x000002B37CFAD3A0>,\n",
      "              '__module__': '__main__',\n",
      "              '__repr__': <function Triangle.__repr__ at 0x000002B37D094900>,\n",
      "              '__str__': <function Triangle.__str__ at 0x000002B37D0949A0>,\n",
      "              '__weakref__': <attribute '__weakref__' of 'Triangle' objects>,\n",
      "              'a': <property object at 0x000002B37D014950>,\n",
      "              'area': <property object at 0x000002B37CFBC0E0>,\n",
      "              'b': <property object at 0x000002B37D015BC0>,\n",
      "              'c': <property object at 0x000002B37D029CB0>,\n",
      "              'perimeter': <property object at 0x000002B37D010A90>})\n"
     ]
    }
   ],
   "source": [
    "pprint(vars(Triangle))"
   ]
  },
  {
   "cell_type": "code",
   "execution_count": 227,
   "metadata": {},
   "outputs": [
    {
     "name": "stdout",
     "output_type": "stream",
     "text": [
      "{'_a': 3, '_b': 4, '_c': 5}\n",
      "{'_a': 7, '_b': 3, '_c': 6}\n"
     ]
    }
   ],
   "source": [
    "print(T_1.__dict__)\n",
    "print(T_2.__dict__)"
   ]
  },
  {
   "cell_type": "code",
   "execution_count": 228,
   "metadata": {},
   "outputs": [
    {
     "name": "stdout",
     "output_type": "stream",
     "text": [
      "Help on class Triangle in module __main__:\n",
      "\n",
      "class Triangle(builtins.object)\n",
      " |  Triangle(a: float = 1.0, b: float = 1.0, c: float = 1.0) -> None\n",
      " |\n",
      " |  A class which represent Triangle: A three-sided polygon with three edges and three vertices. Various types include equilateral, isosceles, and scalene.\n",
      " |\n",
      " |  Methods defined here:\n",
      " |\n",
      " |  __init__(self, a: float = 1.0, b: float = 1.0, c: float = 1.0) -> None\n",
      " |      To initiate the class (Triangle) and given the parameters with  default value\n",
      " |\n",
      " |  __repr__(self) -> str\n",
      " |      Return a string representation of the Triangle\n",
      " |\n",
      " |  __str__(self) -> str\n",
      " |      Return a use-friendly  representation of the Triangle\n",
      " |\n",
      " |  ----------------------------------------------------------------------\n",
      " |  Readonly properties defined here:\n",
      " |\n",
      " |  area\n",
      " |      To calculate the area of the Triangle\n",
      " |\n",
      " |  perimeter\n",
      " |      To calculate the perimeter of the  Triangle\n",
      " |\n",
      " |  ----------------------------------------------------------------------\n",
      " |  Data descriptors defined here:\n",
      " |\n",
      " |  __dict__\n",
      " |      dictionary for instance variables\n",
      " |\n",
      " |  __weakref__\n",
      " |      list of weak references to the object\n",
      " |\n",
      " |  a\n",
      " |      To get the a side of the Triangle\n",
      " |\n",
      " |  b\n",
      " |      To get the b side of the Triangle\n",
      " |\n",
      " |  c\n",
      " |      To  get the c side of the Triangle\n",
      "\n"
     ]
    }
   ],
   "source": [
    "help(Triangle)"
   ]
  },
  {
   "cell_type": "code",
   "execution_count": 229,
   "metadata": {},
   "outputs": [
    {
     "name": "stdout",
     "output_type": "stream",
     "text": [
      "A class which represent Triangle: A three-sided polygon with three edges and three vertices. Various types include equilateral, isosceles, and scalene.\n",
      "Method: __init__,   Docstring: To initiate the class (Triangle) and given the parameters with  default value,   Annotations: {'a': <class 'float'>, 'b': <class 'float'>, 'c': <class 'float'>, 'return': None}\n",
      "Method: area,   Docstring: To calculate the area of the Triangle,   Annotations: {'return': <class 'float'>}\n",
      "Method: perimeter,   Docstring: To calculate the perimeter of the  Triangle,   Annotations: {'return': <class 'float'>}\n",
      "Method: __repr__,   Docstring: Return a string representation of the Triangle ,   Annotations: {'return': <class 'str'>}\n",
      "Method: __str__,   Docstring: Return a use-friendly  representation of the Triangle,   Annotations: {'return': <class 'str'>}\n"
     ]
    }
   ],
   "source": [
    "print(Triangle.__doc__)\n",
    "for method in [\n",
    "    Triangle.__init__,\n",
    "    Triangle.area,\n",
    "    Triangle.perimeter,\n",
    "    Triangle.__repr__,\n",
    "    Triangle.__str__,\n",
    "]:\n",
    "    if isinstance(method, property):\n",
    "        # For properties, we can access __doc__ directly\n",
    "        print(f\"Method: {method.fget.__name__},   Docstring: {method.__doc__},   Annotations: {method.fget.__annotations__}\")\n",
    "    else:\n",
    "        # For regular methods\n",
    "        print(f\"Method: {method.__name__},   Docstring: {method.__doc__},   Annotations: {method.__annotations__}\")"
   ]
  },
  {
   "cell_type": "code",
   "execution_count": 230,
   "metadata": {},
   "outputs": [
    {
     "name": "stdout",
     "output_type": "stream",
     "text": [
      "Triangle with sides: a=1.0, b=1.0, c=1.0,area: 0.4330127018922193, perimeter: 3.0\n"
     ]
    },
    {
     "data": {
      "text/plain": [
       "Triangle(a=1.0, b=1.0, c=1.0)"
      ]
     },
     "execution_count": 230,
     "metadata": {},
     "output_type": "execute_result"
    }
   ],
   "source": [
    "T_3 = Triangle()\n",
    "print(T_3)\n",
    "T_3"
   ]
  },
  {
   "cell_type": "markdown",
   "metadata": {},
   "source": [
    "<center><span style=\"color:green; \n",
    "font-family:Matura MT Script Capitals; \n",
    "font-weight:bold;\n",
    "font-size:35px;\">4. Trapezoid</span></center>"
   ]
  },
  {
   "cell_type": "code",
   "execution_count": 231,
   "metadata": {},
   "outputs": [],
   "source": [
    "class Trapezoid:\n",
    "    \"\"\"A class which represent Trapezoid: A four-sided figure with at least one pair of parallel sides.\"\"\"\n",
    "    def __init__(self, base1: float = 1.0, base2: float = 1.0, height: float = 1.0) -> None:\n",
    "        \"\"\"To innitiate the class with giving parameters\"\"\"\n",
    "        self.base1 = base1\n",
    "        self.base2 = base2\n",
    "        self.height = height\n",
    "\n",
    "    @property\n",
    "    def base1(self) -> float:\n",
    "        \"\"\"To get the base1 of the Trapezoid\"\"\"\n",
    "        return self._base1\n",
    "\n",
    "    @base1.setter\n",
    "    def base1(self, value: float) -> None:\n",
    "        \"\"\"To set the base1 of the Trapezoid\"\"\"\n",
    "        self._base1 = value\n",
    "\n",
    "    @property\n",
    "    def base2(self) -> float:\n",
    "        \"\"\"To get the base2 of the Trapezoid\"\"\"\n",
    "        return self._base2\n",
    "\n",
    "    @base2.setter\n",
    "    def base2(self, value: float) -> None:\n",
    "        \"\"\"To set the base2 of the Trapezoid\"\"\"\n",
    "        self._base2 = value\n",
    "\n",
    "    @property\n",
    "    def height(self) -> float:\n",
    "        \"\"\"To get the heigth of the Trapezoid\"\"\"\n",
    "        return self._height\n",
    "\n",
    "    @height.setter\n",
    "    def height(self, value: float) -> None:\n",
    "        \"\"\"To set the heigth of the Trapezoid\"\"\"\n",
    "        self._height = value\n",
    "\n",
    "    @property\n",
    "    def area(self) -> float:\n",
    "        \"\"\"To calculate the area of the Trapezoid\"\"\"\n",
    "        return (self.base1 + self.base2) * self.height / 2\n",
    "\n",
    "    @property\n",
    "    def perimeter(self) -> float:\n",
    "        \"\"\"To calculate the perimeter of the Trapezoid\"\"\"\n",
    "        raise NotImplementedError(\"Perimeter calculation requires lengths of non-parallel sides.\")\n",
    "\n",
    "    def __repr__(self) -> str:\n",
    "        \"\"\"Return the string  Representation of the Trapezoid\"\"\"\n",
    "        return f\"Trapezoid(base1={self.base1}, base2={self.base2}, height={self.height})\"\n",
    "\n",
    "    def __str__(self) -> str:\n",
    "        \"\"\"Return the user_friendly  Representation  of  the Trapezoid\"\"\"\n",
    "        return (f\"Trapezoid with base1: {self.base1}, base2: {self.base2},height: {self.height}, area: {self.area}\")\n"
   ]
  },
  {
   "cell_type": "code",
   "execution_count": 232,
   "metadata": {},
   "outputs": [],
   "source": [
    "tr_1 = Trapezoid(3, 5, 7)\n",
    "tr_2 = Trapezoid(5, 2, 6)"
   ]
  },
  {
   "cell_type": "code",
   "execution_count": 233,
   "metadata": {},
   "outputs": [
    {
     "name": "stdout",
     "output_type": "stream",
     "text": [
      "Trapezoid with base1: 3, base2: 5,height: 7, area: 28.0\n",
      "Trapezoid with base1: 5, base2: 2,height: 6, area: 21.0\n"
     ]
    }
   ],
   "source": [
    "print(tr_1)\n",
    "print(tr_2)"
   ]
  },
  {
   "cell_type": "code",
   "execution_count": 234,
   "metadata": {},
   "outputs": [
    {
     "data": {
      "text/plain": [
       "Trapezoid(base1=3, base2=5, height=7)"
      ]
     },
     "execution_count": 234,
     "metadata": {},
     "output_type": "execute_result"
    }
   ],
   "source": [
    "tr_1"
   ]
  },
  {
   "cell_type": "code",
   "execution_count": 235,
   "metadata": {},
   "outputs": [
    {
     "data": {
      "text/plain": [
       "Trapezoid(base1=5, base2=2, height=6)"
      ]
     },
     "execution_count": 235,
     "metadata": {},
     "output_type": "execute_result"
    }
   ],
   "source": [
    "tr_2"
   ]
  },
  {
   "cell_type": "code",
   "execution_count": 236,
   "metadata": {},
   "outputs": [
    {
     "name": "stdout",
     "output_type": "stream",
     "text": [
      "mappingproxy({'__dict__': <attribute '__dict__' of 'Trapezoid' objects>,\n",
      "              '__doc__': 'A class which represent Trapezoid: A four-sided '\n",
      "                         'figure with at least one pair of parallel sides.',\n",
      "              '__init__': <function Trapezoid.__init__ at 0x000002B379C01BC0>,\n",
      "              '__module__': '__main__',\n",
      "              '__repr__': <function Trapezoid.__repr__ at 0x000002B37D095120>,\n",
      "              '__str__': <function Trapezoid.__str__ at 0x000002B37D0951C0>,\n",
      "              '__weakref__': <attribute '__weakref__' of 'Trapezoid' objects>,\n",
      "              'area': <property object at 0x000002B37D01D300>,\n",
      "              'base1': <property object at 0x000002B37D01C4A0>,\n",
      "              'base2': <property object at 0x000002B37D01C450>,\n",
      "              'height': <property object at 0x000002B37D01C360>,\n",
      "              'perimeter': <property object at 0x000002B37D01C540>})\n"
     ]
    }
   ],
   "source": [
    "from pprint import pprint\n",
    "pprint(Trapezoid.__dict__)"
   ]
  },
  {
   "cell_type": "code",
   "execution_count": 237,
   "metadata": {},
   "outputs": [
    {
     "name": "stdout",
     "output_type": "stream",
     "text": [
      "mappingproxy({'__dict__': <attribute '__dict__' of 'Trapezoid' objects>,\n",
      "              '__doc__': 'A class which represent Trapezoid: A four-sided '\n",
      "                         'figure with at least one pair of parallel sides.',\n",
      "              '__init__': <function Trapezoid.__init__ at 0x000002B379C01BC0>,\n",
      "              '__module__': '__main__',\n",
      "              '__repr__': <function Trapezoid.__repr__ at 0x000002B37D095120>,\n",
      "              '__str__': <function Trapezoid.__str__ at 0x000002B37D0951C0>,\n",
      "              '__weakref__': <attribute '__weakref__' of 'Trapezoid' objects>,\n",
      "              'area': <property object at 0x000002B37D01D300>,\n",
      "              'base1': <property object at 0x000002B37D01C4A0>,\n",
      "              'base2': <property object at 0x000002B37D01C450>,\n",
      "              'height': <property object at 0x000002B37D01C360>,\n",
      "              'perimeter': <property object at 0x000002B37D01C540>})\n"
     ]
    }
   ],
   "source": [
    "pprint(vars(Trapezoid))"
   ]
  },
  {
   "cell_type": "code",
   "execution_count": 238,
   "metadata": {},
   "outputs": [
    {
     "name": "stdout",
     "output_type": "stream",
     "text": [
      "{'_base1': 3, '_base2': 5, '_height': 7}\n",
      "{'_base1': 5, '_base2': 2, '_height': 6}\n"
     ]
    }
   ],
   "source": [
    "print(tr_1.__dict__)\n",
    "print(tr_2.__dict__)"
   ]
  },
  {
   "cell_type": "code",
   "execution_count": 239,
   "metadata": {},
   "outputs": [
    {
     "name": "stdout",
     "output_type": "stream",
     "text": [
      "Help on class Trapezoid in module __main__:\n",
      "\n",
      "class Trapezoid(builtins.object)\n",
      " |  Trapezoid(base1: float = 1.0, base2: float = 1.0, height: float = 1.0) -> None\n",
      " |\n",
      " |  A class which represent Trapezoid: A four-sided figure with at least one pair of parallel sides.\n",
      " |\n",
      " |  Methods defined here:\n",
      " |\n",
      " |  __init__(self, base1: float = 1.0, base2: float = 1.0, height: float = 1.0) -> None\n",
      " |      To innitiate the class with giving parameters\n",
      " |\n",
      " |  __repr__(self) -> str\n",
      " |      Return the string  Representation of the Trapezoid\n",
      " |\n",
      " |  __str__(self) -> str\n",
      " |      Return the user_friendly  Representation  of  the Trapezoid\n",
      " |\n",
      " |  ----------------------------------------------------------------------\n",
      " |  Readonly properties defined here:\n",
      " |\n",
      " |  area\n",
      " |      To calculate the area of the Trapezoid\n",
      " |\n",
      " |  perimeter\n",
      " |      To calculate the perimeter of the Trapezoid\n",
      " |\n",
      " |  ----------------------------------------------------------------------\n",
      " |  Data descriptors defined here:\n",
      " |\n",
      " |  __dict__\n",
      " |      dictionary for instance variables\n",
      " |\n",
      " |  __weakref__\n",
      " |      list of weak references to the object\n",
      " |\n",
      " |  base1\n",
      " |      To get the base1 of the Trapezoid\n",
      " |\n",
      " |  base2\n",
      " |      To get the base2 of the Trapezoid\n",
      " |\n",
      " |  height\n",
      " |      To get the heigth of the Trapezoid\n",
      "\n"
     ]
    }
   ],
   "source": [
    "help(Trapezoid)"
   ]
  },
  {
   "cell_type": "code",
   "execution_count": 240,
   "metadata": {},
   "outputs": [
    {
     "name": "stdout",
     "output_type": "stream",
     "text": [
      "A class which represent Trapezoid: A four-sided figure with at least one pair of parallel sides.\n",
      "Method: __init__,   Docstring: To innitiate the class with giving parameters,   Annotations: {'base1': <class 'float'>, 'base2': <class 'float'>, 'height': <class 'float'>, 'return': None}\n",
      "(Method: area),  (Docstring: To calculate the area of the Trapezoid),  (Annotations: {'return': <class 'float'>})\n",
      "(Method: perimeter),  (Docstring: To calculate the perimeter of the Trapezoid),  (Annotations: {'return': <class 'float'>})\n",
      "Method: __repr__,   Docstring: Return the string  Representation of the Trapezoid,   Annotations: {'return': <class 'str'>}\n",
      "Method: __str__,   Docstring: Return the user_friendly  Representation  of  the Trapezoid,   Annotations: {'return': <class 'str'>}\n"
     ]
    }
   ],
   "source": [
    "print(Trapezoid.__doc__)\n",
    "for method in [\n",
    "    Trapezoid.__init__,\n",
    "    Trapezoid.area,\n",
    "    Trapezoid.perimeter,\n",
    "    Trapezoid.__repr__,\n",
    "    Trapezoid.__str__,\n",
    "]:\n",
    "    if isinstance(method, property):\n",
    "        # For properties, we can access __doc__ directly\n",
    "        print(f\"(Method: {method.fget.__name__}),  (Docstring: {method.__doc__}),  (Annotations: {method.fget.__annotations__})\")\n",
    "    else:\n",
    "        # For regular methods\n",
    "        print(f\"Method: {method.__name__},   Docstring: {method.__doc__},   Annotations: {method.__annotations__}\")"
   ]
  },
  {
   "cell_type": "code",
   "execution_count": 241,
   "metadata": {},
   "outputs": [
    {
     "name": "stdout",
     "output_type": "stream",
     "text": [
      "Trapezoid with base1: 5, base2: 9,height: 2, area: 14.0\n"
     ]
    },
    {
     "data": {
      "text/plain": [
       "Trapezoid(base1=5, base2=9, height=2)"
      ]
     },
     "execution_count": 241,
     "metadata": {},
     "output_type": "execute_result"
    }
   ],
   "source": [
    "tr_3 = Trapezoid(5, 9, 2)\n",
    "print(tr_3)\n",
    "tr_3"
   ]
  },
  {
   "cell_type": "markdown",
   "metadata": {},
   "source": [
    "<center><span style=\"color:green; \n",
    "font-family:Matura MT Script Capitals; \n",
    "font-weight:bold;\n",
    "font-size:35px;\">5. Parallelogram</span></center>"
   ]
  },
  {
   "cell_type": "code",
   "execution_count": 242,
   "metadata": {},
   "outputs": [],
   "source": [
    "class Parallelogram:\n",
    "    \"\"\"A class which represent Parallelogram: Where all sides are of equal length, but the angles are not necessarily 90 degrees.\"\"\"\n",
    "    def __init__(self, base: float = 1.0, height: float = 1.0) -> None:\n",
    "        \"\"\"To initiate the class and give parameters with default value\"\"\"\n",
    "        self.base = base\n",
    "        self.height = height\n",
    "\n",
    "    @property\n",
    "    def base(self) -> float:\n",
    "        \"\"\"To get the base of Parallelogram\"\"\"\n",
    "        return self._base\n",
    "\n",
    "    @base.setter\n",
    "    def base(self, value: float) -> None:\n",
    "        \"\"\"To set the base of Parallelogram\"\"\"\n",
    "        self._base = value\n",
    "\n",
    "    @property\n",
    "    def height(self) -> float:\n",
    "        \"\"\"\"To get the heigth of Parallelogram\"\"\"\n",
    "        return self._height\n",
    "\n",
    "    @height.setter\n",
    "    def height(self, value: float) -> None:\n",
    "        \"\"\"To set the heigth of Parallelogram\"\"\"\n",
    "        self._height = value\n",
    "\n",
    "    @property\n",
    "    def area(self) -> float:\n",
    "        \"\"\"To calculate the area of the Parallelogram\"\"\"\n",
    "        return self.base * self.height\n",
    "\n",
    "    @property\n",
    "    def perimeter(self) -> float:\n",
    "        \"\"\"To calculate the perimeter of Parallelogram\"\"\"\n",
    "        return 2 * (self.base + self.height)\n",
    "    @staticmethod\n",
    "    def calculate_area(base: float, height: float) -> float:\n",
    "        \"\"\"Calculate the area of a parallelogram given base and height.\"\"\"\n",
    "        return base * height\n",
    "    @classmethod\n",
    "    def from_side_and_angle(cls, side: float, angle_degrees: float) -> 'Parallelogram':\n",
    "        \"\"\"\n",
    "        Create a Parallelogram instance given a side length and an angle between the sides.\n",
    "        Args:\n",
    "            side (float): The length of the side.\n",
    "            angle_degrees (float): The angle between the sides in degrees.\n",
    "        Returns:\n",
    "            Parallelogram: A new instance of Parallelogram.\n",
    "        \"\"\"\n",
    "        height = side * math.sin(math.radians(angle_degrees))\n",
    "        return cls(base=side, height=height)   \n",
    "    def __repr__(self) -> str:\n",
    "        \"\"\"Return the string  Representation of the Parallelogram\"\"\"\n",
    "        return f\"Parallelogram(base={self.base}, height={self.height})\"\n",
    "    def __str__(self) -> str:\n",
    "        \"\"\"Return the user_friendly  Representation  of  the Trapezoid\"\"\"\n",
    "        return (f\"Parallelogram with base: {self.base}, height: {self.height}, \"\n",
    "                f\"area: {self.area}\")\n"
   ]
  },
  {
   "cell_type": "code",
   "execution_count": 243,
   "metadata": {},
   "outputs": [],
   "source": [
    "p_1 = Parallelogram(4, 4)\n",
    "p_2 = Parallelogram(6, 6)"
   ]
  },
  {
   "cell_type": "code",
   "execution_count": 244,
   "metadata": {},
   "outputs": [
    {
     "name": "stdout",
     "output_type": "stream",
     "text": [
      "Parallelogram with base: 4, height: 4, area: 16\n",
      "Parallelogram with base: 6, height: 6, area: 36\n"
     ]
    }
   ],
   "source": [
    "print(p_1)\n",
    "print(p_2)"
   ]
  },
  {
   "cell_type": "code",
   "execution_count": 245,
   "metadata": {},
   "outputs": [
    {
     "data": {
      "text/plain": [
       "Parallelogram(base=4, height=4)"
      ]
     },
     "execution_count": 245,
     "metadata": {},
     "output_type": "execute_result"
    }
   ],
   "source": [
    "p_1"
   ]
  },
  {
   "cell_type": "code",
   "execution_count": 246,
   "metadata": {},
   "outputs": [
    {
     "data": {
      "text/plain": [
       "Parallelogram(base=6, height=6)"
      ]
     },
     "execution_count": 246,
     "metadata": {},
     "output_type": "execute_result"
    }
   ],
   "source": [
    "p_2"
   ]
  },
  {
   "cell_type": "code",
   "execution_count": 247,
   "metadata": {},
   "outputs": [
    {
     "name": "stdout",
     "output_type": "stream",
     "text": [
      "mappingproxy({'__dict__': <attribute '__dict__' of 'Parallelogram' objects>,\n",
      "              '__doc__': 'A class which represent Parallelogram: Where all '\n",
      "                         'sides are of equal length, but the angles are not '\n",
      "                         'necessarily 90 degrees.',\n",
      "              '__init__': <function Parallelogram.__init__ at 0x000002B37D03A340>,\n",
      "              '__module__': '__main__',\n",
      "              '__repr__': <function Parallelogram.__repr__ at 0x000002B37D067F60>,\n",
      "              '__str__': <function Parallelogram.__str__ at 0x000002B37D067560>,\n",
      "              '__weakref__': <attribute '__weakref__' of 'Parallelogram' objects>,\n",
      "              'area': <property object at 0x000002B37CF13650>,\n",
      "              'base': <property object at 0x000002B37CF15FD0>,\n",
      "              'calculate_area': <staticmethod(<function Parallelogram.calculate_area at 0x000002B37D067CE0>)>,\n",
      "              'from_side_and_angle': <classmethod(<function Parallelogram.from_side_and_angle at 0x000002B37D067C40>)>,\n",
      "              'height': <property object at 0x000002B37CF152B0>,\n",
      "              'perimeter': <property object at 0x000002B37CF164D0>})\n"
     ]
    }
   ],
   "source": [
    "from pprint  import pprint\n",
    "pprint(Parallelogram.__dict__)"
   ]
  },
  {
   "cell_type": "code",
   "execution_count": 248,
   "metadata": {},
   "outputs": [
    {
     "name": "stdout",
     "output_type": "stream",
     "text": [
      "mappingproxy({'__dict__': <attribute '__dict__' of 'Parallelogram' objects>,\n",
      "              '__doc__': 'A class which represent Parallelogram: Where all '\n",
      "                         'sides are of equal length, but the angles are not '\n",
      "                         'necessarily 90 degrees.',\n",
      "              '__init__': <function Parallelogram.__init__ at 0x000002B37D03A340>,\n",
      "              '__module__': '__main__',\n",
      "              '__repr__': <function Parallelogram.__repr__ at 0x000002B37D067F60>,\n",
      "              '__str__': <function Parallelogram.__str__ at 0x000002B37D067560>,\n",
      "              '__weakref__': <attribute '__weakref__' of 'Parallelogram' objects>,\n",
      "              'area': <property object at 0x000002B37CF13650>,\n",
      "              'base': <property object at 0x000002B37CF15FD0>,\n",
      "              'calculate_area': <staticmethod(<function Parallelogram.calculate_area at 0x000002B37D067CE0>)>,\n",
      "              'from_side_and_angle': <classmethod(<function Parallelogram.from_side_and_angle at 0x000002B37D067C40>)>,\n",
      "              'height': <property object at 0x000002B37CF152B0>,\n",
      "              'perimeter': <property object at 0x000002B37CF164D0>})\n"
     ]
    }
   ],
   "source": [
    "pprint(vars(Parallelogram))"
   ]
  },
  {
   "cell_type": "code",
   "execution_count": 249,
   "metadata": {},
   "outputs": [
    {
     "name": "stdout",
     "output_type": "stream",
     "text": [
      "Help on class Parallelogram in module __main__:\n",
      "\n",
      "class Parallelogram(builtins.object)\n",
      " |  Parallelogram(base: float = 1.0, height: float = 1.0) -> None\n",
      " |\n",
      " |  A class which represent Parallelogram: Where all sides are of equal length, but the angles are not necessarily 90 degrees.\n",
      " |\n",
      " |  Methods defined here:\n",
      " |\n",
      " |  __init__(self, base: float = 1.0, height: float = 1.0) -> None\n",
      " |      To initiate the class and give parameters with default value\n",
      " |\n",
      " |  __repr__(self) -> str\n",
      " |      Return the string  Representation of the Parallelogram\n",
      " |\n",
      " |  __str__(self) -> str\n",
      " |      Return the user_friendly  Representation  of  the Trapezoid\n",
      " |\n",
      " |  ----------------------------------------------------------------------\n",
      " |  Class methods defined here:\n",
      " |\n",
      " |  from_side_and_angle(side: float, angle_degrees: float) -> 'Parallelogram'\n",
      " |      Create a Parallelogram instance given a side length and an angle between the sides.\n",
      " |      Args:\n",
      " |          side (float): The length of the side.\n",
      " |          angle_degrees (float): The angle between the sides in degrees.\n",
      " |      Returns:\n",
      " |          Parallelogram: A new instance of Parallelogram.\n",
      " |\n",
      " |  ----------------------------------------------------------------------\n",
      " |  Static methods defined here:\n",
      " |\n",
      " |  calculate_area(base: float, height: float) -> float\n",
      " |      Calculate the area of a parallelogram given base and height.\n",
      " |\n",
      " |  ----------------------------------------------------------------------\n",
      " |  Readonly properties defined here:\n",
      " |\n",
      " |  area\n",
      " |      To calculate the area of the Parallelogram\n",
      " |\n",
      " |  perimeter\n",
      " |      To calculate the perimeter of Parallelogram\n",
      " |\n",
      " |  ----------------------------------------------------------------------\n",
      " |  Data descriptors defined here:\n",
      " |\n",
      " |  __dict__\n",
      " |      dictionary for instance variables\n",
      " |\n",
      " |  __weakref__\n",
      " |      list of weak references to the object\n",
      " |\n",
      " |  base\n",
      " |      To get the base of Parallelogram\n",
      " |\n",
      " |  height\n",
      " |      \"To get the heigth of Parallelogram\n",
      "\n"
     ]
    }
   ],
   "source": [
    "help(Parallelogram)"
   ]
  },
  {
   "cell_type": "code",
   "execution_count": 250,
   "metadata": {},
   "outputs": [
    {
     "name": "stdout",
     "output_type": "stream",
     "text": [
      "{'_base': 4, '_height': 4}\n",
      "{'_base': 6, '_height': 6}\n"
     ]
    }
   ],
   "source": [
    "print(p_1.__dict__)\n",
    "print(p_2.__dict__)"
   ]
  },
  {
   "cell_type": "code",
   "execution_count": 251,
   "metadata": {},
   "outputs": [
    {
     "name": "stdout",
     "output_type": "stream",
     "text": [
      "A class which represent Parallelogram: Where all sides are of equal length, but the angles are not necessarily 90 degrees.\n",
      "\n",
      "Method: __init__,   Docstring: To initiate the class and give parameters with default value,   Annotations: {'base': <class 'float'>, 'height': <class 'float'>, 'return': None}\n",
      "(Method: area),  (Docstring: To calculate the area of the Parallelogram),  (Annotations: {'return': <class 'float'>})\n",
      "(Method: perimeter),  (Docstring: To calculate the perimeter of Parallelogram),  (Annotations: {'return': <class 'float'>})\n",
      "Method: calculate_area,   Docstring: Calculate the area of a parallelogram given base and height.,   Annotations: {'base': <class 'float'>, 'height': <class 'float'>, 'return': <class 'float'>}\n",
      "Method: from_side_and_angle,   Docstring: \n",
      "        Create a Parallelogram instance given a side length and an angle between the sides.\n",
      "        Args:\n",
      "            side (float): The length of the side.\n",
      "            angle_degrees (float): The angle between the sides in degrees.\n",
      "        Returns:\n",
      "            Parallelogram: A new instance of Parallelogram.\n",
      "        ,   Annotations: {'side': <class 'float'>, 'angle_degrees': <class 'float'>, 'return': 'Parallelogram'}\n",
      "Method: __repr__,   Docstring: Return the string  Representation of the Parallelogram,   Annotations: {'return': <class 'str'>}\n",
      "Method: __str__,   Docstring: Return the user_friendly  Representation  of  the Trapezoid,   Annotations: {'return': <class 'str'>}\n"
     ]
    }
   ],
   "source": [
    "print(Parallelogram.__doc__)\n",
    "print()\n",
    "for method in [\n",
    "    Parallelogram.__init__,\n",
    "    Parallelogram.area,\n",
    "    Parallelogram.perimeter,\n",
    "    Parallelogram.calculate_area,\n",
    "    Parallelogram.from_side_and_angle,\n",
    "    Parallelogram.__repr__,    \n",
    "    Parallelogram.__str__,\n",
    "]:\n",
    "    if isinstance(method, property):\n",
    "        print(f\"(Method: {method.fget.__name__}),  (Docstring: {method.__doc__}),  (Annotations: {method.fget.__annotations__})\")\n",
    "    else:\n",
    "        print(f\"Method: {method.__name__},   Docstring: {method.__doc__},   Annotations: {method.__annotations__}\")"
   ]
  },
  {
   "cell_type": "code",
   "execution_count": 252,
   "metadata": {},
   "outputs": [
    {
     "name": "stdout",
     "output_type": "stream",
     "text": [
      "Parallelogram with base: 8, height: 8, area: 64\n"
     ]
    },
    {
     "data": {
      "text/plain": [
       "Parallelogram(base=8, height=8)"
      ]
     },
     "execution_count": 252,
     "metadata": {},
     "output_type": "execute_result"
    }
   ],
   "source": [
    "p_3 = Parallelogram(8,8)\n",
    "print(p_3)\n",
    "p_3"
   ]
  },
  {
   "cell_type": "code",
   "execution_count": null,
   "metadata": {},
   "outputs": [],
   "source": []
  },
  {
   "cell_type": "markdown",
   "metadata": {},
   "source": [
    "<center><span style=\"color:green; \n",
    "font-family:Matura MT Script Capitals; \n",
    "font-weight:bold;\n",
    "font-size:35px;\">6. Rhombus</span></center>"
   ]
  },
  {
   "cell_type": "code",
   "execution_count": 253,
   "metadata": {},
   "outputs": [],
   "source": [
    "class Rhombus:\n",
    "    def __init__(self, side_length: float = 1.0, height: float = 1.0) -> None:\n",
    "        self.side_length = side_length\n",
    "        self.height = height\n",
    "\n",
    "    @property\n",
    "    def side_length(self) -> float:\n",
    "        return self._side_length\n",
    "\n",
    "    @side_length.setter\n",
    "    def side_length(self, value: float) -> None:\n",
    "        self._side_length = value\n",
    "\n",
    "    @property\n",
    "    def height(self) -> float:\n",
    "        return self._height\n",
    "\n",
    "    @height.setter\n",
    "    def height(self, value: float) -> None:\n",
    "        self._height = value\n",
    "\n",
    "    @property\n",
    "    def area(self) -> float:\n",
    "        return self.side_length * self.height\n",
    "\n",
    "    @property\n",
    "    def perimeter(self) -> float:\n",
    "        return 4 * self.side_length\n",
    "\n",
    "    def __repr__(self) -> str:\n",
    "        return f\"Rhombus(side_length={self.side_length}, height={self.height})\"\n",
    "\n",
    "    def __str__(self) -> str:\n",
    "        return f\"Rhombus with side length {self.side_length} and height {self.height}\""
   ]
  },
  {
   "cell_type": "code",
   "execution_count": 254,
   "metadata": {},
   "outputs": [],
   "source": [
    "R_1 = Rhombus(5,8 )\n",
    "R_2 = Rhombus(7,3)"
   ]
  },
  {
   "cell_type": "code",
   "execution_count": 255,
   "metadata": {},
   "outputs": [
    {
     "name": "stdout",
     "output_type": "stream",
     "text": [
      "Rhombus with side length 5 and height 8\n",
      "Rhombus with side length 7 and height 3\n"
     ]
    }
   ],
   "source": [
    "print(R_1)\n",
    "print(R_2)"
   ]
  },
  {
   "cell_type": "code",
   "execution_count": 256,
   "metadata": {},
   "outputs": [
    {
     "data": {
      "text/plain": [
       "Rhombus(side_length=5, height=8)"
      ]
     },
     "execution_count": 256,
     "metadata": {},
     "output_type": "execute_result"
    }
   ],
   "source": [
    "R_1"
   ]
  },
  {
   "cell_type": "code",
   "execution_count": 257,
   "metadata": {},
   "outputs": [
    {
     "data": {
      "text/plain": [
       "Rhombus(side_length=7, height=3)"
      ]
     },
     "execution_count": 257,
     "metadata": {},
     "output_type": "execute_result"
    }
   ],
   "source": [
    "R_2"
   ]
  },
  {
   "cell_type": "code",
   "execution_count": 258,
   "metadata": {},
   "outputs": [
    {
     "name": "stdout",
     "output_type": "stream",
     "text": [
      "mappingproxy({'__dict__': <attribute '__dict__' of 'Rhombus' objects>,\n",
      "              '__doc__': None,\n",
      "              '__init__': <function Rhombus.__init__ at 0x000002B37D095300>,\n",
      "              '__module__': '__main__',\n",
      "              '__repr__': <function Rhombus.__repr__ at 0x000002B37D095940>,\n",
      "              '__str__': <function Rhombus.__str__ at 0x000002B37D0959E0>,\n",
      "              '__weakref__': <attribute '__weakref__' of 'Rhombus' objects>,\n",
      "              'area': <property object at 0x000002B37CEF5C60>,\n",
      "              'height': <property object at 0x000002B37CEF6110>,\n",
      "              'perimeter': <property object at 0x000002B37CEF6020>,\n",
      "              'side_length': <property object at 0x000002B37CEF6070>})\n"
     ]
    }
   ],
   "source": [
    "from pprint import pprint \n",
    "pprint(Rhombus.__dict__)"
   ]
  },
  {
   "cell_type": "code",
   "execution_count": 259,
   "metadata": {},
   "outputs": [
    {
     "name": "stdout",
     "output_type": "stream",
     "text": [
      "mappingproxy({'__dict__': <attribute '__dict__' of 'Rhombus' objects>,\n",
      "              '__doc__': None,\n",
      "              '__init__': <function Rhombus.__init__ at 0x000002B37D095300>,\n",
      "              '__module__': '__main__',\n",
      "              '__repr__': <function Rhombus.__repr__ at 0x000002B37D095940>,\n",
      "              '__str__': <function Rhombus.__str__ at 0x000002B37D0959E0>,\n",
      "              '__weakref__': <attribute '__weakref__' of 'Rhombus' objects>,\n",
      "              'area': <property object at 0x000002B37CEF5C60>,\n",
      "              'height': <property object at 0x000002B37CEF6110>,\n",
      "              'perimeter': <property object at 0x000002B37CEF6020>,\n",
      "              'side_length': <property object at 0x000002B37CEF6070>})\n"
     ]
    }
   ],
   "source": [
    "pprint(vars(Rhombus))"
   ]
  },
  {
   "cell_type": "code",
   "execution_count": 260,
   "metadata": {},
   "outputs": [
    {
     "name": "stdout",
     "output_type": "stream",
     "text": [
      "Help on class Rhombus in module __main__:\n",
      "\n",
      "class Rhombus(builtins.object)\n",
      " |  Rhombus(side_length: float = 1.0, height: float = 1.0) -> None\n",
      " |\n",
      " |  Methods defined here:\n",
      " |\n",
      " |  __init__(self, side_length: float = 1.0, height: float = 1.0) -> None\n",
      " |      Initialize self.  See help(type(self)) for accurate signature.\n",
      " |\n",
      " |  __repr__(self) -> str\n",
      " |      Return repr(self).\n",
      " |\n",
      " |  __str__(self) -> str\n",
      " |      Return str(self).\n",
      " |\n",
      " |  ----------------------------------------------------------------------\n",
      " |  Readonly properties defined here:\n",
      " |\n",
      " |  area\n",
      " |\n",
      " |  perimeter\n",
      " |\n",
      " |  ----------------------------------------------------------------------\n",
      " |  Data descriptors defined here:\n",
      " |\n",
      " |  __dict__\n",
      " |      dictionary for instance variables\n",
      " |\n",
      " |  __weakref__\n",
      " |      list of weak references to the object\n",
      " |\n",
      " |  height\n",
      " |\n",
      " |  side_length\n",
      "\n"
     ]
    }
   ],
   "source": [
    "help(Rhombus)"
   ]
  },
  {
   "cell_type": "code",
   "execution_count": 261,
   "metadata": {},
   "outputs": [
    {
     "name": "stdout",
     "output_type": "stream",
     "text": [
      "{'_side_length': 5, '_height': 8}\n",
      "{'_side_length': 7, '_height': 3}\n"
     ]
    }
   ],
   "source": [
    "print(R_1.__dict__)\n",
    "print(R_2.__dict__)"
   ]
  },
  {
   "cell_type": "code",
   "execution_count": 262,
   "metadata": {},
   "outputs": [
    {
     "name": "stdout",
     "output_type": "stream",
     "text": [
      "None\n",
      "Method: __init__,   Docstring: None,   Annotations: {'side_length': <class 'float'>, 'height': <class 'float'>, 'return': None}\n",
      "(Method: area),  (Docstring: None),  (Annotations: {'return': <class 'float'>})\n",
      "(Method: perimeter),  (Docstring: None),  (Annotations: {'return': <class 'float'>})\n",
      "Method: __repr__,   Docstring: None,   Annotations: {'return': <class 'str'>}\n",
      "Method: __str__,   Docstring: None,   Annotations: {'return': <class 'str'>}\n"
     ]
    }
   ],
   "source": [
    "print(Rhombus.__doc__)\n",
    "for method in [\n",
    "    Rhombus.__init__,\n",
    "    Rhombus.area,\n",
    "    Rhombus.perimeter,\n",
    "    Rhombus.__repr__,\n",
    "    Rhombus.__str__,\n",
    "]:\n",
    "    if isinstance(method, property):\n",
    "        # For properties, we can access __doc__ directly\n",
    "        print(f\"(Method: {method.fget.__name__}),  (Docstring: {method.__doc__}),  (Annotations: {method.fget.__annotations__})\")\n",
    "    else:\n",
    "        # For regular methods\n",
    "        print(f\"Method: {method.__name__},   Docstring: {method.__doc__},   Annotations: {method.__annotations__}\")"
   ]
  },
  {
   "cell_type": "code",
   "execution_count": 263,
   "metadata": {},
   "outputs": [
    {
     "name": "stdout",
     "output_type": "stream",
     "text": [
      "Rhombus with side length 3 and height 6\n"
     ]
    },
    {
     "data": {
      "text/plain": [
       "Rhombus(side_length=3, height=6)"
      ]
     },
     "execution_count": 263,
     "metadata": {},
     "output_type": "execute_result"
    }
   ],
   "source": [
    "R_3 = Rhombus(3, 6)\n",
    "print(R_3)\n",
    "R_3"
   ]
  },
  {
   "cell_type": "markdown",
   "metadata": {},
   "source": [
    "--------------------"
   ]
  },
  {
   "cell_type": "markdown",
   "metadata": {},
   "source": [
    "----------------"
   ]
  },
  {
   "cell_type": "markdown",
   "metadata": {},
   "source": [
    "<center><span style=\"color:blue; \n",
    "font-family:Algerian; \n",
    "font-weight:bold;\n",
    "font-size:35px;\">Task No # 05 </span></center>"
   ]
  },
  {
   "cell_type": "markdown",
   "metadata": {},
   "source": [
    "<div style=\"padding: 20px; font-family: Arial, sans-serif; background-color: #f9f9f9; border: 2px solid black; border-radius: 8px; width: fit-content;\">\n",
    "  <h2 style=\"color: #333;\">Circuit:</h2>\n",
    "  <ul style=\"color: #555; font-size: 16px; line-height: 1.6;\">\n",
    "    <li><strong>Resistor Circuit:</strong> Create a class for a circuit that contains only one resistor.</li>\n",
    "    <li><strong>RL Circuit:</strong> Develop a class representing an RL (Resistor-Inductor) circuit.</li>\n",
    "    <li><strong>RC Circuit:</strong> Create a class for an RC (Resistor-Capacitor) circuit.</li>\n",
    "    <li><strong>RLC Parallel Circuit:</strong> Construct a class for RLC (Resistor-Inductor-Capacitor) parallel circuits.</li>\n",
    "    <li><strong>RLC Series Resonance:</strong> Modify the existing RLC series class to implement the series resonance case.</li>\n",
    "    <li><strong>RLC Parallel Resonance:</strong> Adapt the RLC parallel class to account for the parallel resonance case.</li>\n",
    "  </ul>\n",
    "</div>"
   ]
  },
  {
   "cell_type": "markdown",
   "metadata": {},
   "source": [
    "<center><span style=\"color:green; \n",
    "font-family:Matura MT Script Capitals; \n",
    "font-weight:bold;\n",
    "font-size:35px;\">1. Resistor</span></center"
   ]
  },
  {
   "cell_type": "code",
   "execution_count": 1,
   "metadata": {},
   "outputs": [],
   "source": [
    "class Resistor:\n",
    "    \"\"\"A class to represent a simple circuit with a single resistor.\"\"\"\n",
    "    \n",
    "    def __init__(self, resistance: float = 1.0) -> None:\n",
    "        \"\"\"Initialize the resistor with the given resistance value.\n",
    "        \n",
    "        Args:\n",
    "            resistance (float): Resistance in ohms. Defaults to 1.0.\n",
    "        \"\"\"\n",
    "        self.resistance = resistance\n",
    "\n",
    "    @property\n",
    "    def resistance(self) -> float:\n",
    "        \"\"\"Get the resistance value.\"\"\"\n",
    "        return self._resistance\n",
    "\n",
    "    @resistance.setter\n",
    "    def resistance(self, value: float):\n",
    "        \"\"\"Set the resistance value.\"\"\"\n",
    "        self._resistance = value\n",
    "    @staticmethod\n",
    "    def calculate_power(resistance: float, current: float) -> float:\n",
    "        \"\"\"Static method to calculate the power dissipated in a resistor.  \n",
    "        Parameters:\n",
    "            resistance (float): Resistance in ohms.\n",
    "            current (float): Current in amps.\n",
    "        Returns:\n",
    "            float: Power in watts.\n",
    "        \"\"\"\n",
    "        return resistance * (current ** 2)\n",
    "    @classmethod\n",
    "    def with_standard_resistance(cls, standard_value: float = 10.0):\n",
    "        \"\"\"Class method to create a resistor circuit with a standard resistance.\n",
    "        parameters:\n",
    "            standard_value (float): Common resistor value in ohms.\n",
    "        Returns:\n",
    "            ResistorCircuit: A new instance with the specified standard resistance.\n",
    "        \"\"\"\n",
    "        return cls(resistance=standard_value)\n",
    "    def __repr__(self) -> str:\n",
    "        \"\"\"A  string  representation of the Resistor\"\"\"\n",
    "        return f\"Resistor(resistance={self.resistance} ohm)\"\n",
    "    def __str__(self) -> str:\n",
    "        \"\"\"A user-friendly  representation of Resistor\"\"\"\n",
    "        return f\"Resistor with resistancae: {self.resistance} ohms\"\n"
   ]
  },
  {
   "cell_type": "code",
   "execution_count": 2,
   "metadata": {},
   "outputs": [],
   "source": [
    "resistor = Resistor(10)"
   ]
  },
  {
   "cell_type": "code",
   "execution_count": 3,
   "metadata": {},
   "outputs": [
    {
     "name": "stdout",
     "output_type": "stream",
     "text": [
      "Resistor with resistancae: 10 ohms\n"
     ]
    }
   ],
   "source": [
    "print(resistor)"
   ]
  },
  {
   "cell_type": "code",
   "execution_count": 4,
   "metadata": {},
   "outputs": [
    {
     "data": {
      "text/plain": [
       "Resistor(resistance=10 ohm)"
      ]
     },
     "execution_count": 4,
     "metadata": {},
     "output_type": "execute_result"
    }
   ],
   "source": [
    "resistor"
   ]
  },
  {
   "cell_type": "code",
   "execution_count": 5,
   "metadata": {},
   "outputs": [
    {
     "name": "stdout",
     "output_type": "stream",
     "text": [
      "mappingproxy({'__dict__': <attribute '__dict__' of 'Resistor' objects>,\n",
      "              '__doc__': 'A class to represent a simple circuit with a single '\n",
      "                         'resistor.',\n",
      "              '__init__': <function Resistor.__init__ at 0x0000020E67F58CC0>,\n",
      "              '__module__': '__main__',\n",
      "              '__repr__': <function Resistor.__repr__ at 0x0000020E67F59D00>,\n",
      "              '__str__': <function Resistor.__str__ at 0x0000020E67F59DA0>,\n",
      "              '__weakref__': <attribute '__weakref__' of 'Resistor' objects>,\n",
      "              'calculate_power': <staticmethod(<function Resistor.calculate_power at 0x0000020E67F58F40>)>,\n",
      "              'resistance': <property object at 0x0000020E67F885E0>,\n",
      "              'with_standard_resistance': <classmethod(<function Resistor.with_standard_resistance at 0x0000020E67F59C60>)>})\n"
     ]
    }
   ],
   "source": [
    "from pprint import pprint \n",
    "pprint(Resistor.__dict__)"
   ]
  },
  {
   "cell_type": "code",
   "execution_count": 6,
   "metadata": {},
   "outputs": [
    {
     "name": "stdout",
     "output_type": "stream",
     "text": [
      "mappingproxy({'__dict__': <attribute '__dict__' of 'Resistor' objects>,\n",
      "              '__doc__': 'A class to represent a simple circuit with a single '\n",
      "                         'resistor.',\n",
      "              '__init__': <function Resistor.__init__ at 0x0000020E67F58CC0>,\n",
      "              '__module__': '__main__',\n",
      "              '__repr__': <function Resistor.__repr__ at 0x0000020E67F59D00>,\n",
      "              '__str__': <function Resistor.__str__ at 0x0000020E67F59DA0>,\n",
      "              '__weakref__': <attribute '__weakref__' of 'Resistor' objects>,\n",
      "              'calculate_power': <staticmethod(<function Resistor.calculate_power at 0x0000020E67F58F40>)>,\n",
      "              'resistance': <property object at 0x0000020E67F885E0>,\n",
      "              'with_standard_resistance': <classmethod(<function Resistor.with_standard_resistance at 0x0000020E67F59C60>)>})\n"
     ]
    }
   ],
   "source": [
    "pprint(vars(Resistor))"
   ]
  },
  {
   "cell_type": "code",
   "execution_count": 7,
   "metadata": {},
   "outputs": [
    {
     "name": "stdout",
     "output_type": "stream",
     "text": [
      "Help on class Resistor in module __main__:\n",
      "\n",
      "class Resistor(builtins.object)\n",
      " |  Resistor(resistance: float = 1.0) -> None\n",
      " |\n",
      " |  A class to represent a simple circuit with a single resistor.\n",
      " |\n",
      " |  Methods defined here:\n",
      " |\n",
      " |  __init__(self, resistance: float = 1.0) -> None\n",
      " |      Initialize the resistor with the given resistance value.\n",
      " |\n",
      " |      Args:\n",
      " |          resistance (float): Resistance in ohms. Defaults to 1.0.\n",
      " |\n",
      " |  __repr__(self) -> str\n",
      " |      A  string  representation of the Resistor\n",
      " |\n",
      " |  __str__(self) -> str\n",
      " |      A user-friendly  representation of Resistor\n",
      " |\n",
      " |  ----------------------------------------------------------------------\n",
      " |  Class methods defined here:\n",
      " |\n",
      " |  with_standard_resistance(standard_value: float = 10.0)\n",
      " |      Class method to create a resistor circuit with a standard resistance.\n",
      " |      parameters:\n",
      " |          standard_value (float): Common resistor value in ohms.\n",
      " |      Returns:\n",
      " |          ResistorCircuit: A new instance with the specified standard resistance.\n",
      " |\n",
      " |  ----------------------------------------------------------------------\n",
      " |  Static methods defined here:\n",
      " |\n",
      " |  calculate_power(resistance: float, current: float) -> float\n",
      " |      Static method to calculate the power dissipated in a resistor.\n",
      " |      Parameters:\n",
      " |          resistance (float): Resistance in ohms.\n",
      " |          current (float): Current in amps.\n",
      " |      Returns:\n",
      " |          float: Power in watts.\n",
      " |\n",
      " |  ----------------------------------------------------------------------\n",
      " |  Data descriptors defined here:\n",
      " |\n",
      " |  __dict__\n",
      " |      dictionary for instance variables\n",
      " |\n",
      " |  __weakref__\n",
      " |      list of weak references to the object\n",
      " |\n",
      " |  resistance\n",
      " |      Get the resistance value.\n",
      "\n"
     ]
    }
   ],
   "source": [
    "help(Resistor)"
   ]
  },
  {
   "cell_type": "code",
   "execution_count": 8,
   "metadata": {},
   "outputs": [
    {
     "name": "stdout",
     "output_type": "stream",
     "text": [
      "{'_resistance': 10}\n"
     ]
    }
   ],
   "source": [
    "print(resistor.__dict__)"
   ]
  },
  {
   "cell_type": "code",
   "execution_count": 9,
   "metadata": {},
   "outputs": [
    {
     "name": "stdout",
     "output_type": "stream",
     "text": [
      "A class to represent a simple circuit with a single resistor.\n",
      "Method: __init__,   Docstring: Initialize the resistor with the given resistance value.\n",
      "        \n",
      "        Args:\n",
      "            resistance (float): Resistance in ohms. Defaults to 1.0.\n",
      "        ,   Annotations: {'resistance': <class 'float'>, 'return': None}\n",
      "Method: with_standard_resistance,   Docstring: Class method to create a resistor circuit with a standard resistance.\n",
      "        parameters:\n",
      "            standard_value (float): Common resistor value in ohms.\n",
      "        Returns:\n",
      "            ResistorCircuit: A new instance with the specified standard resistance.\n",
      "        ,   Annotations: {'standard_value': <class 'float'>}\n",
      "Method: calculate_power,   Docstring: Static method to calculate the power dissipated in a resistor.  \n",
      "        Parameters:\n",
      "            resistance (float): Resistance in ohms.\n",
      "            current (float): Current in amps.\n",
      "        Returns:\n",
      "            float: Power in watts.\n",
      "        ,   Annotations: {'resistance': <class 'float'>, 'current': <class 'float'>, 'return': <class 'float'>}\n",
      "Method: __repr__,   Docstring: A  string  representation of the Resistor,   Annotations: {'return': <class 'str'>}\n",
      "Method: __str__,   Docstring: A user-friendly  representation of Resistor,   Annotations: {'return': <class 'str'>}\n"
     ]
    }
   ],
   "source": [
    "print(Resistor.__doc__)\n",
    "for method in [\n",
    "    Resistor.__init__,\n",
    "    Resistor.with_standard_resistance,\n",
    "    Resistor.calculate_power,\n",
    "    Resistor.__repr__,\n",
    "    Resistor.__str__,\n",
    "]:\n",
    "    if isinstance(method, property):\n",
    "        print(f\"(Method: {method.fget.__name__}),  (Docstring: {method.__doc__}),  (Annotations: {method.fget.__annotations__})\")\n",
    "    else:\n",
    "        print(f\"Method: {method.__name__},   Docstring: {method.__doc__},   Annotations: {method.__annotations__}\")"
   ]
  },
  {
   "cell_type": "code",
   "execution_count": null,
   "metadata": {},
   "outputs": [],
   "source": []
  },
  {
   "cell_type": "markdown",
   "metadata": {},
   "source": [
    "<center><span style=\"color:green; \n",
    "font-family:Matura MT Script Capitals; \n",
    "font-weight:bold;\n",
    "font-size:35px;\">2. RL Circuit</span></center>"
   ]
  },
  {
   "cell_type": "code",
   "execution_count": null,
   "metadata": {},
   "outputs": [],
   "source": [
    "import math\n",
    "\n",
    "class RLCircuit:\n",
    "    \"\"\"A class to represent an RL circuit (Resistor and Inductor).\"\"\"\n",
    "    \n",
    "    def __init__(self, resistance: float = 1.0, inductance: float = 1.0):\n",
    "        \"\"\"Initialize the RL circuit with resistance and inductance.\n",
    "        \n",
    "        Args:\n",
    "            resistance (float): Resistance in ohms. Defaults to 1.0.\n",
    "            inductance (float): Inductance in henries. Defaults to 1.0.\n",
    "        \"\"\"\n",
    "        self.resistance = resistance\n",
    "        self.inductance = inductance\n",
    "\n",
    "    @property\n",
    "    def resistance(self) -> float:\n",
    "        \"\"\"Get the resistance value.\"\"\"\n",
    "        return self._resistance\n",
    "\n",
    "    @resistance.setter\n",
    "    def resistance(self, value: float):\n",
    "        self._resistance = value\n",
    "\n",
    "    @property\n",
    "    def inductance(self) -> float:\n",
    "        \"\"\"Get the inductance value.\"\"\"\n",
    "        return self._inductance\n",
    "\n",
    "    @inductance.setter\n",
    "    def inductance(self, value: float):\n",
    "        self._inductance = value\n",
    "    \n",
    "    def impedance(self, frequency: float = 50.0) -> float:\n",
    "        \"\"\"Calculate the impedance of the RL circuit.\n",
    "        \n",
    "        Args:\n",
    "            frequency (float): Frequency in hertz.\n",
    "        \n",
    "        Returns:\n",
    "            float: Impedance in ohms.\n",
    "        \"\"\"\n",
    "        return math.sqrt(self.resistance**2 + (2 * math.pi * frequency * self.inductance)**2)\n",
    "\n",
    "    @classmethod\n",
    "    def with_standard_values(cls):\n",
    "        \"\"\"Class method to create an RL circuit with standard values.\"\"\"\n",
    "        return cls(resistance=10.0, inductance=0.05)\n",
    "\n",
    "    @staticmethod\n",
    "    def calculate_reactance(inductance: float, frequency: float) -> float:\n",
    "        \"\"\"Static method to calculate the inductive reactance.\"\"\"\n",
    "        return 2 * math.pi * frequency * inductance\n",
    "\n",
    "    def __repr__(self) -> str:\n",
    "        \"\"\"A  string  representation of the RL Circuit\"\"\"\n",
    "        return f\"RLCircuit(resistance={self.resistance}, inductance={self.inductance} H)\"\n",
    "\n",
    "    def __str__(self) -> str:\n",
    "        \"\"\"A user-friendly  representation of RL Circuit\"\"\"\n",
    "        return f\"RL Circuit with resistance: {self.resistance} ohms, inductance: {self.inductance} H\"\n"
   ]
  },
  {
   "cell_type": "code",
   "execution_count": null,
   "metadata": {},
   "outputs": [],
   "source": [
    "RL_1 = RLCircuit(10, 0.001)\n",
    "RL_2 = RLCircuit(20, 0.1)"
   ]
  },
  {
   "cell_type": "code",
   "execution_count": null,
   "metadata": {},
   "outputs": [
    {
     "name": "stdout",
     "output_type": "stream",
     "text": [
      "RL Circuit with resistance: 10 ohms, inductance: 0.001 H\n",
      "RL Circuit with resistance: 20 ohms, inductance: 0.1 H\n"
     ]
    }
   ],
   "source": [
    "print(RL_1)\n",
    "print(RL_2)"
   ]
  },
  {
   "cell_type": "code",
   "execution_count": null,
   "metadata": {},
   "outputs": [
    {
     "data": {
      "text/plain": [
       "RLCircuit(resistance=10, inductance=0.001 H)"
      ]
     },
     "execution_count": 110,
     "metadata": {},
     "output_type": "execute_result"
    }
   ],
   "source": [
    "RL_1"
   ]
  },
  {
   "cell_type": "code",
   "execution_count": null,
   "metadata": {},
   "outputs": [
    {
     "data": {
      "text/plain": [
       "RLCircuit(resistance=20, inductance=0.1 H)"
      ]
     },
     "execution_count": 111,
     "metadata": {},
     "output_type": "execute_result"
    }
   ],
   "source": [
    "RL_2"
   ]
  },
  {
   "cell_type": "code",
   "execution_count": null,
   "metadata": {},
   "outputs": [
    {
     "name": "stdout",
     "output_type": "stream",
     "text": [
      "mappingproxy({'__dict__': <attribute '__dict__' of 'RLCircuit' objects>,\n",
      "              '__doc__': 'A class to represent an RL circuit (Resistor and '\n",
      "                         'Inductor).',\n",
      "              '__init__': <function RLCircuit.__init__ at 0x00000157DA4C8790>,\n",
      "              '__module__': '__main__',\n",
      "              '__repr__': <function RLCircuit.__repr__ at 0x00000157DA533C10>,\n",
      "              '__str__': <function RLCircuit.__str__ at 0x00000157DA533160>,\n",
      "              '__weakref__': <attribute '__weakref__' of 'RLCircuit' objects>,\n",
      "              'calculate_reactance': <staticmethod object at 0x00000157DA5E82B0>,\n",
      "              'impedance': <function RLCircuit.impedance at 0x00000157DA5C7790>,\n",
      "              'inductance': <property object at 0x00000157DA633EF0>,\n",
      "              'resistance': <property object at 0x00000157DA633F90>,\n",
      "              'with_standard_values': <classmethod object at 0x00000157DA5E86A0>})\n"
     ]
    }
   ],
   "source": [
    "from pprint import pprint\n",
    "pprint(RLCircuit.__dict__)"
   ]
  },
  {
   "cell_type": "code",
   "execution_count": null,
   "metadata": {},
   "outputs": [
    {
     "name": "stdout",
     "output_type": "stream",
     "text": [
      "mappingproxy({'__dict__': <attribute '__dict__' of 'RLCircuit' objects>,\n",
      "              '__doc__': 'A class to represent an RL circuit (Resistor and '\n",
      "                         'Inductor).',\n",
      "              '__init__': <function RLCircuit.__init__ at 0x00000157DA4C8790>,\n",
      "              '__module__': '__main__',\n",
      "              '__repr__': <function RLCircuit.__repr__ at 0x00000157DA533C10>,\n",
      "              '__str__': <function RLCircuit.__str__ at 0x00000157DA533160>,\n",
      "              '__weakref__': <attribute '__weakref__' of 'RLCircuit' objects>,\n",
      "              'calculate_reactance': <staticmethod object at 0x00000157DA5E82B0>,\n",
      "              'impedance': <function RLCircuit.impedance at 0x00000157DA5C7790>,\n",
      "              'inductance': <property object at 0x00000157DA633EF0>,\n",
      "              'resistance': <property object at 0x00000157DA633F90>,\n",
      "              'with_standard_values': <classmethod object at 0x00000157DA5E86A0>})\n"
     ]
    }
   ],
   "source": [
    "pprint(vars(RLCircuit))"
   ]
  },
  {
   "cell_type": "code",
   "execution_count": null,
   "metadata": {},
   "outputs": [
    {
     "name": "stdout",
     "output_type": "stream",
     "text": [
      "Help on class RLCircuit in module __main__:\n",
      "\n",
      "class RLCircuit(builtins.object)\n",
      " |  RLCircuit(resistance: float = 1.0, inductance: float = 1.0)\n",
      " |  \n",
      " |  A class to represent an RL circuit (Resistor and Inductor).\n",
      " |  \n",
      " |  Methods defined here:\n",
      " |  \n",
      " |  __init__(self, resistance: float = 1.0, inductance: float = 1.0)\n",
      " |      Initialize the RL circuit with resistance and inductance.\n",
      " |      \n",
      " |      Args:\n",
      " |          resistance (float): Resistance in ohms. Defaults to 1.0.\n",
      " |          inductance (float): Inductance in henries. Defaults to 1.0.\n",
      " |  \n",
      " |  __repr__(self) -> str\n",
      " |      A  string  representation of the RL Circuit\n",
      " |  \n",
      " |  __str__(self) -> str\n",
      " |      A user-friendly  representation of RL Circuit\n",
      " |  \n",
      " |  impedance(self, frequency: float = 50.0) -> float\n",
      " |      Calculate the impedance of the RL circuit.\n",
      " |      \n",
      " |      Args:\n",
      " |          frequency (float): Frequency in hertz.\n",
      " |      \n",
      " |      Returns:\n",
      " |          float: Impedance in ohms.\n",
      " |  \n",
      " |  ----------------------------------------------------------------------\n",
      " |  Class methods defined here:\n",
      " |  \n",
      " |  with_standard_values() from builtins.type\n",
      " |      Class method to create an RL circuit with standard values.\n",
      " |  \n",
      " |  ----------------------------------------------------------------------\n",
      " |  Static methods defined here:\n",
      " |  \n",
      " |  calculate_reactance(inductance: float, frequency: float) -> float\n",
      " |      Static method to calculate the inductive reactance.\n",
      " |  \n",
      " |  ----------------------------------------------------------------------\n",
      " |  Data descriptors defined here:\n",
      " |  \n",
      " |  __dict__\n",
      " |      dictionary for instance variables (if defined)\n",
      " |  \n",
      " |  __weakref__\n",
      " |      list of weak references to the object (if defined)\n",
      " |  \n",
      " |  inductance\n",
      " |      Get the inductance value.\n",
      " |  \n",
      " |  resistance\n",
      " |      Get the resistance value.\n",
      "\n"
     ]
    }
   ],
   "source": [
    "help(RLCircuit)"
   ]
  },
  {
   "cell_type": "code",
   "execution_count": null,
   "metadata": {},
   "outputs": [
    {
     "name": "stdout",
     "output_type": "stream",
     "text": [
      "{'_resistance': 10, '_inductance': 0.001}\n",
      "{'_resistance': 20, '_inductance': 0.1}\n"
     ]
    }
   ],
   "source": [
    "print(RL_1.__dict__)\n",
    "print(RL_2.__dict__)"
   ]
  },
  {
   "cell_type": "code",
   "execution_count": null,
   "metadata": {},
   "outputs": [
    {
     "name": "stdout",
     "output_type": "stream",
     "text": [
      "A class to represent an RL circuit (Resistor and Inductor).\n",
      "Method: __init__,   Docstring: Initialize the RL circuit with resistance and inductance.\n",
      "        \n",
      "        Args:\n",
      "            resistance (float): Resistance in ohms. Defaults to 1.0.\n",
      "            inductance (float): Inductance in henries. Defaults to 1.0.\n",
      "        ,   Annotations: {'resistance': <class 'float'>, 'inductance': <class 'float'>}\n",
      "Method: impedance,   Docstring: Calculate the impedance of the RL circuit.\n",
      "        \n",
      "        Args:\n",
      "            frequency (float): Frequency in hertz.\n",
      "        \n",
      "        Returns:\n",
      "            float: Impedance in ohms.\n",
      "        ,   Annotations: {'frequency': <class 'float'>, 'return': <class 'float'>}\n",
      "Method: with_standard_values,   Docstring: Class method to create an RL circuit with standard values.,   Annotations: {}\n",
      "Method: calculate_reactance,   Docstring: Static method to calculate the inductive reactance.,   Annotations: {'inductance': <class 'float'>, 'frequency': <class 'float'>, 'return': <class 'float'>}\n",
      "Method: __repr__,   Docstring: A  string  representation of the RL Circuit,   Annotations: {'return': <class 'str'>}\n",
      "Method: __str__,   Docstring: A user-friendly  representation of RL Circuit,   Annotations: {'return': <class 'str'>}\n"
     ]
    }
   ],
   "source": [
    "print(RLCircuit.__doc__)\n",
    "for method in [\n",
    "    RLCircuit.__init__,\n",
    "    RLCircuit.impedance,\n",
    "    RLCircuit.with_standard_values,\n",
    "    RLCircuit.calculate_reactance,\n",
    "    RLCircuit.__repr__,\n",
    "    RLCircuit.__str__,\n",
    "]:\n",
    "    if isinstance(method, property):\n",
    "        print(f\"(Method: {method.fget.__name__}),  (Docstring: {method.__doc__}),  (Annotations: {method.fget.__annotations__})\")\n",
    "    else:\n",
    "        print(f\"Method: {method.__name__},   Docstring: {method.__doc__},   Annotations: {method.__annotations__}\")"
   ]
  },
  {
   "cell_type": "code",
   "execution_count": null,
   "metadata": {},
   "outputs": [
    {
     "name": "stdout",
     "output_type": "stream",
     "text": [
      "RL Circuit with resistance: 1.0 ohms, inductance: 1.0 H\n"
     ]
    },
    {
     "data": {
      "text/plain": [
       "RLCircuit(resistance=1.0, inductance=1.0 H)"
      ]
     },
     "execution_count": 104,
     "metadata": {},
     "output_type": "execute_result"
    }
   ],
   "source": [
    "RL_3 = RLCircuit()\n",
    "print(RL_3)\n",
    "RL_3"
   ]
  },
  {
   "cell_type": "markdown",
   "metadata": {},
   "source": [
    "<center><span style=\"color:green; \n",
    "font-family:Matura MT Script Capitals; \n",
    "font-weight:bold;\n",
    "font-size:35px;\">3. RC Circuite</span></center>"
   ]
  },
  {
   "cell_type": "code",
   "execution_count": null,
   "metadata": {},
   "outputs": [],
   "source": [
    "import math\n",
    "class RC_Circuit:\n",
    "    \"\"\"A class to represent an RC series circuit.\"\"\"\n",
    "\n",
    "    def __init__(self, resistance: float = 1.0, capacitance: float = 1.0) -> None:\n",
    "        \"\"\"Initialize the series RC circuit with resistance and capacitance.\n",
    "\n",
    "        Args:\n",
    "            resistance (float): Resistance in ohms. Defaults to 1.0.\n",
    "            capacitance (float): Capacitance in farads. Defaults to 1.0.\n",
    "        \"\"\"\n",
    "        self._resistance = resistance\n",
    "        self._capacitance = capacitance\n",
    "\n",
    "    @property\n",
    "    def resistance(self) -> float:\n",
    "        \"\"\"Get the resistance value.\"\"\"\n",
    "        return self._resistance\n",
    "\n",
    "    @resistance.setter\n",
    "    def resistance(self, value: float) -> None:\n",
    "        \"\"\"set the resistance value\"\"\"\n",
    "        self.resistance = value\n",
    "    @property\n",
    "    def capacitance(self) -> float:\n",
    "        \"\"\"Get the capacitance value.\"\"\"\n",
    "        return self._capacitance\n",
    "\n",
    "    @capacitance.setter\n",
    "    def capacitance(self, value: float) -> None:\n",
    "        self._capacitance = value\n",
    "    # instance method\n",
    "    def impedance(self, frequency: float) -> float:\n",
    "        \"\"\"Calculate the impedance of the RC circuit.\n",
    "\n",
    "        Args:\n",
    "            frequency (float): Frequency in hertz.\n",
    "\n",
    "        Returns:\n",
    "            float: Impedance in ohms.\n",
    "        \"\"\"\n",
    "        reactance_c = 1 / (2 * math.pi * frequency * self.capacitance)\n",
    "        return math.sqrt(self.resistance**2 + reactance_c**2)\n",
    "\n",
    "    @classmethod\n",
    "    def with_standard_values(cls) -> 'RCSCircuit':\n",
    "        \"\"\"Class method to create an RC circuit with standard values.\"\"\"\n",
    "        return cls(resistance=10.0, capacitance=0.001)\n",
    "\n",
    "    @staticmethod\n",
    "    def calculate_reactance(capacitance: float, frequency: float) -> float:\n",
    "        \"\"\"Static method to calculate the capacitive reactance.\n",
    "\n",
    "        Args:\n",
    "            capacitance (float): Capacitance in farads.\n",
    "            frequency (float): Frequency in hertz.\n",
    "\n",
    "        Returns:\n",
    "            float: Reactance in ohms.\n",
    "        \"\"\"\n",
    "        return 1 / (2 * math.pi * frequency * capacitance)\n",
    "    def __repr__(self) -> str:\n",
    "        \"\"\"A  string  representation of the RC Circuit\"\"\"\n",
    "        return f\"RCSCircuit(resistance={self.resistance}, capacitance={self.capacitance})\"\n",
    "\n",
    "    def __str__(self) -> str:\n",
    "        \"\"\"A user-friendly  representation of RC Circuit\"\"\"\n",
    "        return (f\"RC Series Circuit with resistance: {self.resistance} ohms,capacitance: {self.capacitance} F\")"
   ]
  },
  {
   "cell_type": "code",
   "execution_count": null,
   "metadata": {},
   "outputs": [],
   "source": [
    "RC_1 = RC_Circuit(10, 0.000001)\n",
    "RC_2 = RC_Circuit(20,0.001)"
   ]
  },
  {
   "cell_type": "code",
   "execution_count": null,
   "metadata": {},
   "outputs": [
    {
     "name": "stdout",
     "output_type": "stream",
     "text": [
      "RC Series Circuit with resistance: 10 ohms, capacitance: 1e-06 F\n",
      "RL Circuit with resistance: 20 ohms, inductance: 0.1 H\n"
     ]
    }
   ],
   "source": [
    "print(RC_1)\n",
    "print(RL_2)"
   ]
  },
  {
   "cell_type": "code",
   "execution_count": null,
   "metadata": {},
   "outputs": [
    {
     "data": {
      "text/plain": [
       "RCSCircuit(resistance=10, capacitance=1e-06)"
      ]
     },
     "execution_count": 124,
     "metadata": {},
     "output_type": "execute_result"
    }
   ],
   "source": [
    "RC_1"
   ]
  },
  {
   "cell_type": "code",
   "execution_count": null,
   "metadata": {},
   "outputs": [
    {
     "name": "stdout",
     "output_type": "stream",
     "text": [
      "mappingproxy({'__dict__': <attribute '__dict__' of 'RC_Circuit' objects>,\n",
      "              '__doc__': 'A class to represent an RC series circuit.',\n",
      "              '__init__': <function RC_Circuit.__init__ at 0x00000157DA62F820>,\n",
      "              '__module__': '__main__',\n",
      "              '__repr__': <function RC_Circuit.__repr__ at 0x00000157DA60CC10>,\n",
      "              '__str__': <function RC_Circuit.__str__ at 0x00000157DA60C940>,\n",
      "              '__weakref__': <attribute '__weakref__' of 'RC_Circuit' objects>,\n",
      "              'calculate_reactance': <staticmethod object at 0x00000157DA5E33A0>,\n",
      "              'capacitance': <property object at 0x00000157DA603900>,\n",
      "              'impedance': <function RC_Circuit.impedance at 0x00000157DA60CF70>,\n",
      "              'resistance': <property object at 0x00000157DA6038B0>,\n",
      "              'with_standard_values': <classmethod object at 0x00000157DA5E33D0>})\n"
     ]
    }
   ],
   "source": [
    "pprint(RC_Circuit.__dict__)"
   ]
  },
  {
   "cell_type": "code",
   "execution_count": null,
   "metadata": {},
   "outputs": [
    {
     "name": "stdout",
     "output_type": "stream",
     "text": [
      "mappingproxy({'__dict__': <attribute '__dict__' of 'RC_Circuit' objects>,\n",
      "              '__doc__': 'A class to represent an RC series circuit.',\n",
      "              '__init__': <function RC_Circuit.__init__ at 0x00000157DA62F820>,\n",
      "              '__module__': '__main__',\n",
      "              '__repr__': <function RC_Circuit.__repr__ at 0x00000157DA60CC10>,\n",
      "              '__str__': <function RC_Circuit.__str__ at 0x00000157DA60C940>,\n",
      "              '__weakref__': <attribute '__weakref__' of 'RC_Circuit' objects>,\n",
      "              'calculate_reactance': <staticmethod object at 0x00000157DA5E33A0>,\n",
      "              'capacitance': <property object at 0x00000157DA603900>,\n",
      "              'impedance': <function RC_Circuit.impedance at 0x00000157DA60CF70>,\n",
      "              'resistance': <property object at 0x00000157DA6038B0>,\n",
      "              'with_standard_values': <classmethod object at 0x00000157DA5E33D0>})\n"
     ]
    }
   ],
   "source": [
    "pprint(vars(RC_Circuit))"
   ]
  },
  {
   "cell_type": "raw",
   "metadata": {},
   "source": [
    "print(RC_1.__dict__)"
   ]
  },
  {
   "cell_type": "code",
   "execution_count": null,
   "metadata": {},
   "outputs": [
    {
     "name": "stdout",
     "output_type": "stream",
     "text": [
      "{'_resistance': 20, '_capacitance': 0.001}\n"
     ]
    }
   ],
   "source": [
    "print(RC_2.__dict__)"
   ]
  },
  {
   "cell_type": "code",
   "execution_count": null,
   "metadata": {},
   "outputs": [
    {
     "name": "stdout",
     "output_type": "stream",
     "text": [
      "Help on class RC_Circuit in module __main__:\n",
      "\n",
      "class RC_Circuit(builtins.object)\n",
      " |  RC_Circuit(resistance: float = 1.0, capacitance: float = 1.0) -> None\n",
      " |  \n",
      " |  A class to represent an RC series circuit.\n",
      " |  \n",
      " |  Methods defined here:\n",
      " |  \n",
      " |  __init__(self, resistance: float = 1.0, capacitance: float = 1.0) -> None\n",
      " |      Initialize the series RC circuit with resistance and capacitance.\n",
      " |      \n",
      " |      Args:\n",
      " |          resistance (float): Resistance in ohms. Defaults to 1.0.\n",
      " |          capacitance (float): Capacitance in farads. Defaults to 1.0.\n",
      " |  \n",
      " |  __repr__(self) -> str\n",
      " |      A  string  representation of the RC Circuit\n",
      " |  \n",
      " |  __str__(self) -> str\n",
      " |      A user-friendly  representation of RC Circuit\n",
      " |  \n",
      " |  impedance(self, frequency: float) -> float\n",
      " |      Calculate the impedance of the RC circuit.\n",
      " |      \n",
      " |      Args:\n",
      " |          frequency (float): Frequency in hertz.\n",
      " |      \n",
      " |      Returns:\n",
      " |          float: Impedance in ohms.\n",
      " |  \n",
      " |  ----------------------------------------------------------------------\n",
      " |  Class methods defined here:\n",
      " |  \n",
      " |  with_standard_values() -> 'RCSCircuit' from builtins.type\n",
      " |      Class method to create an RC circuit with standard values.\n",
      " |  \n",
      " |  ----------------------------------------------------------------------\n",
      " |  Static methods defined here:\n",
      " |  \n",
      " |  calculate_reactance(capacitance: float, frequency: float) -> float\n",
      " |      Static method to calculate the capacitive reactance.\n",
      " |      \n",
      " |      Args:\n",
      " |          capacitance (float): Capacitance in farads.\n",
      " |          frequency (float): Frequency in hertz.\n",
      " |      \n",
      " |      Returns:\n",
      " |          float: Reactance in ohms.\n",
      " |  \n",
      " |  ----------------------------------------------------------------------\n",
      " |  Data descriptors defined here:\n",
      " |  \n",
      " |  __dict__\n",
      " |      dictionary for instance variables (if defined)\n",
      " |  \n",
      " |  __weakref__\n",
      " |      list of weak references to the object (if defined)\n",
      " |  \n",
      " |  capacitance\n",
      " |      Get the capacitance value.\n",
      " |  \n",
      " |  resistance\n",
      " |      Get the resistance value.\n",
      "\n"
     ]
    }
   ],
   "source": [
    "help(RC_Circuit)"
   ]
  },
  {
   "cell_type": "code",
   "execution_count": null,
   "metadata": {},
   "outputs": [
    {
     "name": "stdout",
     "output_type": "stream",
     "text": [
      "A class to represent an RC series circuit.\n",
      "Method: __init__,   Docstring: Initialize the series RC circuit with resistance and capacitance.\n",
      "\n",
      "        Args:\n",
      "            resistance (float): Resistance in ohms. Defaults to 1.0.\n",
      "            capacitance (float): Capacitance in farads. Defaults to 1.0.\n",
      "        ,   Annotations: {'resistance': <class 'float'>, 'capacitance': <class 'float'>, 'return': None}\n",
      "Method: impedance,   Docstring: Calculate the impedance of the RC circuit.\n",
      "\n",
      "        Args:\n",
      "            frequency (float): Frequency in hertz.\n",
      "\n",
      "        Returns:\n",
      "            float: Impedance in ohms.\n",
      "        ,   Annotations: {'frequency': <class 'float'>, 'return': <class 'float'>}\n",
      "Method: with_standard_values,   Docstring: Class method to create an RC circuit with standard values.,   Annotations: {'return': 'RCSCircuit'}\n",
      "Method: calculate_reactance,   Docstring: Static method to calculate the capacitive reactance.\n",
      "\n",
      "        Args:\n",
      "            capacitance (float): Capacitance in farads.\n",
      "            frequency (float): Frequency in hertz.\n",
      "\n",
      "        Returns:\n",
      "            float: Reactance in ohms.\n",
      "        ,   Annotations: {'capacitance': <class 'float'>, 'frequency': <class 'float'>, 'return': <class 'float'>}\n",
      "Method: __repr__,   Docstring: A  string  representation of the RC Circuit,   Annotations: {'return': <class 'str'>}\n",
      "Method: __str__,   Docstring: A user-friendly  representation of RC Circuit,   Annotations: {'return': <class 'str'>}\n"
     ]
    }
   ],
   "source": [
    "print(RC_Circuit.__doc__)\n",
    "for method in [\n",
    "    RC_Circuit.__init__,\n",
    "    RC_Circuit.impedance,\n",
    "    RC_Circuit.with_standard_values,\n",
    "    RC_Circuit.calculate_reactance,\n",
    "    RC_Circuit.__repr__,\n",
    "    RC_Circuit.__str__,\n",
    "]:\n",
    "    if isinstance(method, property):\n",
    "        print(f\"(Method: {method.fget.__name__}),  (Docstring: {method.__doc__}),  (Annotations: {method.fget.__annotations__})\")\n",
    "    else:\n",
    "        print(f\"Method: {method.__name__},   Docstring: {method.__doc__},   Annotations: {method.__annotations__}\")"
   ]
  },
  {
   "cell_type": "code",
   "execution_count": null,
   "metadata": {},
   "outputs": [
    {
     "name": "stdout",
     "output_type": "stream",
     "text": [
      "RC Series Circuit with resistance: 1.0 ohms, capacitance: 1.0 F\n"
     ]
    },
    {
     "data": {
      "text/plain": [
       "RCSCircuit(resistance=1.0, capacitance=1.0)"
      ]
     },
     "execution_count": 147,
     "metadata": {},
     "output_type": "execute_result"
    }
   ],
   "source": [
    "RC_3 = RC_Circuit()\n",
    "print(RC_3)\n",
    "RC_3"
   ]
  },
  {
   "cell_type": "markdown",
   "metadata": {},
   "source": [
    "<center><span style=\"color:green; \n",
    "font-family:Matura MT Script Capitals; \n",
    "font-weight:bold;\n",
    "font-size:35px;\">4. RLC CircuitParallel</span></center>"
   ]
  },
  {
   "cell_type": "code",
   "execution_count": null,
   "metadata": {},
   "outputs": [],
   "source": [
    "import math\n",
    "class RLC_Circuit:\n",
    "    \"\"\"A class to represent an RLC parallel circuit.\"\"\"\n",
    "    def __init__(self, resistance: float = 1.0, inductance: float = 1.0, capacitance: float = 1.0) -> None:\n",
    "        \"\"\"\n",
    "        Initialize the parallel RLC circuit with resistance, inductance, and capacitance.\n",
    "        Args:\n",
    "            resistance (float): Resistance in ohms. \n",
    "            inductance (float): Inductance in henry. \n",
    "            capacitance (float): Capacitance in farads. \n",
    "        \"\"\"\n",
    "        self.resistance = resistance\n",
    "        self.inductance = inductance\n",
    "        self.capacitance = capacitance\n",
    "    @property\n",
    "    def resistance(self) -> float:\n",
    "        \"\"\"Get the resistance in ohms.\"\"\"\n",
    "        return self._resistance\n",
    "    @resistance.setter\n",
    "    def resistance(self, value: float) -> None:\n",
    "        \"\"\"Set the resistance in ohms.\"\"\"\n",
    "        self._resistance = value\n",
    "    @property\n",
    "    def inductance(self) -> float:\n",
    "        \"\"\"Get the inductance in henries.\"\"\"\n",
    "        return self._inductance\n",
    "    @inductance.setter\n",
    "    def inductance(self, value: float) -> None:\n",
    "        \"\"\"Set the inductance in henry.\"\"\"\n",
    "        self._inductance = value\n",
    "    @property\n",
    "    def capacitance(self) -> float:\n",
    "        \"\"\"Get the capacitance in farads.\"\"\"\n",
    "        return self._capacitance\n",
    "\n",
    "    @capacitance.setter\n",
    "    def capacitance(self, value: float) -> None:\n",
    "        \"\"\"Set the capacitance in farads.\"\"\"\n",
    "        self._capacitance = value\n",
    "    def total_impedance(self, frequency: float) -> complex:\n",
    "        \"\"\"\n",
    "        Calculate the total impedance of the RLC parallel circuit at a given frequency.\n",
    "        \n",
    "        Args:\n",
    "            frequency (float): Frequency in hertz. \n",
    "        \n",
    "        Returns:\n",
    "             Total impedance in ohms.\n",
    "        Formula:\n",
    "                impedance of Resistor = Z_R =  R\n",
    "                impedance of inductor = jωL = j * 2 * π * f * L\n",
    "                impedance of capacitor= -j 1/ (ωC) = -j (1 / (2 * π * f * C))\n",
    "            Total_impedance -> 1 / (1/ Z_R) + (1 / Z_L) + (1 / Z_C))\n",
    "        \"\"\"        \n",
    "        omega = 2 * math.pi * frequency\n",
    "        Z_R = self.resistance\n",
    "        Z_L = math.pi * 2 * frequency * self.inductance\n",
    "        Z_C = math.pi * 2 * frequency * self.capacitance\n",
    "        total_impedance = 1 / (1 / Z_R) + (1 / Z_L) + (1 / Z_C)\n",
    "        return total_impedance\n",
    "    @classmethod\n",
    "    def from_standard_values(cls) -> 'RLCCircuitParallel':\n",
    "        \"\"\"\n",
    "        Create an RLC parallel circuit with standard values (1 ohm, 1 H, 1 F).\n",
    "        \n",
    "        Returns:\n",
    "            RLCCircuitParallel: An instance of the class with standard values.\n",
    "        \"\"\"\n",
    "        return cls(1.0, 1.0, 1.0)\n",
    "        return  1 / (2 * math.pi * math.sqrt(inductance * capacitance))\n",
    "    def __repr__(self) -> str:\n",
    "        return (f\"RLC CircuitParallel(resistance={self.resistance}, inductance={self.inductance},capacitance={self.capacitance})\")\n",
    "\n",
    "    def __str__(self) -> str:\n",
    "        return (f\"RLC Parallel Circuit with resistance: {self.resistance} ohm, inductance: {self.inductance} H, capacitance: {self.capacitance} F\")\n"
   ]
  },
  {
   "cell_type": "code",
   "execution_count": null,
   "metadata": {},
   "outputs": [],
   "source": [
    "RLC = RLC_Circuit(10, 0.1, 0.001)"
   ]
  },
  {
   "cell_type": "code",
   "execution_count": null,
   "metadata": {},
   "outputs": [
    {
     "name": "stdout",
     "output_type": "stream",
     "text": [
      "RLC Parallel Circuit with resistance: 10 Ω, inductance: 0.1 H, capacitance: 0.001 F\n"
     ]
    }
   ],
   "source": [
    "print(RLC)"
   ]
  },
  {
   "cell_type": "code",
   "execution_count": null,
   "metadata": {},
   "outputs": [
    {
     "data": {
      "text/plain": [
       "RLC CircuitParallel(resistance=10, inductance=0.1, capacitance=0.001)"
      ]
     },
     "execution_count": 177,
     "metadata": {},
     "output_type": "execute_result"
    }
   ],
   "source": [
    "RLC"
   ]
  },
  {
   "cell_type": "code",
   "execution_count": null,
   "metadata": {},
   "outputs": [
    {
     "name": "stdout",
     "output_type": "stream",
     "text": [
      "mappingproxy({'__dict__': <attribute '__dict__' of 'RLC_Circuit' objects>,\n",
      "              '__doc__': 'A class to represent an RLC parallel circuit.',\n",
      "              '__init__': <function RLC_Circuit.__init__ at 0x00000157DA6720D0>,\n",
      "              '__module__': '__main__',\n",
      "              '__repr__': <function RLC_Circuit.__repr__ at 0x00000157DA672940>,\n",
      "              '__str__': <function RLC_Circuit.__str__ at 0x00000157DA6729D0>,\n",
      "              '__weakref__': <attribute '__weakref__' of 'RLC_Circuit' objects>,\n",
      "              'capacitance': <property object at 0x00000157DA543400>,\n",
      "              'from_standard_values': <classmethod object at 0x00000157DA6684F0>,\n",
      "              'inductance': <property object at 0x00000157DA543450>,\n",
      "              'resistance': <property object at 0x00000157DA543540>,\n",
      "              'total_impedance': <function RLC_Circuit.total_impedance at 0x00000157DA672820>})\n"
     ]
    }
   ],
   "source": [
    "pprint(RLC_Circuit.__dict__)"
   ]
  },
  {
   "cell_type": "code",
   "execution_count": null,
   "metadata": {},
   "outputs": [
    {
     "name": "stdout",
     "output_type": "stream",
     "text": [
      "mappingproxy({'__dict__': <attribute '__dict__' of 'RLC_Circuit' objects>,\n",
      "              '__doc__': 'A class to represent an RLC parallel circuit.',\n",
      "              '__init__': <function RLC_Circuit.__init__ at 0x00000157DA6720D0>,\n",
      "              '__module__': '__main__',\n",
      "              '__repr__': <function RLC_Circuit.__repr__ at 0x00000157DA672940>,\n",
      "              '__str__': <function RLC_Circuit.__str__ at 0x00000157DA6729D0>,\n",
      "              '__weakref__': <attribute '__weakref__' of 'RLC_Circuit' objects>,\n",
      "              'capacitance': <property object at 0x00000157DA543400>,\n",
      "              'from_standard_values': <classmethod object at 0x00000157DA6684F0>,\n",
      "              'inductance': <property object at 0x00000157DA543450>,\n",
      "              'resistance': <property object at 0x00000157DA543540>,\n",
      "              'total_impedance': <function RLC_Circuit.total_impedance at 0x00000157DA672820>})\n"
     ]
    }
   ],
   "source": [
    "pprint(vars(RLC_Circuit))"
   ]
  },
  {
   "cell_type": "code",
   "execution_count": null,
   "metadata": {},
   "outputs": [
    {
     "name": "stdout",
     "output_type": "stream",
     "text": [
      "Help on class RLC_Circuit in module __main__:\n",
      "\n",
      "class RLC_Circuit(builtins.object)\n",
      " |  RLC_Circuit(resistance: float = 1.0, inductance: float = 1.0, capacitance: float = 1.0) -> None\n",
      " |  \n",
      " |  A class to represent an RLC parallel circuit.\n",
      " |  \n",
      " |  Methods defined here:\n",
      " |  \n",
      " |  __init__(self, resistance: float = 1.0, inductance: float = 1.0, capacitance: float = 1.0) -> None\n",
      " |      Initialize the parallel RLC circuit with resistance, inductance, and capacitance.\n",
      " |      Args:\n",
      " |          resistance (float): Resistance in ohms. \n",
      " |          inductance (float): Inductance in henry. \n",
      " |          capacitance (float): Capacitance in farads.\n",
      " |  \n",
      " |  __repr__(self) -> str\n",
      " |      Return repr(self).\n",
      " |  \n",
      " |  __str__(self) -> str\n",
      " |      Return str(self).\n",
      " |  \n",
      " |  total_impedance(self, frequency: float) -> complex\n",
      " |      Calculate the total impedance of the RLC parallel circuit at a given frequency.\n",
      " |      \n",
      " |      Args:\n",
      " |          frequency (float): Frequency in hertz. \n",
      " |      \n",
      " |      Returns:\n",
      " |           Total impedance in ohms.\n",
      " |      Formula:\n",
      " |              impedance of Resistor = Z_R =  R\n",
      " |              impedance of inductor = jωL = j * 2 * π * f * L\n",
      " |              impedance of capacitor= -j 1/ (ωC) = -j (1 / (2 * π * f * C))\n",
      " |          Total_impedance -> 1 / (1/ Z_R) + (1 / Z_L) + (1 / Z_C))\n",
      " |  \n",
      " |  ----------------------------------------------------------------------\n",
      " |  Class methods defined here:\n",
      " |  \n",
      " |  from_standard_values() -> 'RLCCircuitParallel' from builtins.type\n",
      " |      Create an RLC parallel circuit with standard values (1 ohm, 1 H, 1 F).\n",
      " |      \n",
      " |      Returns:\n",
      " |          RLCCircuitParallel: An instance of the class with standard values.\n",
      " |  \n",
      " |  ----------------------------------------------------------------------\n",
      " |  Data descriptors defined here:\n",
      " |  \n",
      " |  __dict__\n",
      " |      dictionary for instance variables (if defined)\n",
      " |  \n",
      " |  __weakref__\n",
      " |      list of weak references to the object (if defined)\n",
      " |  \n",
      " |  capacitance\n",
      " |      Get the capacitance in farads.\n",
      " |  \n",
      " |  inductance\n",
      " |      Get the inductance in henries.\n",
      " |  \n",
      " |  resistance\n",
      " |      Get the resistance in ohms.\n",
      "\n"
     ]
    }
   ],
   "source": [
    "help(RLC_Circuit)"
   ]
  },
  {
   "cell_type": "code",
   "execution_count": null,
   "metadata": {},
   "outputs": [
    {
     "name": "stdout",
     "output_type": "stream",
     "text": [
      "{'_resistance': 10, '_inductance': 0.1, '_capacitance': 0.001}\n"
     ]
    }
   ],
   "source": [
    "print(RLC.__dict__)"
   ]
  },
  {
   "cell_type": "code",
   "execution_count": null,
   "metadata": {},
   "outputs": [
    {
     "name": "stdout",
     "output_type": "stream",
     "text": [
      "A class to represent an RL circuit (Resistor and Inductor).\n",
      "Method: __init__,   Docstring: Initialize the RL circuit with resistance and inductance.\n",
      "        \n",
      "        Args:\n",
      "            resistance (float): Resistance in ohms. Defaults to 1.0.\n",
      "            inductance (float): Inductance in henries. Defaults to 1.0.\n",
      "        ,   Annotations: {'resistance': <class 'float'>, 'inductance': <class 'float'>}\n",
      "Method: impedance,   Docstring: Calculate the impedance of the RL circuit.\n",
      "        \n",
      "        Args:\n",
      "            frequency (float): Frequency in hertz.\n",
      "        \n",
      "        Returns:\n",
      "            float: Impedance in ohms.\n",
      "        ,   Annotations: {'frequency': <class 'float'>, 'return': <class 'float'>}\n",
      "Method: with_standard_values,   Docstring: Class method to create an RL circuit with standard values.,   Annotations: {}\n",
      "Method: calculate_reactance,   Docstring: Static method to calculate the inductive reactance.,   Annotations: {'inductance': <class 'float'>, 'frequency': <class 'float'>, 'return': <class 'float'>}\n",
      "Method: __repr__,   Docstring: A  string  representation of the RL Circuit,   Annotations: {'return': <class 'str'>}\n",
      "Method: __str__,   Docstring: A user-friendly  representation of RL Circuit,   Annotations: {'return': <class 'str'>}\n"
     ]
    }
   ],
   "source": [
    "print(RLCircuit.__doc__)\n",
    "for method in [\n",
    "    RLCircuit.__init__,\n",
    "    RLCircuit.impedance,\n",
    "    RLCircuit.with_standard_values,\n",
    "    RLCircuit.calculate_reactance,\n",
    "    RLCircuit.__repr__,\n",
    "    RLCircuit.__str__,\n",
    "]:\n",
    "    if isinstance(method, property):\n",
    "        print(f\"(Method: {method.fget.__name__}),  (Docstring: {method.__doc__}),  (Annotations: {method.fget.__annotations__})\")\n",
    "    else:\n",
    "        print(f\"Method: {method.__name__},   Docstring: {method.__doc__},   Annotations: {method.__annotations__}\")"
   ]
  },
  {
   "cell_type": "code",
   "execution_count": null,
   "metadata": {},
   "outputs": [
    {
     "name": "stdout",
     "output_type": "stream",
     "text": [
      "RLC Parallel Circuit with resistance: 1.0 Ω, inductance: 1.0 H, capacitance: 1.0 F\n"
     ]
    },
    {
     "data": {
      "text/plain": [
       "RLC CircuitParallel(resistance=1.0, inductance=1.0, capacitance=1.0)"
      ]
     },
     "execution_count": 183,
     "metadata": {},
     "output_type": "execute_result"
    }
   ],
   "source": [
    "RLC = RLC_Circuit()\n",
    "print(RLC)\n",
    "RLC"
   ]
  },
  {
   "cell_type": "markdown",
   "metadata": {},
   "source": [
    "<center><span style=\"color:green; \n",
    "font-family:Matura MT Script Capitals; \n",
    "font-weight:bold;\n",
    "font-size:35px;\">5. RLCSeriesCircuit</span></center>"
   ]
  },
  {
   "cell_type": "code",
   "execution_count": null,
   "metadata": {},
   "outputs": [],
   "source": [
    "import math\n",
    "class RLC_Series_Circuit:\n",
    "    \"\"\"A class to represent a series RLC circuit.\"\"\"  \n",
    "    def __init__(self, resistance: float = 1.0, inductance: float = 1.0, capacitance: float = 1.0) -> None:\n",
    "        \"\"\"\n",
    "        Initialize the series RLC circuit with resistance, inductance, and capacitance.   \n",
    "        Args:\n",
    "            resistance (float): Resistance in ohms. \n",
    "            inductance (float): Inductance in henries. \n",
    "            capacitance (float): Capacitance in farads. \n",
    "        \"\"\"\n",
    "        self.resistance = resistance\n",
    "        self.inductance = inductance\n",
    "        self.capacitance = capacitance\n",
    "    @property\n",
    "    def resistance(self) -> float:\n",
    "        \"\"\"Get the resistance in ohms.\"\"\"\n",
    "        return self._resistance\n",
    "\n",
    "    @resistance.setter\n",
    "    def resistance(self, value: float) -> None:\n",
    "        \"\"\"Set the resistance in ohms.\"\"\"\n",
    "        self._resistance = value\n",
    "    @property\n",
    "    def inductance(self) -> float:\n",
    "        \"\"\"Get the inductance in henries.\"\"\"\n",
    "        return self._inductance\n",
    "    @inductance.setter\n",
    "    def inductance(self, value: float) -> None:\n",
    "        \"\"\"Set the inductance in henries.\"\"\"\n",
    "        self._inductance = value\n",
    "    @property\n",
    "    def capacitance(self) -> float:\n",
    "        \"\"\"Get the capacitance in farads.\"\"\"\n",
    "        return self._capacitance\n",
    "    @capacitance.setter\n",
    "    def capacitance(self, value: float) -> None:\n",
    "        \"\"\"Set the capacitance in farads.\"\"\"\n",
    "        self._capacitance = value\n",
    "\n",
    "    def total_impedance(self, frequency: float) -> complex:\n",
    "        \"\"\"\n",
    "        Calculate the total impedance of the RLC series circuit at a given frequency.\n",
    "        \n",
    "        Args:\n",
    "            frequency (float): Frequency in hertz. \n",
    "        \n",
    "        Returns:\n",
    "            Total impedance in ohms as a complex number.\n",
    "        \n",
    "        Formula:\n",
    "            Z_R = R\n",
    "            Z_L = jωL = j * 2 * π * f * L\n",
    "            Z_C = -j 1/ (ωC) = -j (1 / (2 * π * f * C))\n",
    "            Total impedance Z_total = Z_R + Z_L + Z_C\n",
    "        \"\"\"\n",
    "        Z_R = self.resistance\n",
    "        Z_L = 1j * 2 * math.p1 * frequency * self.inductance\n",
    "        Z_C = -1j / (2 * math.pi * frequency * self.capacitance)\n",
    "        Z_R + Z_L + Z_C\n",
    "        return total_impedance\n",
    "\n",
    "    @classmethod\n",
    "    def from_standard_values(cls) -> 'RLC_Circuit':\n",
    "        \"\"\"\n",
    "        Create an RLC series circuit with standard values (1 ohm, 1 H, 1 F).\n",
    "        \n",
    "        Returns:\n",
    "            RLC_Circuit: An instance of the class with standard values.\n",
    "        \"\"\"\n",
    "        return cls(1.0, 1.0, 1.0)\n",
    "    @staticmethod\n",
    "    def resonant_frequency(inductance: float, capacitance: float) -> float:\n",
    "        \"\"\"\n",
    "        Calculate the resonant frequency for a series RLC circuit.\n",
    "        Args:\n",
    "            inductance (float): Inductance in henries.\n",
    "            capacitance (float): Capacitance in farads.\n",
    "        Returns:\n",
    "            float: The resonant frequency in hertz.\n",
    "        Formula:\n",
    "            f_r = 1 / (2 * π * √(L * C))\n",
    "        \"\"\"\n",
    "        return 1 / (2 * math.pi * math.sqrt(inductance * capacitance))\n",
    "    def __repr__(self) -> str:\n",
    "        \"\"\"A  string  representation of the Resistor\"\"\"\n",
    "        return (f\"RLC Series Circuit(resistance={self.resistance}, inductance={self.inductance},capacitance={self.capacitance})\")\n",
    "    def __str__(self) -> str:\n",
    "        \"\"\"A user-friendly  representation of Resistor\"\"\"\n",
    "        return (f\"RLC Series Circuit with resistance: {self.resistance} ohm,inductance: {self.inductance} H, capacitance: {self.capacitance} F\")\n"
   ]
  },
  {
   "cell_type": "code",
   "execution_count": null,
   "metadata": {},
   "outputs": [],
   "source": [
    "RLC_series_circuit = RLC_Series_Circuit(resistance=10, inductance=0.1, capacitance=0.001)"
   ]
  },
  {
   "cell_type": "code",
   "execution_count": null,
   "metadata": {},
   "outputs": [
    {
     "name": "stdout",
     "output_type": "stream",
     "text": [
      "RLC Series Circuit with resistance: 10 ohm,inductance: 0.1 H, capacitance: 0.001 F\n"
     ]
    }
   ],
   "source": [
    "print(RLC_series_circuit)"
   ]
  },
  {
   "cell_type": "code",
   "execution_count": null,
   "metadata": {},
   "outputs": [
    {
     "data": {
      "text/plain": [
       "RLC Series Circuit(resistance=10, inductance=0.1,capacitance=0.001)"
      ]
     },
     "execution_count": 31,
     "metadata": {},
     "output_type": "execute_result"
    }
   ],
   "source": [
    "RLC_series_circuit"
   ]
  },
  {
   "cell_type": "code",
   "execution_count": null,
   "metadata": {},
   "outputs": [
    {
     "name": "stdout",
     "output_type": "stream",
     "text": [
      "mappingproxy({'__dict__': <attribute '__dict__' of 'RLC_Series_Circuit' objects>,\n",
      "              '__doc__': 'A class to represent a series RLC circuit.',\n",
      "              '__init__': <function RLC_Series_Circuit.__init__ at 0x000002B37CFAC220>,\n",
      "              '__module__': '__main__',\n",
      "              '__repr__': <function RLC_Series_Circuit.__repr__ at 0x000002B37D038720>,\n",
      "              '__str__': <function RLC_Series_Circuit.__str__ at 0x000002B37D0387C0>,\n",
      "              '__weakref__': <attribute '__weakref__' of 'RLC_Series_Circuit' objects>,\n",
      "              'capacitance': <property object at 0x000002B37D03CF40>,\n",
      "              'from_standard_values': <classmethod(<function RLC_Series_Circuit.from_standard_values at 0x000002B37D038400>)>,\n",
      "              'inductance': <property object at 0x000002B37D03CF90>,\n",
      "              'resistance': <property object at 0x000002B37D03CEA0>,\n",
      "              'resonant_frequency': <staticmethod(<function RLC_Series_Circuit.resonant_frequency at 0x000002B37D0384A0>)>,\n",
      "              'total_impedance': <function RLC_Series_Circuit.total_impedance at 0x000002B37D038680>})\n"
     ]
    }
   ],
   "source": [
    "pprint(RLC_Series_Circuit.__dict__)"
   ]
  },
  {
   "cell_type": "code",
   "execution_count": null,
   "metadata": {},
   "outputs": [
    {
     "name": "stdout",
     "output_type": "stream",
     "text": [
      "mappingproxy({'__dict__': <attribute '__dict__' of 'RLC_Series_Circuit' objects>,\n",
      "              '__doc__': 'A class to represent a series RLC circuit.',\n",
      "              '__init__': <function RLC_Series_Circuit.__init__ at 0x000002B37CFAC220>,\n",
      "              '__module__': '__main__',\n",
      "              '__repr__': <function RLC_Series_Circuit.__repr__ at 0x000002B37D038720>,\n",
      "              '__str__': <function RLC_Series_Circuit.__str__ at 0x000002B37D0387C0>,\n",
      "              '__weakref__': <attribute '__weakref__' of 'RLC_Series_Circuit' objects>,\n",
      "              'capacitance': <property object at 0x000002B37D03CF40>,\n",
      "              'from_standard_values': <classmethod(<function RLC_Series_Circuit.from_standard_values at 0x000002B37D038400>)>,\n",
      "              'inductance': <property object at 0x000002B37D03CF90>,\n",
      "              'resistance': <property object at 0x000002B37D03CEA0>,\n",
      "              'resonant_frequency': <staticmethod(<function RLC_Series_Circuit.resonant_frequency at 0x000002B37D0384A0>)>,\n",
      "              'total_impedance': <function RLC_Series_Circuit.total_impedance at 0x000002B37D038680>})\n"
     ]
    }
   ],
   "source": [
    "pprint(vars((RLC_Series_Circuit)))"
   ]
  },
  {
   "cell_type": "code",
   "execution_count": null,
   "metadata": {},
   "outputs": [
    {
     "name": "stdout",
     "output_type": "stream",
     "text": [
      "{'_capacitance': 0.001, '_inductance': 0.1, '_resistance': 10}\n"
     ]
    }
   ],
   "source": [
    "pprint(RLC_series_circuit.__dict__)"
   ]
  },
  {
   "cell_type": "code",
   "execution_count": null,
   "metadata": {},
   "outputs": [
    {
     "name": "stdout",
     "output_type": "stream",
     "text": [
      "A class to represent a series RLC circuit.\n",
      "Method: __init__,   Docstring: \n",
      "        Initialize the series RLC circuit with resistance, inductance, and capacitance.   \n",
      "        Args:\n",
      "            resistance (float): Resistance in ohms. \n",
      "            inductance (float): Inductance in henries. \n",
      "            capacitance (float): Capacitance in farads. \n",
      "        ,   Annotations: {'resistance': <class 'float'>, 'inductance': <class 'float'>, 'capacitance': <class 'float'>, 'return': None}\n",
      "Method: total_impedance,   Docstring: \n",
      "        Calculate the total impedance of the RLC series circuit at a given frequency.\n",
      "        \n",
      "        Args:\n",
      "            frequency (float): Frequency in hertz. \n",
      "        \n",
      "        Returns:\n",
      "            Total impedance in ohms as a complex number.\n",
      "        \n",
      "        Formula:\n",
      "            Z_R = R\n",
      "            Z_L = jωL = j * 2 * π * f * L\n",
      "            Z_C = -j 1/ (ωC) = -j (1 / (2 * π * f * C))\n",
      "            Total impedance Z_total = Z_R + Z_L + Z_C\n",
      "        ,   Annotations: {'frequency': <class 'float'>, 'return': <class 'complex'>}\n",
      "Method: from_standard_values,   Docstring: \n",
      "        Create an RLC series circuit with standard values (1 ohm, 1 H, 1 F).\n",
      "        \n",
      "        Returns:\n",
      "            RLC_Circuit: An instance of the class with standard values.\n",
      "        ,   Annotations: {'return': 'RLC_Circuit'}\n",
      "Method: resonant_frequency,   Docstring: \n",
      "        Calculate the resonant frequency for a series RLC circuit.\n",
      "        Args:\n",
      "            inductance (float): Inductance in henries.\n",
      "            capacitance (float): Capacitance in farads.\n",
      "        Returns:\n",
      "            float: The resonant frequency in hertz.\n",
      "        Formula:\n",
      "            f_r = 1 / (2 * π * √(L * C))\n",
      "        ,   Annotations: {'inductance': <class 'float'>, 'capacitance': <class 'float'>, 'return': <class 'float'>}\n",
      "Method: __repr__,   Docstring: A  string  representation of the Resistor,   Annotations: {'return': <class 'str'>}\n",
      "Method: __str__,   Docstring: A user-friendly  representation of Resistor,   Annotations: {'return': <class 'str'>}\n"
     ]
    }
   ],
   "source": [
    "print(RLC_Series_Circuit.__doc__)\n",
    "for method in [\n",
    "    RLC_Series_Circuit.__init__,\n",
    "    RLC_Series_Circuit.total_impedance,\n",
    "    RLC_Series_Circuit.from_standard_values,\n",
    "    RLC_Series_Circuit.resonant_frequency,\n",
    "    RLC_Series_Circuit.__repr__,\n",
    "    RLC_Series_Circuit.__str__,\n",
    "]:\n",
    "    if isinstance(method, property):\n",
    "        print(f\"(Method: {method.fget.__name__}),  (Docstring: {method.__doc__}),  (Annotations: {method.fget.__annotations__})\")\n",
    "    else:\n",
    "        print(f\"Method: {method.__name__},   Docstring: {method.__doc__},   Annotations: {method.__annotations__}\")"
   ]
  },
  {
   "cell_type": "code",
   "execution_count": null,
   "metadata": {},
   "outputs": [
    {
     "name": "stdout",
     "output_type": "stream",
     "text": [
      "RLC Series Circuit with resistance: 1.0 ohm,inductance: 1.0 H, capacitance: 1.0 F\n"
     ]
    },
    {
     "data": {
      "text/plain": [
       "RLC Series Circuit(resistance=1.0, inductance=1.0,capacitance=1.0)"
      ]
     },
     "execution_count": 36,
     "metadata": {},
     "output_type": "execute_result"
    }
   ],
   "source": [
    "RLC_Series_Circuit1 = RLC_Series_Circuit()\n",
    "print(RLC_Series_Circuit1)\n",
    "RLC_Series_Circuit1"
   ]
  },
  {
   "cell_type": "markdown",
   "metadata": {},
   "source": [
    "<center><span style=\"color:green; \n",
    "font-family:Matura MT Script Capitals; \n",
    "font-weight:bold;\n",
    "font-size:35px;\">6. RLCParallelCircuit</span></center>"
   ]
  },
  {
   "cell_type": "code",
   "execution_count": null,
   "metadata": {},
   "outputs": [],
   "source": [
    "import math\n",
    "\n",
    "class RLC_Parallel_resonance_Circuit:\n",
    "    \"\"\"A class to represent a parallel RLC circuit.\"\"\"\n",
    "    \n",
    "    def __init__(self, resistance: float = 1.0, inductance: float = 1.0, capacitance: float = 1.0) -> None:\n",
    "        \"\"\"\n",
    "        Initialize the parallel RLC circuit with resistance, inductance, and capacitance.\n",
    "        \n",
    "        Args:\n",
    "            resistance (float): Resistance in ohms.\n",
    "            inductance (float): Inductance in henries.\n",
    "            capacitance (float): Capacitance in farads.\n",
    "        \"\"\"\n",
    "        self.resistance = resistance\n",
    "        self.inductance = inductance\n",
    "        self.capacitance = capacitance\n",
    "\n",
    "    @property\n",
    "    def resistance(self) -> float:\n",
    "        \"\"\"Get the resistance in ohms.\"\"\"\n",
    "        return self._resistance\n",
    "\n",
    "    @resistance.setter\n",
    "    def resistance(self, value: float) -> None:\n",
    "        \"\"\"Set the resistance in ohms.\"\"\"\n",
    "        self._resistance = value\n",
    "\n",
    "    @property\n",
    "    def inductance(self) -> float:\n",
    "        \"\"\"Get the inductance in henries.\"\"\"\n",
    "        return self._inductance\n",
    "\n",
    "    @inductance.setter\n",
    "    def inductance(self, value: float) -> None:\n",
    "        \"\"\"Set the inductance in henries.\"\"\"\n",
    "        self._inductance = value\n",
    "\n",
    "    @property\n",
    "    def capacitance(self) -> float:\n",
    "        \"\"\"Get the capacitance in farads.\"\"\"\n",
    "        return self._capacitance\n",
    "\n",
    "    @capacitance.setter\n",
    "    def capacitance(self, value: float) -> None:\n",
    "        \"\"\"Set the capacitance in farads.\"\"\"\n",
    "        self._capacitance = value\n",
    "\n",
    "    def total_impedance(self, frequency: float) -> complex:\n",
    "        \"\"\"\n",
    "        Calculate the total impedance of the RLC parallel circuit at a given frequency.\n",
    "        \n",
    "        Args:\n",
    "            frequency (float): Frequency in hertz.\n",
    "        \n",
    "        Returns:\n",
    "               Total impedance in ohms.\n",
    "        Formula:\n",
    "                Y_R = 1 / self.resistance\n",
    "                Y_L = 1 / (1j *  2 * π * f * L)\n",
    "                Y_C = 1j *  2 * π * f *)\n",
    "        \"\"\"\n",
    "        Y_R = 1 / self.resistance\n",
    "        Y_L = 1 / (1j * 2 * math.pi * frequency * self.inductance)\n",
    "        Y_C = 1j * 2 * math.pi * frequency * self.capacitance\n",
    "        Y_total = Y_R + Y_L + Y_C\n",
    "        Z_total = 1 / Y_total\n",
    "        return  Z_total\n",
    "    @staticmethod\n",
    "    def resonance_frequency(self) -> float:\n",
    "        \"\"\"\n",
    "        Calculate the resonance frequency of the RLC parallel circuit.\n",
    "        \n",
    "        Returns:\n",
    "            float: Resonance frequency in hertz.\n",
    "        \"\"\"\n",
    "        return 1 / (2 * math.pi * math.sqrt(self.inductance * self.capacitance))\n",
    "\n",
    "    @classmethod\n",
    "    def from_standard_values(cls):\n",
    "        \"\"\"\n",
    "        Create an RLC parallel circuit with standard values (1 ohm, 1 H, 1 F).\n",
    "        Returns:\n",
    "            RLC_Circuit: An instance of the class with standard values.\n",
    "        \"\"\"\n",
    "        return cls(1.0, 1.0, 1.0)\n",
    "\n",
    "    def __repr__(self) -> str:\n",
    "        \"\"\"A  string  representation of the Resistor\"\"\"\n",
    "        return (f\"RLC_Circuit(resistance={self.resistance}, inductance={self.inductance},capacitance={self.capacitance})\")\n",
    "    def __str__(self) -> str:\n",
    "        \"\"\"A  string  representation of the Resistor\"\"\"    \n",
    "        return (f\"RLC Parallel Circuit with resistance: {self.resistance} ohm,inductance: {self.inductance} H, capacitance: {self.capacitance} F\")\n"
   ]
  },
  {
   "cell_type": "code",
   "execution_count": null,
   "metadata": {},
   "outputs": [],
   "source": [
    "RLC_parallel_resonance = RLC_Parallel_resonance_Circuit(resistance=10, inductance=0.1, capacitance=0.001)"
   ]
  },
  {
   "cell_type": "code",
   "execution_count": null,
   "metadata": {},
   "outputs": [
    {
     "name": "stdout",
     "output_type": "stream",
     "text": [
      "RLC Parallel Circuit with resistance: 10 ohm,inductance: 0.1 H, capacitance: 0.001 F\n"
     ]
    }
   ],
   "source": [
    "print(RLC_parallel_resonance)"
   ]
  },
  {
   "cell_type": "code",
   "execution_count": null,
   "metadata": {},
   "outputs": [
    {
     "name": "stdout",
     "output_type": "stream",
     "text": [
      "mappingproxy({'__dict__': <attribute '__dict__' of 'RLC_Parallel_resonance_Circuit' objects>,\n",
      "              '__doc__': 'A class to represent a parallel RLC circuit.',\n",
      "              '__init__': <function RLC_Parallel_resonance_Circuit.__init__ at 0x000002B37CFAC400>,\n",
      "              '__module__': '__main__',\n",
      "              '__repr__': <function RLC_Parallel_resonance_Circuit.__repr__ at 0x000002B37CFAFB00>,\n",
      "              '__str__': <function RLC_Parallel_resonance_Circuit.__str__ at 0x000002B37CFAFBA0>,\n",
      "              '__weakref__': <attribute '__weakref__' of 'RLC_Parallel_resonance_Circuit' objects>,\n",
      "              'capacitance': <property object at 0x000002B37D02A610>,\n",
      "              'from_standard_values': <classmethod(<function RLC_Parallel_resonance_Circuit.from_standard_values at 0x000002B37CFAFA60>)>,\n",
      "              'inductance': <property object at 0x000002B37D02A660>,\n",
      "              'resistance': <property object at 0x000002B37D02A5C0>,\n",
      "              'resonance_frequency': <staticmethod(<function RLC_Parallel_resonance_Circuit.resonance_frequency at 0x000002B37CFAF9C0>)>,\n",
      "              'total_impedance': <function RLC_Parallel_resonance_Circuit.total_impedance at 0x000002B37CFAF920>})\n"
     ]
    }
   ],
   "source": [
    "pprint(RLC_Parallel_resonance_Circuit.__dict__)"
   ]
  },
  {
   "cell_type": "code",
   "execution_count": null,
   "metadata": {},
   "outputs": [
    {
     "name": "stdout",
     "output_type": "stream",
     "text": [
      "mappingproxy({'__dict__': <attribute '__dict__' of 'RLC_Parallel_resonance_Circuit' objects>,\n",
      "              '__doc__': 'A class to represent a parallel RLC circuit.',\n",
      "              '__init__': <function RLC_Parallel_resonance_Circuit.__init__ at 0x000002B37CFAC400>,\n",
      "              '__module__': '__main__',\n",
      "              '__repr__': <function RLC_Parallel_resonance_Circuit.__repr__ at 0x000002B37CFAFB00>,\n",
      "              '__str__': <function RLC_Parallel_resonance_Circuit.__str__ at 0x000002B37CFAFBA0>,\n",
      "              '__weakref__': <attribute '__weakref__' of 'RLC_Parallel_resonance_Circuit' objects>,\n",
      "              'capacitance': <property object at 0x000002B37D02A610>,\n",
      "              'from_standard_values': <classmethod(<function RLC_Parallel_resonance_Circuit.from_standard_values at 0x000002B37CFAFA60>)>,\n",
      "              'inductance': <property object at 0x000002B37D02A660>,\n",
      "              'resistance': <property object at 0x000002B37D02A5C0>,\n",
      "              'resonance_frequency': <staticmethod(<function RLC_Parallel_resonance_Circuit.resonance_frequency at 0x000002B37CFAF9C0>)>,\n",
      "              'total_impedance': <function RLC_Parallel_resonance_Circuit.total_impedance at 0x000002B37CFAF920>})\n"
     ]
    }
   ],
   "source": [
    "pprint(vars(RLC_Parallel_resonance_Circuit))"
   ]
  },
  {
   "cell_type": "code",
   "execution_count": null,
   "metadata": {},
   "outputs": [
    {
     "name": "stdout",
     "output_type": "stream",
     "text": [
      "Help on class RLC_Parallel_resonance_Circuit in module __main__:\n",
      "\n",
      "class RLC_Parallel_resonance_Circuit(builtins.object)\n",
      " |  RLC_Parallel_resonance_Circuit(resistance: float = 1.0, inductance: float = 1.0, capacitance: float = 1.0) -> None\n",
      " |\n",
      " |  A class to represent a parallel RLC circuit.\n",
      " |\n",
      " |  Methods defined here:\n",
      " |\n",
      " |  __init__(self, resistance: float = 1.0, inductance: float = 1.0, capacitance: float = 1.0) -> None\n",
      " |      Initialize the parallel RLC circuit with resistance, inductance, and capacitance.\n",
      " |\n",
      " |      Args:\n",
      " |          resistance (float): Resistance in ohms.\n",
      " |          inductance (float): Inductance in henries.\n",
      " |          capacitance (float): Capacitance in farads.\n",
      " |\n",
      " |  __repr__(self) -> str\n",
      " |      A  string  representation of the Resistor\n",
      " |\n",
      " |  __str__(self) -> str\n",
      " |      A  string  representation of the Resistor\n",
      " |\n",
      " |  total_impedance(self, frequency: float) -> complex\n",
      " |      Calculate the total impedance of the RLC parallel circuit at a given frequency.\n",
      " |\n",
      " |      Args:\n",
      " |          frequency (float): Frequency in hertz.\n",
      " |\n",
      " |      Returns:\n",
      " |             Total impedance in ohms.\n",
      " |      Formula:\n",
      " |              Y_R = 1 / self.resistance\n",
      " |              Y_L = 1 / (1j *  2 * π * f * L)\n",
      " |              Y_C = 1j *  2 * π * f *)\n",
      " |\n",
      " |  ----------------------------------------------------------------------\n",
      " |  Class methods defined here:\n",
      " |\n",
      " |  from_standard_values()\n",
      " |      Create an RLC parallel circuit with standard values (1 ohm, 1 H, 1 F).\n",
      " |      Returns:\n",
      " |          RLC_Circuit: An instance of the class with standard values.\n",
      " |\n",
      " |  ----------------------------------------------------------------------\n",
      " |  Static methods defined here:\n",
      " |\n",
      " |  resonance_frequency(self) -> float\n",
      " |      Calculate the resonance frequency of the RLC parallel circuit.\n",
      " |\n",
      " |      Returns:\n",
      " |          float: Resonance frequency in hertz.\n",
      " |\n",
      " |  ----------------------------------------------------------------------\n",
      " |  Data descriptors defined here:\n",
      " |\n",
      " |  __dict__\n",
      " |      dictionary for instance variables\n",
      " |\n",
      " |  __weakref__\n",
      " |      list of weak references to the object\n",
      " |\n",
      " |  capacitance\n",
      " |      Get the capacitance in farads.\n",
      " |\n",
      " |  inductance\n",
      " |      Get the inductance in henries.\n",
      " |\n",
      " |  resistance\n",
      " |      Get the resistance in ohms.\n",
      "\n"
     ]
    }
   ],
   "source": [
    "help(RLC_Parallel_resonance_Circuit)"
   ]
  },
  {
   "cell_type": "code",
   "execution_count": null,
   "metadata": {},
   "outputs": [
    {
     "name": "stdout",
     "output_type": "stream",
     "text": [
      "RLC Parallel Circuit with resistance: 10 ohm,inductance: 0.1 H, capacitance: 0.001 F\n"
     ]
    }
   ],
   "source": [
    "print(RLC_parallel_resonance)"
   ]
  },
  {
   "cell_type": "code",
   "execution_count": null,
   "metadata": {},
   "outputs": [
    {
     "name": "stdout",
     "output_type": "stream",
     "text": [
      "A class to represent a parallel RLC circuit.\n",
      "Method: __init__,   Docstring: \n",
      "        Initialize the parallel RLC circuit with resistance, inductance, and capacitance.\n",
      "        \n",
      "        Args:\n",
      "            resistance (float): Resistance in ohms.\n",
      "            inductance (float): Inductance in henries.\n",
      "            capacitance (float): Capacitance in farads.\n",
      "        ,   Annotations: {'resistance': <class 'float'>, 'inductance': <class 'float'>, 'capacitance': <class 'float'>, 'return': None}\n",
      "Method: total_impedance,   Docstring: \n",
      "        Calculate the total impedance of the RLC parallel circuit at a given frequency.\n",
      "        \n",
      "        Args:\n",
      "            frequency (float): Frequency in hertz.\n",
      "        \n",
      "        Returns:\n",
      "               Total impedance in ohms.\n",
      "        Formula:\n",
      "                Y_R = 1 / self.resistance\n",
      "                Y_L = 1 / (1j *  2 * π * f * L)\n",
      "                Y_C = 1j *  2 * π * f *)\n",
      "        ,   Annotations: {'frequency': <class 'float'>, 'return': <class 'complex'>}\n",
      "Method: from_standard_values,   Docstring: \n",
      "        Create an RLC parallel circuit with standard values (1 ohm, 1 H, 1 F).\n",
      "        Returns:\n",
      "            RLC_Circuit: An instance of the class with standard values.\n",
      "        ,   Annotations: {}\n",
      "Method: resonance_frequency,   Docstring: \n",
      "        Calculate the resonance frequency of the RLC parallel circuit.\n",
      "        \n",
      "        Returns:\n",
      "            float: Resonance frequency in hertz.\n",
      "        ,   Annotations: {'return': <class 'float'>}\n",
      "Method: __repr__,   Docstring: A  string  representation of the Resistor,   Annotations: {'return': <class 'str'>}\n",
      "Method: __str__,   Docstring: A  string  representation of the Resistor,   Annotations: {'return': <class 'str'>}\n"
     ]
    }
   ],
   "source": [
    "print(RLC_Parallel_resonance_Circuit.__doc__)\n",
    "for method in [\n",
    "    RLC_Parallel_resonance_Circuit.__init__,\n",
    "    RLC_Parallel_resonance_Circuit.total_impedance,\n",
    "    RLC_Parallel_resonance_Circuit.from_standard_values,\n",
    "    RLC_Parallel_resonance_Circuit.resonance_frequency,\n",
    "    RLC_Parallel_resonance_Circuit.__repr__,\n",
    "    RLC_Parallel_resonance_Circuit.__str__,\n",
    "]:\n",
    "    if isinstance(method, property):\n",
    "        print(f\"(Method: {method.fget.__name__}),  (Docstring: {method.__doc__}),  (Annotations: {method.fget.__annotations__})\")\n",
    "    else:\n",
    "        print(f\"Method: {method.__name__},   Docstring: {method.__doc__},   Annotations: {method.__annotations__}\")"
   ]
  },
  {
   "cell_type": "code",
   "execution_count": null,
   "metadata": {},
   "outputs": [
    {
     "name": "stdout",
     "output_type": "stream",
     "text": [
      "RLC Parallel Circuit with resistance: 1.0 ohm,inductance: 1.0 H, capacitance: 1.0 F\n"
     ]
    },
    {
     "data": {
      "text/plain": [
       "RLC_Circuit(resistance=1.0, inductance=1.0,capacitance=1.0)"
      ]
     },
     "execution_count": 27,
     "metadata": {},
     "output_type": "execute_result"
    }
   ],
   "source": [
    "RLC_parallel_resonance1 = RLC_Parallel_resonance_Circuit()\n",
    "print(RLC_parallel_resonance1)\n",
    "RLC_parallel_resonance1"
   ]
  },
  {
   "cell_type": "markdown",
   "metadata": {},
   "source": [
    "-----------------"
   ]
  }
 ],
 "metadata": {
  "kernelspec": {
   "display_name": "Python 3 (ipykernel)",
   "language": "python",
   "name": "python3"
  },
  "language_info": {
   "codemirror_mode": {
    "name": "ipython",
    "version": 3
   },
   "file_extension": ".py",
   "mimetype": "text/x-python",
   "name": "python",
   "nbconvert_exporter": "python",
   "pygments_lexer": "ipython3",
   "version": "3.12.4"
  }
 },
 "nbformat": 4,
 "nbformat_minor": 4
}
