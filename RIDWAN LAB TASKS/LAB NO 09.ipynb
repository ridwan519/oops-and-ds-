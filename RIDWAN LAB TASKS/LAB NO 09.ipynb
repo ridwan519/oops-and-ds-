{
 "cells": [
  {
   "cell_type": "markdown",
   "id": "5cb06709-1071-40e3-991b-c4dfa4193b03",
   "metadata": {},
   "source": [
    "<center>\n",
    "    <div style=\"\n",
    "        background: linear-gradient(90deg, #8e44ad, #3498db);\n",
    "        padding: 30px 20px;\n",
    "        border-radius: 25px;\n",
    "        box-shadow: 0 7px 6px rgba(0, 0, 0, 0.3);\n",
    "        display: inline-block;\n",
    "        border: 2px solid #CCCCFF;\n",
    "        max-width: 90%;\n",
    "    \">\n",
    "        <span style=\"\n",
    "            color: #FFBF00;\n",
    "            font-size: 25px;\n",
    "            font-family: Cooper Black;\n",
    "            letter-spacing: 2px;\n",
    "            line-height: 1.4;\n",
    "            font-weight: bold;\n",
    "            text-transform: uppercase;\n",
    "            text-shadow: 3px 3px 8px rgba(0, 0, 0, 0.5);\n",
    "        \">\n",
    "            LAB NO 09\n",
    "        </span>\n",
    "    </div>\n",
    "</center>  </div>\n",
    "</center>\n",
    "  </div>\n",
    "</center>\n"
   ]
  },
  {
   "attachments": {
    "5f0ce437-7d59-463d-8a1e-3e6e5efc67a4.PNG": {
     "image/png": "[encoded data removed]"
    }
   },
   "cell_type": "markdown",
   "id": "327f9fac-f9c5-437f-9107-15384afd9564",
   "metadata": {},
   "source": [
    "![NOW6.PNG](attachment:5f0ce437-7d59-463d-8a1e-3e6e5efc67a4.PNG)"
   ]
  },
  {
   "cell_type": "code",
   "execution_count": 25,
   "id": "c360ffef-40ad-4840-a044-877363e03ab7",
   "metadata": {},
   "outputs": [],
   "source": [
    "class HourlyEmployee:\n",
    "    def __init__(self, id, name, hours_worked, hourly_rate):\n",
    "        self.id = id\n",
    "        self.name = name\n",
    "        self.hours_worked = hours_worked\n",
    "        self.hourly_rate = hourly_rate\n",
    "\n",
    "    def calculate_payroll(self):\n",
    "        return self.hours_worked * self.hourly_rate\n",
    "\n",
    "class Secretary:\n",
    "    def __init__(self, id, name):\n",
    "        self.id = id\n",
    "        self.name = name\n",
    "\n",
    "    def work(self, hours):\n",
    "        return f\"{self.name} worked for {hours} hours doing paperwork.\"\n"
   ]
  },
  {
   "cell_type": "code",
   "execution_count": 26,
   "id": "055ef8ea-ede2-4eb0-8bd4-9cb9dee48b09",
   "metadata": {},
   "outputs": [],
   "source": [
    "class TemporarySecretary(Secretary, HourlyEmployee):\n",
    "    pass\n",
    "\n",
    "temporary_secretary = TemporarySecretary(5, \"DANISH\")\n"
   ]
  },
  {
   "cell_type": "code",
   "execution_count": 27,
   "id": "93b873a1-8f49-44b4-8c03-d1521b5724b4",
   "metadata": {},
   "outputs": [
    {
     "name": "stdout",
     "output_type": "stream",
     "text": [
      "(<class '__main__.TemporarySecretary'>, <class '__main__.Secretary'>, <class '__main__.HourlyEmployee'>, <class 'object'>)\n"
     ]
    }
   ],
   "source": [
    "print(TemporarySecretary.__mro__)\n"
   ]
  },
  {
   "cell_type": "code",
   "execution_count": 28,
   "id": "b42cfc47-2376-4350-801a-9478cc231ff7",
   "metadata": {},
   "outputs": [],
   "source": [
    "class TemporarySecretary(HourlyEmployee, Secretary):\n",
    "    pass\n",
    "\n",
    "temporary_secretary = TemporarySecretary(5, \"DANISH\", 40, 9)\n"
   ]
  },
  {
   "cell_type": "code",
   "execution_count": 29,
   "id": "9ea9e3c3-da16-4424-b9e8-564994e0121d",
   "metadata": {},
   "outputs": [
    {
     "name": "stdout",
     "output_type": "stream",
     "text": [
      "(<class '__main__.TemporarySecretary'>, <class '__main__.HourlyEmployee'>, <class '__main__.Secretary'>, <class 'object'>)\n"
     ]
    }
   ],
   "source": [
    "print(TemporarySecretary.__mro__)\n"
   ]
  },
  {
   "cell_type": "code",
   "execution_count": 30,
   "id": "f6f36c68-aac2-49a8-b174-18bdd790e6dc",
   "metadata": {},
   "outputs": [],
   "source": [
    "class TemporarySecretary(HourlyEmployee, Secretary):\n",
    "    def __init__(self, id, name, hours_worked, hourly_rate):\n",
    "        super().__init__(id, name, hours_worked, hourly_rate)\n",
    "\n",
    "temporary_secretary = TemporarySecretary(5, \"DANISH\", 40, 9)\n"
   ]
  },
  {
   "cell_type": "code",
   "execution_count": 31,
   "id": "3282b68a-7535-4570-90df-f373045ce622",
   "metadata": {},
   "outputs": [],
   "source": [
    "class TemporarySecretary(Secretary, HourlyEmployee):\n",
    "    def __init__(self, id, name, hours_worked, hourly_rate):\n",
    "        HourlyEmployee.__init__(self, id, name, hours_worked, hourly_rate)\n",
    "\n"
   ]
  },
  {
   "cell_type": "code",
   "execution_count": 32,
   "id": "79ee2858-c736-4185-873d-6faf8881a274",
   "metadata": {},
   "outputs": [],
   "source": [
    "class TemporarySecretary(Secretary, HourlyEmployee):\n",
    "    def __init__(self, id, name, hours_worked, hourly_rate):\n",
    "        HourlyEmployee.__init__(self, id, name, hours_worked, hourly_rate)\n",
    "        Secretary.__init__(self, id, name)\n",
    "\n",
    "    def calculate_payroll(self):\n",
    "        return HourlyEmployee.calculate_payroll(self)\n"
   ]
  },
  {
   "cell_type": "code",
   "execution_count": 33,
   "id": "201ab8ab-9d11-43c4-a4b1-6b0340ed4cf0",
   "metadata": {},
   "outputs": [
    {
     "name": "stdout",
     "output_type": "stream",
     "text": [
      "DANISH worked for 40 hours doing paperwork.\n",
      "Payroll for DANISH: $360.00\n"
     ]
    }
   ],
   "source": [
    "temporary_secretary = TemporarySecretary(5, \"DANISH\", 40, 9)\n",
    "company_employees = [temporary_secretary]\n",
    "\n",
    "class ProductivitySystem:\n",
    "    def track(self, employees, hours):\n",
    "        for employee in employees:\n",
    "            print(employee.work(hours))\n",
    "\n",
    "productivity_system = ProductivitySystem()\n",
    "productivity_system.track(company_employees, 40)\n",
    "\n",
    "class PayrollSystem:\n",
    "    def calculate_payroll(self, employees):\n",
    "        for employee in employees:\n",
    "            print(f\"Payroll for {employee.name}: ${employee.calculate_payroll():.2f}\")\n",
    "\n",
    "payroll_system = PayrollSystem()\n",
    "payroll_system.calculate_payroll(company_employees)\n"
   ]
  },
  {
   "cell_type": "code",
   "execution_count": null,
   "id": "b17b1728-2739-41ea-9cc5-2b1c8acf59be",
   "metadata": {},
   "outputs": [],
   "source": []
  },
  {
   "attachments": {
    "79591806-e45e-41df-bc9a-72789f773177.PNG": {
     "image/png": "[encoded data removed]"
    }
   },
   "cell_type": "markdown",
   "id": "6b0800da-975a-4d24-a6a5-ec807463997a",
   "metadata": {},
   "source": [
    "![NOW7.PNG](attachment:79591806-e45e-41df-bc9a-72789f773177.PNG)"
   ]
  },
  {
   "cell_type": "code",
   "execution_count": 34,
   "id": "207808ba-bcfd-4384-92db-6f51c922087e",
   "metadata": {},
   "outputs": [],
   "source": [
    "class Rectangle:\n",
    "    def __init__(self, length, width, **kwargs):\n",
    "        self.length = length\n",
    "        self.width = width\n",
    "        super().__init__(**kwargs)\n",
    "\n",
    "    def area(self):\n",
    "        return self.length * self.width\n",
    "\n",
    "    def perimeter(self):\n",
    "        return 2 * self.length + 2 * self.width\n",
    "\n",
    "class Square(Rectangle):\n",
    "    def __init__(self, length, **kwargs):\n",
    "        super().__init__(length=length, width=length, **kwargs)\n",
    "\n",
    "class Triangle:\n",
    "    def __init__(self, base, height, **kwargs):\n",
    "        self.base = base\n",
    "        self.height = height\n",
    "        super().__init__(**kwargs)\n",
    "\n",
    "    def tri_area(self):\n",
    "        return 0.5 * self.base * self.height\n",
    "\n",
    "class RightPyramid(Square, Triangle):\n",
    "    def __init__(self, base, slant_height, **kwargs):\n",
    "        self.base = base\n",
    "        self.slant_height = slant_height\n",
    "        kwargs[\"height\"] = slant_height\n",
    "        kwargs[\"length\"] = base\n",
    "        super().__init__(base=base, **kwargs)\n",
    "\n",
    "    def area(self):\n",
    "        base_area = super().area()\n",
    "        perimeter = super().perimeter()\n",
    "        return 0.5 * perimeter * self.slant_height + base_area\n",
    "\n",
    "    def area_2(self):\n",
    "        base_area = super().area()\n",
    "        triangle_area = super().tri_area()\n",
    "        return triangle_area * 4 + base_area\n",
    "class SurfaceAreaMixin:\n",
    "    def surface_area(self):\n",
    "        surface_area = 0\n",
    "        for surface in self.surfaces:\n",
    "            surface_area += surface.area(self)\n",
    "\n",
    "        return surface_area\n",
    "\n",
    "class Cube(Square, SurfaceAreaMixin):\n",
    "    def __init__(self, length):\n",
    "        super().__init__(length)\n",
    "        self.surfaces = [Square, Square, Square, Square, Square, Square]\n",
    "\n",
    "class RightPyramid(Square, Triangle, SurfaceAreaMixin):\n",
    "    def __init__(self, base, slant_height):\n",
    "        self.base = base\n",
    "        self.slant_height = slant_height\n",
    "        self.height = slant_height\n",
    "        self.length = base\n",
    "        self.width = base\n",
    "\n",
    "        self.surfaces = [Square, Triangle, Triangle, Triangle, Triangle]\n",
    "\n"
   ]
  },
  {
   "cell_type": "code",
   "execution_count": 35,
   "id": "c0423d99-4c07-4e2f-bdb8-7515158c6d5d",
   "metadata": {},
   "outputs": [
    {
     "name": "stdout",
     "output_type": "stream",
     "text": [
      "54\n"
     ]
    }
   ],
   "source": [
    "cube = Cube(3)\n",
    "print(cube.surface_area())\n"
   ]
  },
  {
   "cell_type": "code",
   "execution_count": 36,
   "id": "9410ef88-4735-4c8a-8c8d-02413a2b87e1",
   "metadata": {},
   "outputs": [
    {
     "name": "stdout",
     "output_type": "stream",
     "text": [
      "(<class '__main__.Cube'>, <class '__main__.Square'>, <class '__main__.Rectangle'>, <class '__main__.SurfaceAreaMixin'>, <class 'object'>)\n"
     ]
    }
   ],
   "source": [
    "print(Cube.__mro__)\n"
   ]
  },
  {
   "cell_type": "code",
   "execution_count": 38,
   "id": "f2931b60-6d0d-415d-9554-62158e6d4f94",
   "metadata": {},
   "outputs": [
    {
     "name": "stdout",
     "output_type": "stream",
     "text": [
      "(<class '__main__.RightPyramid'>, <class '__main__.Square'>, <class '__main__.Rectangle'>, <class '__main__.Triangle'>, <class '__main__.SurfaceAreaMixin'>, <class 'object'>)\n"
     ]
    }
   ],
   "source": [
    "print(RightPyramid.__mro__)\n"
   ]
  },
  {
   "cell_type": "code",
   "execution_count": null,
   "id": "9964acb1-7275-49da-8a4a-f03d1e7dd4d7",
   "metadata": {},
   "outputs": [],
   "source": []
  },
  {
   "attachments": {
    "b1b6d1fa-6b4a-4892-a3f0-2efe57e7d05e.PNG": {
     "image/png": "[encoded data removed]"
    }
   },
   "cell_type": "markdown",
   "id": "b7ed2b3c-538c-4efd-be75-ce536161d250",
   "metadata": {},
   "source": [
    "![NOW8.PNG](attachment:b1b6d1fa-6b4a-4892-a3f0-2efe57e7d05e.PNG)"
   ]
  },
  {
   "cell_type": "code",
   "execution_count": null,
   "id": "efea9f95-30f5-4859-945f-1ebc7a61a305",
   "metadata": {},
   "outputs": [],
   "source": []
  },
  {
   "cell_type": "code",
   "execution_count": 58,
   "id": "a3028861-8ff0-45c2-b95d-82a1971e4cc5",
   "metadata": {},
   "outputs": [],
   "source": [
    "# Base Class for Staff\n",
    "class Staff:\n",
    "    def __init__(self, name, staff_id):\n",
    "        self.name = name\n",
    "        self.staff_id = staff_id\n",
    "\n",
    "    def display_info(self):\n",
    "        return f\"Name: {self.name}, ID: {self.staff_id}\"\n",
    "\n",
    "\n",
    "# Admin Staff Class\n",
    "class AdminStaff(Staff):\n",
    "    def __init__(self, name, staff_id, role):\n",
    "        super().__init__(name, staff_id)\n",
    "        self.role = role\n",
    "\n",
    "    def display_info(self):\n",
    "        return f\"{super().display_info()}, Role: {self.role}\"\n",
    "\n",
    "\n",
    "# Faculty Staff Class\n",
    "class FacultyStaff(Staff):\n",
    "    def __init__(self, name, staff_id, designation):\n",
    "        super().__init__(name, staff_id)\n",
    "        self.designation = designation\n",
    "\n",
    "    def display_info(self):\n",
    "        return f\"{super().display_info()}, Designation: {self.designation}\"\n",
    "\n",
    "\n",
    "# Multiple Role Class (e.g., Chairman or Semester Coordinator)\n",
    "class MultipleRole(AdminStaff, FacultyStaff):\n",
    "    def __init__(self, name, staff_id, role, designation):\n",
    "        AdminStaff.__init__(self, name, staff_id, role)\n",
    "        FacultyStaff.__init__(self, name, staff_id, designation)\n",
    "\n",
    "    def display_info(self):\n",
    "        return f\"{super(AdminStaff, self).display_info()}, Role: {self.role}, Designation: {self.designation}\"\n",
    "\n",
    "\n"
   ]
  },
  {
   "cell_type": "code",
   "execution_count": 62,
   "id": "34291bbc-c36d-4f6f-81c0-3270c326e945",
   "metadata": {},
   "outputs": [],
   "source": [
    "if __name__ == \"__main__\":\n",
    "    # Admin Staff Examples\n",
    "    lab_engineer = AdminStaff(\"Danish\", 101, \"Lab Engineer\")\n",
    "    lab_technician = AdminStaff(\"Ahmad Yar\", 102, \"Lab Technician\")\n",
    "\n"
   ]
  },
  {
   "cell_type": "code",
   "execution_count": 64,
   "id": "1e2b5d4b-6f84-48d2-a524-5fa82187ad86",
   "metadata": {},
   "outputs": [],
   "source": [
    "\n",
    "    # Faculty Staff Examples\n",
    "    lecturer = FacultyStaff(\"Hammad\", 201, \"Lecturer\")\n",
    "    professor = FacultyStaff(\"Javed\", 202, \"Professor\")\n",
    "\n",
    "  "
   ]
  },
  {
   "cell_type": "code",
   "execution_count": null,
   "id": "a84aa6c8-243d-4fe4-908e-b676b75d1372",
   "metadata": {},
   "outputs": [],
   "source": []
  }
 ],
 "metadata": {
  "kernelspec": {
   "display_name": "Python 3 (ipykernel)",
   "language": "python",
   "name": "python3"
  },
  "language_info": {
   "codemirror_mode": {
    "name": "ipython",
    "version": 3
   },
   "file_extension": ".py",
   "mimetype": "text/x-python",
   "name": "python",
   "nbconvert_exporter": "python",
   "pygments_lexer": "ipython3",
   "version": "3.12.4"
  }
 },
 "nbformat": 4,
 "nbformat_minor": 5
}
