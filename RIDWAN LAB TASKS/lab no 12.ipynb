{
 "cells": [
  {
   "cell_type": "markdown",
   "id": "f4351fe0-af57-4eb5-a3a6-0429fb8b5c5c",
   "metadata": {},
   "source": [
    "<center>\n",
    "    <div style=\"\n",
    "        background: linear-gradient(90deg, #8e44ad, #3498db);\n",
    "        padding: 30px 20px;\n",
    "        border-radius: 25px;\n",
    "        box-shadow: 0 7px 6px rgba(0, 0, 0, 0.3);\n",
    "        display: inline-block;\n",
    "        border: 2px solid #CCCCFF;\n",
    "        max-width: 90%;\n",
    "    \">\n",
    "        <span style=\"\n",
    "            color: #FFBF00;\n",
    "            font-size: 25px;\n",
    "            font-family: Cooper Black;\n",
    "            letter-spacing: 2px;\n",
    "            line-height: 1.4;\n",
    "            font-weight: bold;\n",
    "            text-transform: uppercase;\n",
    "            text-shadow: 3px 3px 8px rgba(0, 0, 0, 0.5);\n",
    "        \">\n",
    "            LAB NO 12\n",
    "        </span>\n",
    "    </div>\n",
    "</center>  </div>\n",
    "</center>\n",
    "  </div>\n",
    "</center>\n"
   ]
  },
  {
   "cell_type": "markdown",
   "id": "0312db2a-a094-43e8-a966-c87b153376f1",
   "metadata": {},
   "source": [
    "<span style=\"color: #000000;\n",
    "font-size: 44px;\n",
    "transition: color 0.3s;\">&#x21DD; </span>\n",
    "<span style=\"color: #ff0000;\n",
    "    font-family: Arial Black;\n",
    "font-size: 35px; font-weight: bold; \n",
    "text-shadow: 0px 4px 2px rgb(0, 0, 0);\">\n",
    "    Lab WORK Tasks :</span>"
   ]
  },
  {
   "cell_type": "markdown",
   "id": "b59244b3-09c1-485a-a9e5-8cea6e315025",
   "metadata": {},
   "source": [
    "<center><span style=\"color:blue; \n",
    "font-family:Algerian; \n",
    "font-weight:bold;\n",
    "font-size:35px;\">1. LIST QUEUE:  </span></center>"
   ]
  },
  {
   "cell_type": "code",
   "execution_count": 3,
   "id": "3ba88bff-e1a6-44d5-a361-479332ce9ba5",
   "metadata": {},
   "outputs": [],
   "source": [
    "class Queue:\n",
    "    def __init__(self):\n",
    "        self.items = []\n",
    "\n",
    "    def is_empty(self):\n",
    "        return len(self.items) == 0\n",
    "\n",
    "    def enqueue(self, item):\n",
    "        self.items.append(item)\n",
    "\n",
    "    def dequeue(self):\n",
    "        if not self.is_empty():\n",
    "            return self.items.pop(0)\n",
    "        else:\n",
    "            print(\"Queue is empty. Cannot dequeue.\")\n",
    "            return None\n",
    "\n"
   ]
  },
  {
   "cell_type": "code",
   "execution_count": 4,
   "id": "05db256c-030e-4805-aa1e-f688c53f64ad",
   "metadata": {},
   "outputs": [
    {
     "name": "stdout",
     "output_type": "stream",
     "text": [
      "Dequeue: 1\n",
      "Dequeue: 2\n",
      "Is the queue empty? False\n"
     ]
    }
   ],
   "source": [
    "# Example usage\n",
    "if __name__ == \"__main__\":\n",
    "    my_queue = Queue()\n",
    "    my_queue.enqueue(1)\n",
    "    my_queue.enqueue(2)\n",
    "    my_queue.enqueue(3)\n",
    "\n",
    "    print(\"Dequeue:\", my_queue.dequeue())  # Output: Dequeue: 1\n",
    "    print(\"Dequeue:\", my_queue.dequeue())  # Output: Dequeue: 2\n",
    "\n",
    "    print(\"Is the queue empty?\", my_queue.is_empty())  # Output: Is the queue empty? False"
   ]
  },
  {
   "cell_type": "markdown",
   "id": "73db6daf-f1ab-4864-9d62-d3719fd30407",
   "metadata": {},
   "source": [
    "<center><span style=\"color:blue; \n",
    "font-family:Algerian; \n",
    "font-weight:bold;\n",
    "font-size:35px;\">2. DEQUE QUEUE:   </span></center>"
   ]
  },
  {
   "cell_type": "code",
   "execution_count": 5,
   "id": "47289312-9ed7-485f-969b-0b05530fc31e",
   "metadata": {},
   "outputs": [],
   "source": [
    "from collections import deque\n",
    "\n",
    "class DequeQueue:\n",
    "    def __init__(self):\n",
    "        self.items = deque()\n",
    "\n",
    "    def is_empty(self):\n",
    "        return len(self.items) == 0\n",
    "\n",
    "    def enqueue(self, item):\n",
    "        self.items.append(item)\n",
    "\n",
    "    def dequeue(self):\n",
    "        if not self.is_empty():\n",
    "            return self.items.popleft()\n",
    "        else:\n",
    "            print(\"Queue is empty. Cannot dequeue.\")\n",
    "            return None\n",
    "\n"
   ]
  },
  {
   "cell_type": "code",
   "execution_count": 6,
   "id": "58a6ae7b-1a31-4c67-91e0-529fc8420dc3",
   "metadata": {},
   "outputs": [
    {
     "name": "stdout",
     "output_type": "stream",
     "text": [
      "Dequeue: 1\n",
      "Dequeue: 2\n",
      "Is the queue empty? False\n"
     ]
    }
   ],
   "source": [
    "# Example usage\n",
    "if __name__ == \"__main__\":\n",
    "    my_queue = DequeQueue()\n",
    "    my_queue.enqueue(1)\n",
    "    my_queue.enqueue(2)\n",
    "    my_queue.enqueue(3)\n",
    "\n",
    "    print(\"Dequeue:\", my_queue.dequeue())  # Output: Dequeue: 1\n",
    "    print(\"Dequeue:\", my_queue.dequeue())  # Output: Dequeue: 2\n",
    "\n",
    "    print(\"Is the queue empty?\", my_queue.is_empty())  # Output: Is the queue empty? False"
   ]
  },
  {
   "cell_type": "markdown",
   "id": "d10037d7-91a0-4c75-b4a4-f4689b7b3f00",
   "metadata": {},
   "source": [
    "<center><span style=\"color:blue; \n",
    "font-family:Algerian; \n",
    "font-weight:bold;\n",
    "font-size:35px;\">3. NODE BASE QUEUE:  </span></center>"
   ]
  },
  {
   "cell_type": "code",
   "execution_count": 7,
   "id": "540fa07e-cc35-43ff-aa7c-f83b7e168eb7",
   "metadata": {},
   "outputs": [],
   "source": [
    "class Node:\n",
    "    def __init__(self, data=None):\n",
    "        self.data = data\n",
    "        self.next = None\n",
    "\n",
    "class NodeQueue:\n",
    "    def __init__(self):\n",
    "        self.front = None\n",
    "        self.rear = None\n",
    "\n",
    "    def is_empty(self):\n",
    "        return self.front is None\n",
    "\n",
    "    def enqueue(self, data):\n",
    "        new_node = Node(data)\n",
    "        if self.rear is None:\n",
    "            self.front = new_node\n",
    "            self.rear = new_node\n",
    "        else:\n",
    "            self.rear.next = new_node\n",
    "            self.rear = new_node\n",
    "\n",
    "    def dequeue(self):\n",
    "        if self.is_empty():\n",
    "            print(\"Queue is empty. Cannot dequeue.\")\n",
    "            return None\n",
    "        removed_data = self.front.data\n",
    "        self.front = self.front.next\n",
    "        if self.front is None:\n",
    "            self.rear = None\n",
    "        return removed_data\n",
    "\n"
   ]
  },
  {
   "cell_type": "code",
   "execution_count": 8,
   "id": "2c5219fd-3c10-4815-b8ef-91d718221ed3",
   "metadata": {},
   "outputs": [
    {
     "name": "stdout",
     "output_type": "stream",
     "text": [
      "Dequeue: 1\n",
      "Dequeue: 2\n",
      "Is the queue empty? False\n"
     ]
    }
   ],
   "source": [
    "# Example usage\n",
    "my_node_queue = NodeQueue()\n",
    "my_node_queue.enqueue(1)\n",
    "my_node_queue.enqueue(2)\n",
    "my_node_queue.enqueue(3)\n",
    "\n",
    "print(\"Dequeue:\", my_node_queue.dequeue())\n",
    "print(\"Dequeue:\", my_node_queue.dequeue())\n",
    "print(\"Is the queue empty?\", my_node_queue.is_empty())"
   ]
  },
  {
   "cell_type": "code",
   "execution_count": null,
   "id": "1b36833d-6676-45f8-b60c-8d095716f636",
   "metadata": {},
   "outputs": [],
   "source": []
  }
 ],
 "metadata": {
  "kernelspec": {
   "display_name": "Python 3 (ipykernel)",
   "language": "python",
   "name": "python3"
  },
  "language_info": {
   "codemirror_mode": {
    "name": "ipython",
    "version": 3
   },
   "file_extension": ".py",
   "mimetype": "text/x-python",
   "name": "python",
   "nbconvert_exporter": "python",
   "pygments_lexer": "ipython3",
   "version": "3.12.4"
  }
 },
 "nbformat": 4,
 "nbformat_minor": 5
}
